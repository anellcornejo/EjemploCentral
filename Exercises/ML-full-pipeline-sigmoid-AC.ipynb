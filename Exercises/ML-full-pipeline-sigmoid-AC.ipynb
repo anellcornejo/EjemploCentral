{
 "cells": [
  {
   "cell_type": "markdown",
   "metadata": {},
   "source": [
    "# The Elements of Statistical Learning\n",
    "\n",
    "## Ejercicio completo de machine learning 1: \n",
    "\n",
    "Clasificación de puntos en un plano según dos posibles categorias, puntos rojos o azules\n",
    "\n",
    "Este notebook incluye todos los pasos tipicos de un ejercicio de Machine Learning, enfocandose en un problema de clasificacion entre dos categorias (rojo o azul) de los puntos de un plano. Todo esto en busqueda del grafico 2.4 del libro The Elements. Este notebook se dividirá en las siguientes partes:\n",
    "\n",
    "- Simulación de datos del train y del test\n",
    "    - En muchos ejercicios de Machine Learning estos datos son dados como condicion inicial, pero en nuestro caso nosotros los simulamos. Debemos recordar que una de las suposiciones de ML es que los datos siguen cierta funcion de probabilidad y que en principio conociendo esta funcion podriamos simularlos\n",
    "- Definicion de la función para calcular las predicciones o hacer la clasificacion (lineal,sigmoide, Knn, etc)\n",
    "    - En el lenguaje de ML esta funcion es llamada Hipótesis\n",
    "- Definicion de la función costo \n",
    "    -  En un primer caso usamos RSS como funcion de costo, pero en general podriamos considerar otras funciones de costo, dependiendo de las propiedades particulares de cada problema\n",
    "- Minimización de la función costo para encontrar los parámetros libres de la hipótesis \n",
    "    - En un primer caso encontramos los valores de los parametros theta de la funcion lineal minimizando analiticamente la funcion costo RSS, en lenguaje de ML esta ecuación es denominada Normal Equation. \n",
    "    - Sin embargo es necesario notar que también existen otros metodos, que son numericos en general. Por ejemplo, anteriormente usamos la busqueda aleatoria de los paramteros seleccionando sistematicamente los valores que reducen RSS. Otro metodo, con nombre de hecho, es Gradient Descent que es el mas tipico de Machine Learning.\n",
    "- Visualizacion de las predicciones en el train y el test\n",
    "- Evaluacion cuantitativa de las predicciones en terminos de la accuracy y el test error\n",
    "    - Estos resultados nos permitiran escoger los mejores modelos para el problema planteado\n",
    "- Gráfico de la misclassification curves (Figure 2.4)"
   ]
  },
  {
   "cell_type": "markdown",
   "metadata": {},
   "source": [
    "Inicialmente importamos la librería que utilizaremos:"
   ]
  },
  {
   "cell_type": "code",
   "execution_count": 1,
   "metadata": {},
   "outputs": [],
   "source": [
    "import numpy as np\n",
    "import matplotlib.pyplot as plt\n",
    "import random"
   ]
  },
  {
   "cell_type": "markdown",
   "metadata": {},
   "source": [
    "## Simulación de datos:"
   ]
  },
  {
   "cell_type": "markdown",
   "metadata": {},
   "source": [
    "Dado las indicaciones en la pagina 16 del libro \"The Elements of Statistical Learning\", se puede entender que el proceso de simulación del set de datos de entrenamiento es el siguiente.\n",
    "\n",
    "1- Primero se escoge el color a simular\n",
    "\n",
    "2- Dado el color, conocemos el centro y la matriz de covarianza de una gaussiana bivariada\n",
    "\n",
    "3- Con esta gaussiana bivariada generamos 10 centros. Esto lo hacemos solo una vez porque nos permite generar las observaciones asociadas a un set fijo de gaussianas bivariadas, 10 en nuestro caso. La idea de la simulación es generar observaciones que representen instancias asociados a un set de gaussianas bivariadas, no con respecto a una sola de ellas\n",
    "\n",
    "4- Con estos valores de los centros, mas una covarianza fija igual a la identidad/5, podemos asumir que conocemos los parametros de 10 gaussianas bivariadas\n",
    "\n",
    "5- Considerando estas 10 gaussianas bivariadas podemos generar nuestras observaciones\n",
    "\n",
    "6- Cada observacion se genera de la siguiente forma:\n",
    "\n",
    "    1- Se escoge uno de los centros dados anteriormente y su gaussiana bivariada correspondiente\n",
    "    2- Se genera un valor de la posicion siguiendo esta gaussiana bivariada   \n",
    "    3- Se vuelve a 6.1 y se repite el proceso, 100 veces por cada color"
   ]
  },
  {
   "cell_type": "markdown",
   "metadata": {},
   "source": [
    "### Definicion de los centros de las gaussianas bivariadas"
   ]
  },
  {
   "cell_type": "code",
   "execution_count": 2,
   "metadata": {},
   "outputs": [],
   "source": [
    "def centros_asociados_a_cada_color(color, kcentros):\n",
    "   \n",
    "    centro = np.array([0,0])\n",
    "    covarianza = np.identity(2)\n",
    "    \n",
    "    if color == 0: #azul\n",
    "        centro = np.array([1,0])\n",
    "    \n",
    "    if color == 1: #rojo\n",
    "        centro = np.array([0,1])\n",
    "\n",
    "    lista_de_centros = np.random.multivariate_normal(centro,covarianza,kcentros).T\n",
    "        \n",
    "    return lista_de_centros"
   ]
  },
  {
   "cell_type": "code",
   "execution_count": 3,
   "metadata": {},
   "outputs": [],
   "source": [
    "centros_azul = centros_asociados_a_cada_color(0,10)\n",
    "centros_rojo = centros_asociados_a_cada_color(1,10)"
   ]
  },
  {
   "cell_type": "code",
   "execution_count": 4,
   "metadata": {},
   "outputs": [],
   "source": [
    "def visualize_colors(ptos_azul, ptos_rojo):\n",
    "\n",
    "    x1azul = ptos_azul[0]\n",
    "    x2azul = ptos_azul[1]\n",
    "    \n",
    "    x1rojo = ptos_rojo[0]\n",
    "    x2rojo = ptos_rojo[1]\n",
    "    \n",
    "    plt.plot(x1azul,x2azul,\"bo\")\n",
    "    plt.plot(x1rojo,x2rojo,\"ro\")\n",
    "    plt.axis([-4,4,-4,4])\n",
    "    plt.title(\"Distribucion de puntos segun el color\")\n",
    "    plt.show() "
   ]
  },
  {
   "cell_type": "code",
   "execution_count": 5,
   "metadata": {},
   "outputs": [
    {
     "data": {
      "image/png": "[encoded data removed]",
      "text/plain": [
       "<Figure size 432x288 with 1 Axes>"
      ]
     },
     "metadata": {
      "needs_background": "light"
     },
     "output_type": "display_data"
    }
   ],
   "source": [
    "visualize_colors(centros_azul, centros_rojo)"
   ]
  },
  {
   "cell_type": "markdown",
   "metadata": {},
   "source": [
    "### Implementacion de la funcion que simula los datos"
   ]
  },
  {
   "cell_type": "code",
   "execution_count": 6,
   "metadata": {},
   "outputs": [],
   "source": [
    "def Simulacion(centros, N):\n",
    "    \n",
    "    Ncentros = centros.shape[1]\n",
    "    \n",
    "    #Inicializamos la lista de observaciones \n",
    "    observations = np.zeros((2,N))\n",
    "    \n",
    "    #Definimos un valor global para la covarianza\n",
    "    covarianza = np.identity(2)/5\n",
    "       \n",
    "    #hacemos un loop entre 0 y N para generar todos las observaciones requeridas\n",
    "    \n",
    "    for obs in range(0,N):\n",
    "        #generamos un numero aleatorio entre los números 0 y Ncentros-1 para escoger el centro de nuestra gaussiana bivariada\n",
    "        indice_del_centro = random.randint(0, Ncentros-1)\n",
    "        \n",
    "        xcentro = centros[0,indice_del_centro]\n",
    "        ycentro = centros[1,indice_del_centro]\n",
    "        \n",
    "        mk_centro = np.array([xcentro, ycentro])\n",
    "        \n",
    "        centro_aux = np.random.multivariate_normal(mk_centro,covarianza,1).T\n",
    "    \n",
    "        observations[0,obs] = centro_aux[0,0]\n",
    "        observations[1,obs] = centro_aux[1,0]\n",
    "    \n",
    "    return observations"
   ]
  },
  {
   "cell_type": "markdown",
   "metadata": {},
   "source": [
    "### Datos del conjunto de entrenamiento"
   ]
  },
  {
   "cell_type": "code",
   "execution_count": 7,
   "metadata": {},
   "outputs": [],
   "source": [
    "ptos_observados_azul_train =  Simulacion(centros_azul, 100)\n",
    "ptos_observados_rojo_train =  Simulacion(centros_rojo, 100)"
   ]
  },
  {
   "cell_type": "code",
   "execution_count": 8,
   "metadata": {},
   "outputs": [
    {
     "data": {
      "image/png": "[encoded data removed]",
      "text/plain": [
       "<Figure size 432x288 with 1 Axes>"
      ]
     },
     "metadata": {
      "needs_background": "light"
     },
     "output_type": "display_data"
    }
   ],
   "source": [
    "visualize_colors(ptos_observados_azul_train, ptos_observados_rojo_train)"
   ]
  },
  {
   "cell_type": "markdown",
   "metadata": {},
   "source": [
    "### Datos del  conjunto de testeo\n",
    "Se generarán 5000 puntos para cada color (en total serán 10000 puntos) a partir de los mismos 20 centros usados para el conjunto de entrenamiento. "
   ]
  },
  {
   "cell_type": "code",
   "execution_count": 9,
   "metadata": {},
   "outputs": [],
   "source": [
    "ptos_observados_azul_test =  Simulacion(centros_azul, 5000)\n",
    "ptos_observados_rojo_test =  Simulacion(centros_rojo, 5000)"
   ]
  },
  {
   "cell_type": "code",
   "execution_count": 10,
   "metadata": {},
   "outputs": [
    {
     "data": {
      "image/png": "[encoded data removed]",
      "text/plain": [
       "<Figure size 432x288 with 1 Axes>"
      ]
     },
     "metadata": {
      "needs_background": "light"
     },
     "output_type": "display_data"
    }
   ],
   "source": [
    "visualize_colors(ptos_observados_azul_test, ptos_observados_rojo_test)"
   ]
  },
  {
   "cell_type": "markdown",
   "metadata": {},
   "source": [
    "Se generará un segundo conjunto de entrenamiento con 500 puntos para cada color (siendo en total 1000 puntos) a partir de los 20 centros usados para el conjunto de entrenamiento. Esto se realiza debido a las limitaciones de la computadora (en la que se forjó originalmente el código) para analizar el gran número de datos que se formarán más adelante en knn.  "
   ]
  },
  {
   "cell_type": "code",
   "execution_count": 11,
   "metadata": {},
   "outputs": [],
   "source": [
    "ptos_observados_azul_test_2 =  Simulacion(centros_azul, 500) \n",
    "ptos_observados_rojo_test_2 =  Simulacion(centros_rojo, 500)"
   ]
  },
  {
   "cell_type": "code",
   "execution_count": 12,
   "metadata": {},
   "outputs": [
    {
     "data": {
      "image/png": "[encoded data removed]",
      "text/plain": [
       "<Figure size 432x288 with 1 Axes>"
      ]
     },
     "metadata": {
      "needs_background": "light"
     },
     "output_type": "display_data"
    }
   ],
   "source": [
    "visualize_colors(ptos_observados_azul_test_2, ptos_observados_rojo_test_2)"
   ]
  },
  {
   "cell_type": "markdown",
   "metadata": {},
   "source": [
    "### Formación del Conjunto de Entrenamiento (SET_train) y del Conjunto de Testeo (SET_test) "
   ]
  },
  {
   "cell_type": "code",
   "execution_count": 13,
   "metadata": {},
   "outputs": [],
   "source": [
    "SET_train=[]\n",
    "\n",
    "x1azul_train = ptos_observados_azul_train[0,:]\n",
    "x2azul_train = ptos_observados_azul_train[1,:]\n",
    "\n",
    "x1rojo_train = ptos_observados_rojo_train[0,:]\n",
    "x2rojo_train = ptos_observados_rojo_train[1,:]\n",
    "\n",
    "# Se agregan estos puntos a SET_train con su correspondiente valor de Y. Si Y=0 corresponde a \n",
    "# la distribución normal azul. Si Y=1 corresponde a la distribución normal roja. Adicionalmente se agregará\n",
    "# el bias al inicio de cada fila en SET_train.\n",
    "\n",
    "for i in range(len(x1azul_train)): #Y=0\n",
    "    SET_train.append([1,x1azul_train[i],x2azul_train[i],0])\n",
    "\n",
    "for i in range(len(x1rojo_train)): #Y=1\n",
    "    SET_train.append([1,x1rojo_train[i],x2rojo_train[i],1])"
   ]
  },
  {
   "cell_type": "code",
   "execution_count": 14,
   "metadata": {},
   "outputs": [],
   "source": [
    "SET_test=[]\n",
    "\n",
    "x1azul_test = ptos_observados_azul_test[0,:]\n",
    "x2azul_test = ptos_observados_azul_test[1,:]\n",
    "\n",
    "x1rojo_test = ptos_observados_rojo_test[0,:]\n",
    "x2rojo_test = ptos_observados_rojo_test[1,:]\n",
    "\n",
    "for i in range(len(x1azul_test)): #Y=0\n",
    "    SET_test.append([1,x1azul_test[i],x2azul_test[i],0])\n",
    "\n",
    "for i in range(len(x1rojo_test)): #Y=1\n",
    "    SET_test.append([1,x1rojo_test[i],x2rojo_test[i],1])"
   ]
  },
  {
   "cell_type": "markdown",
   "metadata": {},
   "source": [
    "Adicionalmente se creará SET_test_2 que corresponde al segundo conjunto de testeo formado para solventar las limitaciones de la computadora en donde se forjó originalemte el código. Si su computadora es capaz de llevar a cabo este tipo de tareas con rapidez utilice SET_test en vez de SET_test_2."
   ]
  },
  {
   "cell_type": "code",
   "execution_count": 15,
   "metadata": {},
   "outputs": [],
   "source": [
    "SET_test_2=[]\n",
    "\n",
    "x1azul_test_2 = ptos_observados_azul_test_2[0,:]\n",
    "x2azul_test_2 = ptos_observados_azul_test_2[1,:]\n",
    "\n",
    "x1rojo_test_2 = ptos_observados_rojo_test_2[0,:]\n",
    "x2rojo_test_2 = ptos_observados_rojo_test_2[1,:]\n",
    "\n",
    "for i in range(len(x1azul_test_2)): #Y=0\n",
    "    SET_test_2.append([1,x1azul_test_2[i],x2azul_test_2[i],0])\n",
    "\n",
    "for i in range(len(x1rojo_test_2)): # Y=1\n",
    "    SET_test_2.append([1,x1rojo_test_2[i],x2rojo_test_2[i],1])"
   ]
  },
  {
   "cell_type": "markdown",
   "metadata": {},
   "source": [
    "Los largos correspondientes a cada SET se muestran a continuación."
   ]
  },
  {
   "cell_type": "code",
   "execution_count": 16,
   "metadata": {},
   "outputs": [
    {
     "name": "stdout",
     "output_type": "stream",
     "text": [
      "200 10000 1000\n"
     ]
    }
   ],
   "source": [
    "print(len(SET_train), len(SET_test),len(SET_test_2))"
   ]
  },
  {
   "cell_type": "markdown",
   "metadata": {},
   "source": [
    "## Análisis de funciones para calcular predicciones.\n",
    "\n",
    "## Caso 1: Mínimos cuadrados\n",
    "\n",
    "- Hipótesis: función lineal\n",
    "- Función costo: RSS \n",
    "- Minimización: beta obtenido teóricamente (Normal Equation)\n",
    "- Evaluación: accuracy y test error\n",
    "\n",
    "En este caso asumimos que el modelo de clasificación o hipotesis esta dado por una funcion lineal del tipo \n",
    "\n",
    "$$ f(x1,x2) = \\theta_0 + \\theta_1 x_1 + \\theta_2 x_2 $$\n",
    "\n",
    "y que los valores de theta son obtenidos a partir de la busqueda del minimo de la funcion RSS con respecto a los datos del conjunto de entrenamiento. Este minimo puede ser encontrado analitcamente, como es nuestro caso actual, pero tambien puede ser encontrado numericamente, por ejemplo utilizando generacion de puntos aleatorios y seleccion del minimo. \n",
    "\n",
    "Forma analítica:\n",
    "\n",
    "$$ RSS(\\beta) =  \\sum_{i=1}^N (y_i - x_i ^T \\beta)^2$$\n",
    "N indica el número de puntos, los que son de la forma ${(x_1,y_1),(x_2,y_2)...,(x_N,y_N)}$.\n",
    "Utilizando notación matricial, RSS() queda como:\n",
    "\n",
    "$$ RSS(\\beta) = (Y - X\\beta)^T(Y - X\\beta)$$\n",
    "\n",
    "Cabe destacar que en este ejercicio en particular, $\\beta$ posee una dimensión igual a 3, Y tiene una dimensión igual a $N$ y X una dimensión de $N x 3$.\n",
    "\n",
    "Finalmente, para encontrar los coeficientes que componen a vector $\\beta$ se debe derivar RSS() con respecto a $\\beta$ y luego igualar a 0, con lo que se obtiene lo siguiente.\n",
    "$$\\hat{\\beta} = (X^T X)^{-1}X^T Y$$\n",
    "\n",
    "Otra forma de hacer esta busqueda del minimo de RSS o funcion de costo en el lenguage de Machine Learning es utilizando una tecnica llamada Gradient Descent que es tipica en ML y que aparece explicado en el segundo item del curso Machine Learning de Andrew Ng."
   ]
  },
  {
   "cell_type": "code",
   "execution_count": 17,
   "metadata": {},
   "outputs": [],
   "source": [
    "X=[]\n",
    "Y=[]\n",
    "\n",
    "#Los valores de SET[i][1] y SET[i][2] se colocarán en X y se vizualizarán como las nuevas variables x1 y x2.\n",
    "for i in range(len(SET_train)):  \n",
    "    X.append([1,SET_train[i][1],SET_train[i][2]])\n",
    "\n",
    "\n",
    "#Ahora se colocarán los valores SET[i][3] en Y.\n",
    "for i in range(len(SET_train)): \n",
    "    Y.append(SET_train[i][3])\n",
    "    \n",
    "X=np.array(X)                     \n",
    "Y=np.array(Y)\n",
    "\n",
    "XT=X.transpose()"
   ]
  },
  {
   "cell_type": "code",
   "execution_count": 18,
   "metadata": {},
   "outputs": [
    {
     "name": "stdout",
     "output_type": "stream",
     "text": [
      "(200, 3) (200,) (3, 200)\n"
     ]
    }
   ],
   "source": [
    "print(X.shape, Y.shape, XT.shape)"
   ]
  },
  {
   "cell_type": "code",
   "execution_count": 19,
   "metadata": {},
   "outputs": [
    {
     "data": {
      "text/plain": [
       "array([[200.        ,  92.7287535 , 114.00082525],\n",
       "       [ 92.7287535 , 242.07338679, -57.600168  ],\n",
       "       [114.00082525, -57.600168  , 326.14379218]])"
      ]
     },
     "execution_count": 19,
     "metadata": {},
     "output_type": "execute_result"
    }
   ],
   "source": [
    "XTdotX = np.dot(XT,X)\n",
    "XTdotX"
   ]
  },
  {
   "cell_type": "code",
   "execution_count": 20,
   "metadata": {},
   "outputs": [
    {
     "data": {
      "text/plain": [
       "array([[ 0.00950357, -0.00462524, -0.00413876],\n",
       "       [-0.00462524,  0.00656322,  0.00277584],\n",
       "       [-0.00413876,  0.00277584,  0.00500304]])"
      ]
     },
     "execution_count": 20,
     "metadata": {},
     "output_type": "execute_result"
    }
   ],
   "source": [
    "XTdotX_inversa = np.linalg.inv(XTdotX)\n",
    "XTdotX_inversa"
   ]
  },
  {
   "cell_type": "code",
   "execution_count": 21,
   "metadata": {},
   "outputs": [],
   "source": [
    "XTdotX_inversa_dotXT = np.dot(XTdotX_inversa, XT)"
   ]
  },
  {
   "cell_type": "code",
   "execution_count": 22,
   "metadata": {},
   "outputs": [
    {
     "name": "stdout",
     "output_type": "stream",
     "text": [
      "[ 0.52442113 -0.1591209   0.08658583]\n"
     ]
    }
   ],
   "source": [
    "beta_analitico = np.dot(XTdotX_inversa_dotXT,Y)\n",
    "print(beta_analitico)"
   ]
  },
  {
   "cell_type": "markdown",
   "metadata": {},
   "source": [
    "### Visualizacion de las predicciones considerando los datos del conjunto de testeo y del conjunto de entrenamiento\n",
    "\n",
    "Con el valor del vector beta_analitico es posible visualizar como funciona este modelo de prediccion con la función lineal para los puntos del conjunto de entrenamuiento y del conjunto de testeo separadamente.\n",
    "\n",
    "Para esto, primero se necesita crear las siguientes funciones:"
   ]
  },
  {
   "cell_type": "code",
   "execution_count": 23,
   "metadata": {},
   "outputs": [],
   "source": [
    "def funcion_lineal(x1, x2, beta): \n",
    "    \n",
    "    y_prediccion = beta[0] + x1*beta[1] + x2*beta[2]\n",
    "    return y_prediccion "
   ]
  },
  {
   "cell_type": "code",
   "execution_count": 24,
   "metadata": {},
   "outputs": [],
   "source": [
    "def listas_de_predicciones_lineal(SET):\n",
    "\n",
    "    lista_de_predicciones_azul = []\n",
    "    lista_de_predicciones_rojo = []\n",
    "\n",
    "    for pto in range(len(SET)):\n",
    "        prediccion = funcion_lineal(SET[pto][1], SET[pto][2], beta_analitico)\n",
    "\n",
    "    #Utilizando el valor de la prediccion separamos entre puntos azules y rojos\n",
    "    \n",
    "        if (prediccion <= 0.5):\n",
    "            lista_de_predicciones_azul.append([SET[pto][1], SET[pto][2]])\n",
    "        if (prediccion > 0.5):\n",
    "            lista_de_predicciones_rojo.append([SET[pto][1], SET[pto][2]])\n",
    "        \n",
    "    return np.array(lista_de_predicciones_azul), np.array(lista_de_predicciones_rojo)"
   ]
  },
  {
   "cell_type": "markdown",
   "metadata": {},
   "source": [
    "Ahora para visualizar el modelo tanto para el conjunto de entrenamiento como para el conjunto de testeo haremos lo siguiente."
   ]
  },
  {
   "cell_type": "code",
   "execution_count": 25,
   "metadata": {},
   "outputs": [],
   "source": [
    "predicciones_azul_train, predicciones_rojo_train = listas_de_predicciones_lineal(SET_train)\n",
    "\n",
    "predicciones_azul_train_t = predicciones_azul_train.transpose()\n",
    "predicciones_rojo_train_t = predicciones_rojo_train.transpose()"
   ]
  },
  {
   "cell_type": "code",
   "execution_count": 26,
   "metadata": {},
   "outputs": [],
   "source": [
    "predicciones_azul_test, predicciones_rojo_test = listas_de_predicciones_lineal(SET_test)\n",
    "\n",
    "predicciones_azul_test_t = predicciones_azul_test.transpose()\n",
    "predicciones_rojo_test_t = predicciones_rojo_test.transpose()"
   ]
  },
  {
   "cell_type": "markdown",
   "metadata": {},
   "source": [
    "Con esto podemos comparar visualmente las predicciones sobre el conjunto de entrenamiento y el coonjunto de testeo. A continuación se observan los 200 puntos simulados inicialmente que pertenecen al conjunto de entrenamiento."
   ]
  },
  {
   "cell_type": "code",
   "execution_count": 27,
   "metadata": {},
   "outputs": [
    {
     "data": {
      "image/png": "[encoded data removed]",
      "text/plain": [
       "<Figure size 432x288 with 1 Axes>"
      ]
     },
     "metadata": {
      "needs_background": "light"
     },
     "output_type": "display_data"
    }
   ],
   "source": [
    "visualize_colors(ptos_observados_azul_train, ptos_observados_rojo_train)"
   ]
  },
  {
   "cell_type": "markdown",
   "metadata": {},
   "source": [
    "A continuación se observa la predicción hecha por la función lineal en el conjunto de entrenamiento:"
   ]
  },
  {
   "cell_type": "code",
   "execution_count": 28,
   "metadata": {},
   "outputs": [
    {
     "data": {
      "image/png": "[encoded data removed]",
      "text/plain": [
       "<Figure size 432x288 with 1 Axes>"
      ]
     },
     "metadata": {
      "needs_background": "light"
     },
     "output_type": "display_data"
    }
   ],
   "source": [
    "visualize_colors(predicciones_azul_train_t, predicciones_rojo_train_t)"
   ]
  },
  {
   "cell_type": "markdown",
   "metadata": {},
   "source": [
    "A continuación observamos los 10000 puntos creados anteriormente que pertenecen al SET_test:"
   ]
  },
  {
   "cell_type": "code",
   "execution_count": 29,
   "metadata": {},
   "outputs": [
    {
     "data": {
      "image/png": "[encoded data removed]",
      "text/plain": [
       "<Figure size 432x288 with 1 Axes>"
      ]
     },
     "metadata": {
      "needs_background": "light"
     },
     "output_type": "display_data"
    }
   ],
   "source": [
    "visualize_colors(ptos_observados_azul_test, ptos_observados_rojo_test)"
   ]
  },
  {
   "cell_type": "markdown",
   "metadata": {},
   "source": [
    "A continuación se observa la predicción hecha por la función lineal para estos puntos pertenecientes a SET_test:"
   ]
  },
  {
   "cell_type": "code",
   "execution_count": 30,
   "metadata": {},
   "outputs": [
    {
     "data": {
      "image/png": "[encoded data removed]",
      "text/plain": [
       "<Figure size 432x288 with 1 Axes>"
      ]
     },
     "metadata": {
      "needs_background": "light"
     },
     "output_type": "display_data"
    }
   ],
   "source": [
    "visualize_colors(predicciones_azul_test_t, predicciones_rojo_test_t)"
   ]
  },
  {
   "cell_type": "markdown",
   "metadata": {},
   "source": [
    "### Evaluación de la hipotesis lineal en terminos de las metricas \"Accuracy\" y el \"Test Error\"\n",
    "\n",
    "Por definicion vamos a considerar que la accuracy y el test error estan dados por\n",
    "\n",
    "$$Accuracy = \\frac{PC}{PC+ PI}$$ \n",
    "Con PC los puntos predichos correctamente y PI los puntos predichos incorrectamente\n",
    "\n",
    "$$Test_{error} = 1 - accuracy$$\n",
    "\n",
    "Estas son métricas que nos permiten evaluar la performance de la hipótesis (en este caso la función lineal) una vez que hemos encontrado los valores de los parametros libres ($\\theta$). Evaluaremos estas dos métricas en ambos conjuntos de datos (el de entrenamiento y el de testeo).\n",
    "\n",
    "El valor del Accuracy (o la exactitud) medido en el conjunto de entrenamiento nos indica cuantitativamente el nivel de aprendizaje del modelo, dado que en este paso estamos intentando ajustar el modelo a los datos conocidos. Mientras que el Acurracy medido en el conjunto de testeo nos indica su poder de prediccion, dado que estos datos no fueron utilizados para el entrenamiento del modelo. \n",
    "\n",
    "Normalmente se espera que el valor de la Accuracy sea mejor (o más cercano a 1) en el conjunto de entrenamiento que en el conjunto de testeo, porque los datos del primer conjunto fueron los utilizados para calcular los parametros del modelo. Sin embargo esto no está garantizado matemáticamente.\n",
    "\n",
    "En general es recomendable obtener un valor del accuracy cercano a 1 en el conjunto de testeo dado que nuestro objectivo final es tener poder de prediccion, no solo de ajustar los datos conocidos."
   ]
  },
  {
   "cell_type": "code",
   "execution_count": 31,
   "metadata": {},
   "outputs": [],
   "source": [
    "def accuracy_funcion_lineal(SET, beta):\n",
    "\n",
    "    ptos_correctos = 0\n",
    "    ptos_incorrectos = 0\n",
    "    \n",
    "    for pto in range(len(SET)):\n",
    "        prediccion = funcion_lineal(SET[pto][1], SET[pto][2], beta)\n",
    "        \n",
    "        if (((prediccion < 0.5) and (SET[pto][3]==0)) or\n",
    "            ((prediccion > 0.5) and (SET[pto][3]==1))):\n",
    "            \n",
    "            ptos_correctos = ptos_correctos + 1\n",
    "        else:\n",
    "            ptos_incorrectos = ptos_incorrectos + 1\n",
    "            \n",
    "    ratio = ptos_correctos/(ptos_correctos + ptos_incorrectos)\n",
    "        \n",
    "        \n",
    "    print(\"puntos correctos: %d y puntos incorrectos: %d\"%(ptos_correctos, ptos_incorrectos))\n",
    "        \n",
    "    return ratio"
   ]
  },
  {
   "cell_type": "markdown",
   "metadata": {},
   "source": [
    "### Evaluación del modelo usando el conjunto de entrenamiento"
   ]
  },
  {
   "cell_type": "code",
   "execution_count": 32,
   "metadata": {},
   "outputs": [
    {
     "name": "stdout",
     "output_type": "stream",
     "text": [
      "puntos correctos: 134 y puntos incorrectos: 66\n",
      "train accuracy: 0.67 and test error: 0.33 \n"
     ]
    }
   ],
   "source": [
    "train_accuracy = accuracy_funcion_lineal(SET_train, beta_analitico)\n",
    "train_error = 1 - train_accuracy\n",
    "print(\"train accuracy: %.2f and test error: %.2f \"%(train_accuracy, train_error))"
   ]
  },
  {
   "cell_type": "markdown",
   "metadata": {},
   "source": [
    "### Evaluación del modelo usando el conjunto de testeo"
   ]
  },
  {
   "cell_type": "code",
   "execution_count": 33,
   "metadata": {},
   "outputs": [
    {
     "name": "stdout",
     "output_type": "stream",
     "text": [
      "puntos correctos: 7125 y puntos incorrectos: 2875\n",
      "test accuracy: 0.71 and test error: 0.29 \n"
     ]
    }
   ],
   "source": [
    "test_accuracy = accuracy_funcion_lineal(SET_test, beta_analitico)\n",
    "test_error = 1 - test_accuracy\n",
    "print(\"test accuracy: %.2f and test error: %.2f \"%(test_accuracy, test_error))"
   ]
  },
  {
   "cell_type": "markdown",
   "metadata": {},
   "source": [
    "## Caso 2: Función Sigmoide\n",
    "\n",
    "- Hopótesis 2: Función sigmoide ($\\sigma$)\n",
    "- Función de costo: $J(\\theta)$ logístico (AC: NO CONOZCO EL NOMBRE EXACTO) \n",
    "- Minimización: beta obtenido numéricamente\n",
    "- Evaluación: accuracy y test error\n",
    "\n",
    "Para este caso asumimos que el modelo de clasificación o hipotesis esta dado por una funcion del tipo \n",
    "\n",
    "$$ h(x1,x2) = \\sigma(\\theta_0 + \\theta_1 x_1 + \\theta_2 x_2)$$\n",
    "$$h(x1,x2) = \\frac{1}{1+e^{-(\\theta_0 + \\theta_1 x_1 + \\theta_2 x_2)}}$$\n",
    "\n",
    "Los valores de $\\theta$ son obtenidos a partir de la busqueda del minimo de la funcion $J(\\theta)$ con respecto a los datos del conjunto de entrenamiento.\n",
    "\n",
    "$$ J(\\theta) = \\frac{-1}{m}\\sum_{i=1}^m (y^{(i)}\\log(h(x_1^{(i)},x_2^{(i)}))+(1-y^{(i)})\\log(1-h(x_1^{(i)},x_2^{(i)})))$$\n",
    "\n",
    "Este minimo puede será encontrado analíticamente, numericamente o con gradient descent."
   ]
  },
  {
   "cell_type": "code",
   "execution_count": 34,
   "metadata": {},
   "outputs": [],
   "source": [
    "def funcion_sigmoide(x1, x2, theta): \n",
    "    \n",
    "    y_prediccion = 1/(1+np.exp(-theta[0] - x1*theta[1] - x2*theta[2]))\n",
    "    return y_prediccion"
   ]
  },
  {
   "cell_type": "code",
   "execution_count": 35,
   "metadata": {},
   "outputs": [],
   "source": [
    "def Costo(SET, theta):\n",
    "    Sum = 0\n",
    "    m = len(SET)\n",
    "    \n",
    "    for i in range(m):\n",
    "        \n",
    "        h = funcion_sigmoide(SET[i][1],SET[i][2],theta)\n",
    "        Sum = Sum + (SET[i][3]*np.log(h)) + (1 - SET[i][3])*np.log(h)\n",
    "    return Sum\n"
   ]
  },
  {
   "cell_type": "code",
   "execution_count": 37,
   "metadata": {},
   "outputs": [
    {
     "data": {
      "text/plain": [
       "[[1, -0.57998335393499, -0.03074838010325942, 0],\n",
       " [1, -0.9348403863196878, 0.5124148566696769, 0],\n",
       " [1, 0.9058071973345894, -0.01901782803913954, 0],\n",
       " [1, 0.4954020416896111, -0.026084474237773436, 0],\n",
       " [1, -0.1259517656714729, 0.7417362133220922, 0],\n",
       " [1, 1.7738660767925136, 0.056509736875296424, 0],\n",
       " [1, 2.039688209289867, -0.4774314035656119, 0],\n",
       " [1, 0.22498261178281925, 1.1685436794904094, 0],\n",
       " [1, 1.2537542335909948, -0.40765909167206604, 0],\n",
       " [1, 0.2919965977343423, 2.168633458646508, 0],\n",
       " [1, 0.9530901520999713, -0.9098891139591061, 0],\n",
       " [1, 0.7170305352510473, -0.4029703845225682, 0],\n",
       " [1, 1.3902101726137845, 0.19928592736101736, 0],\n",
       " [1, 1.2230813346284997, 0.6683522869715502, 0],\n",
       " [1, 1.3748092989246947, 0.3961312636127381, 0],\n",
       " [1, 2.044931838583485, -0.06309477981265493, 0],\n",
       " [1, 0.8149065917854336, 0.8937577654294064, 0],\n",
       " [1, 1.3278844834596826, 0.6522718483899071, 0],\n",
       " [1, 1.511762086190917, 0.45407070412604866, 0],\n",
       " [1, -0.053765629530990594, 0.7259177943719384, 0],\n",
       " [1, 1.0842218443125327, 0.2448308546609, 0],\n",
       " [1, 1.3627749675245209, 0.10294657112368055, 0],\n",
       " [1, -0.30474775555213823, 0.38817415414512363, 0],\n",
       " [1, 1.3108038505695412, 0.5006573629568779, 0],\n",
       " [1, 0.12915296589996247, 0.6442065443757592, 0],\n",
       " [1, 1.4818591906068632, -1.165849033635382, 0],\n",
       " [1, 1.2226222138934464, -0.15861496924521268, 0],\n",
       " [1, 1.1867349438590993, 0.16158309807959365, 0],\n",
       " [1, 0.6216778786601573, 0.18511911658578628, 0],\n",
       " [1, 0.37513358301946, -0.6438891299827812, 0],\n",
       " [1, 1.1298348548860633, 0.34635712040799826, 0],\n",
       " [1, 1.1908687416877872, 1.4796941334081044, 0],\n",
       " [1, 1.8475145647415725, -0.26796474433181255, 0],\n",
       " [1, 0.6703638654164429, -0.7641272023131505, 0],\n",
       " [1, 2.0096669419651065, -0.42342589743904513, 0],\n",
       " [1, 1.183955652639812, -1.6045046997235533, 0],\n",
       " [1, 1.2775972557814343, 0.42966145858958465, 0],\n",
       " [1, 0.8398542020777038, -0.7702617514302595, 0],\n",
       " [1, 0.2820738584633481, 2.7995683689734276, 0],\n",
       " [1, 1.8231557761379316, 0.456639298603767, 0],\n",
       " [1, -1.0980219592134555, 0.12195546276938621, 0],\n",
       " [1, 1.7977611061576508, -0.15234701965167333, 0],\n",
       " [1, 0.552634985238327, 1.4729410012137016, 0],\n",
       " [1, 1.7053364455765017, -0.4976890680847912, 0],\n",
       " [1, -0.14776698897541415, -0.02758470603994806, 0],\n",
       " [1, -0.13314315129395354, 0.2790645462272669, 0],\n",
       " [1, 2.191746509850585, 0.4433462826386455, 0],\n",
       " [1, 0.6092055079839033, -0.9541117157080696, 0],\n",
       " [1, 1.1962328786052747, 2.337428791280827, 0],\n",
       " [1, 0.6019589628815533, 2.6534671349533316, 0],\n",
       " [1, 0.9181158708685744, 0.35934890344615467, 0],\n",
       " [1, 0.9425879358490462, -1.2016203240406114, 0],\n",
       " [1, -0.6182044948417065, 0.9329103869420525, 0],\n",
       " [1, 1.4656213494419543, -0.22233579906783535, 0],\n",
       " [1, 1.0484241556688536, 0.1642372558463327, 0],\n",
       " [1, 2.202858264287437, -0.9124186132265051, 0],\n",
       " [1, -0.4271762756184745, 0.28130458298905053, 0],\n",
       " [1, 0.2663012401638103, 2.1252129463246554, 0],\n",
       " [1, 1.793892068085827, -0.22942231778074945, 0],\n",
       " [1, 0.8605854199880268, 0.8068879173230885, 0],\n",
       " [1, 1.1842695685273248, -0.4754568391469187, 0],\n",
       " [1, 0.6516751404601098, 1.0810068679331453, 0],\n",
       " [1, 1.7790870448109337, 0.07893870466470698, 0],\n",
       " [1, 1.3019646018874982, -1.755270121577503, 0],\n",
       " [1, 1.8812647703838046, 0.3248768885971116, 0],\n",
       " [1, 0.9530164745258864, 0.46096279561546055, 0],\n",
       " [1, 1.8795086320961916, -0.8199533449513438, 0],\n",
       " [1, 0.16854720097592246, -0.7348445705131642, 0],\n",
       " [1, 0.11813074857910544, -0.1684039173930859, 0],\n",
       " [1, 2.598561991578995, 0.29889185210509767, 0],\n",
       " [1, 0.6139511379873497, -0.8336214348482507, 0],\n",
       " [1, 0.8679320214610478, -0.6299907004996057, 0],\n",
       " [1, 1.1976835769213878, -0.8852932458682702, 0],\n",
       " [1, 0.5698140256244504, -0.6183853375829822, 0],\n",
       " [1, 2.969646171014432, -0.03688454837143551, 0],\n",
       " [1, 1.5211767107767336, -0.8958708566752632, 0],\n",
       " [1, 0.6434539230270977, 0.8667454107054686, 0],\n",
       " [1, 0.7743672609447766, -1.2489712513383062, 0],\n",
       " [1, 1.493833075900927, 0.954931759817151, 0],\n",
       " [1, -0.35751774459720376, 0.2849278628266466, 0],\n",
       " [1, 0.01961035379561582, 1.7086255303265907, 0],\n",
       " [1, 0.638056797948978, -0.5275124153307901, 0],\n",
       " [1, 1.159384985591984, 1.820803174517, 0],\n",
       " [1, 0.13525067823597484, -0.33194447550181494, 0],\n",
       " [1, 0.21853530678324803, 0.0711175301987918, 0],\n",
       " [1, -0.6052569076188912, 0.42234175355363474, 0],\n",
       " [1, 2.020571071028475, 0.10245572148422732, 0],\n",
       " [1, -0.05562332851093413, 0.744900008252827, 0],\n",
       " [1, 0.5390977257628271, 0.8745707898937942, 0],\n",
       " [1, 1.473765852401104, -0.15661202459125434, 0],\n",
       " [1, 1.777607264143567, 0.12497352370247039, 0],\n",
       " [1, -0.2964592282029148, 0.7253182704657246, 0],\n",
       " [1, 1.4108293834448684, -0.0670285181451526, 0],\n",
       " [1, 0.9444114693563723, -0.42391946294724503, 0],\n",
       " [1, 0.5040626701469322, -1.1318966037932099, 0],\n",
       " [1, 0.3391431976200341, 0.9035961906547808, 0],\n",
       " [1, 1.5696080507844703, -0.7246176775170242, 0],\n",
       " [1, -1.141621270681501, 0.46777445905582216, 0],\n",
       " [1, -0.17194103374110659, 0.12326319912609646, 0],\n",
       " [1, 1.2139991492278432, 0.8149095145982629, 0],\n",
       " [1, -0.2788588989733148, 2.11006714964703, 1],\n",
       " [1, -0.12360443982077365, 1.8778300270622017, 1],\n",
       " [1, -0.6000250432585399, 1.7690810602069693, 1],\n",
       " [1, -0.8466913199630399, 1.5342555651723706, 1],\n",
       " [1, 0.9146392157415935, -0.3148809725211906, 1],\n",
       " [1, 1.5756598526435968, 0.6183227758357732, 1],\n",
       " [1, 1.1857839669862122, -0.6987299812880526, 1],\n",
       " [1, 1.7088534849528458, 0.25779795309220477, 1],\n",
       " [1, 0.4914971632311791, -0.14998929161142815, 1],\n",
       " [1, 0.6425959258142127, -1.002253047199025, 1],\n",
       " [1, 1.2839192443944871, 0.9503072152093807, 1],\n",
       " [1, -0.7121408299709845, 2.0731562603344558, 1],\n",
       " [1, 0.24042581797326845, 2.6573308212785687, 1],\n",
       " [1, -0.591589219649953, 1.8118302995312903, 1],\n",
       " [1, -0.8693198788076787, 2.207832813590075, 1],\n",
       " [1, -0.7192672981122302, 2.0946322683971004, 1],\n",
       " [1, -2.0414613612071726, 0.5043109507433134, 1],\n",
       " [1, -0.33260317488360713, 2.3412195460966654, 1],\n",
       " [1, -1.1453274531760127, 1.8972050831997438, 1],\n",
       " [1, 0.6719171499685557, 0.6116809908519097, 1],\n",
       " [1, -0.004122439315391024, 1.5228672672408345, 1],\n",
       " [1, -0.7292929626667264, 2.5361715097135935, 1],\n",
       " [1, 1.7417646703875427, 0.10355109698023957, 1],\n",
       " [1, -1.5842718691266389, 1.8365783445954613, 1],\n",
       " [1, -0.8289197399683184, 2.269429000331939, 1],\n",
       " [1, 1.178762180485494, -0.8166884690579753, 1],\n",
       " [1, -0.6093895475897866, 0.13254610702007075, 1],\n",
       " [1, 1.4881745295841378, 0.3269908310879996, 1],\n",
       " [1, -0.7357023224593934, 2.7237755940591244, 1],\n",
       " [1, 0.8348696807311982, -1.1541414049757834, 1],\n",
       " [1, -1.5392338859368095, 1.107075025082841, 1],\n",
       " [1, -0.817982427329771, 1.2336996604834736, 1],\n",
       " [1, -0.569923799938016, 2.453899141541938, 1],\n",
       " [1, 0.38374264871949315, -0.5516041784253289, 1],\n",
       " [1, 1.7012496712493188, 0.22076695600171756, 1],\n",
       " [1, 0.4267836197243275, -1.3788635469344925, 1],\n",
       " [1, -0.6010963111196638, 2.65872144758501, 1],\n",
       " [1, 0.34116554615781935, 2.876190670087932, 1],\n",
       " [1, 1.2771551363362117, 0.9704444451976258, 1],\n",
       " [1, 0.9180408797120786, 0.31039798546038894, 1],\n",
       " [1, -0.07191676888774257, 2.356051460134556, 1],\n",
       " [1, -1.088148709187382, 0.9977065373261566, 1],\n",
       " [1, 0.25654033247477803, 2.329652179644947, 1],\n",
       " [1, 0.3684286526424024, 2.026385021426076, 1],\n",
       " [1, -1.1294378191713712, 1.3530599882718348, 1],\n",
       " [1, 1.3548742992799885, -0.7943636024959299, 1],\n",
       " [1, -1.3546714752855373, 1.063966081708258, 1],\n",
       " [1, -0.45028543499085716, 3.0455147172560415, 1],\n",
       " [1, 1.1695386864514272, 0.15532199374966948, 1],\n",
       " [1, -0.0975366448211352, 1.5120983521793536, 1],\n",
       " [1, -0.633971374868279, 1.8291877495687872, 1],\n",
       " [1, 0.6120440928014901, -0.36019943462001613, 1],\n",
       " [1, -1.1032099551068832, -0.012176464924934655, 1],\n",
       " [1, -1.4660649966616381, 0.9681110348130745, 1],\n",
       " [1, 0.6762906305497364, -1.014783984591173, 1],\n",
       " [1, -0.47801072517470433, 2.6361385460792213, 1],\n",
       " [1, -0.6098896590503519, 0.35361777339683614, 1],\n",
       " [1, -0.999050894697815, 2.457536789315595, 1],\n",
       " [1, 1.1843763796159317, 0.5137436667225551, 1],\n",
       " [1, 0.297693927135542, 2.3961882066608404, 1],\n",
       " [1, -0.046715875704868126, 2.340795723650916, 1],\n",
       " [1, -0.8112836769149808, 1.353057967325817, 1],\n",
       " [1, 0.2696089048612077, 0.27764649340151126, 1],\n",
       " [1, 0.35906107704528833, 2.536488964671113, 1],\n",
       " [1, 1.76591315401676, -0.5507394197065638, 1],\n",
       " [1, -0.4440268435778226, 2.0240052706668754, 1],\n",
       " [1, 0.324244251399296, 2.047914542134274, 1],\n",
       " [1, -0.8111593195911102, 2.550275745030537, 1],\n",
       " [1, -1.6992479439861812, 1.3693667042744826, 1],\n",
       " [1, 1.0992825746953265, 0.047243750672009976, 1],\n",
       " [1, 1.7302269696904808, -0.6174962190123862, 1],\n",
       " [1, -0.058794755782987713, 2.5614482353945456, 1],\n",
       " [1, 2.0480157486974937, 0.7180943904635954, 1],\n",
       " [1, -0.6614705850984318, 1.4682025847950029, 1],\n",
       " [1, -1.023901341034458, 0.05237143891856357, 1],\n",
       " [1, 0.2841973798808902, 2.190705660697586, 1],\n",
       " [1, 0.9946421501999653, -0.586499208873732, 1],\n",
       " [1, -0.4826574915895448, 0.18884389373554644, 1],\n",
       " [1, -0.044215628032220566, -1.2512822474353367, 1],\n",
       " [1, 1.509057905841757, 1.6587925488215398, 1],\n",
       " [1, 0.7302570165455227, -0.8987638308429876, 1],\n",
       " [1, 1.8252429469409868, 0.20313506212640095, 1],\n",
       " [1, 1.057348900117532, -0.8662711798794839, 1],\n",
       " [1, 0.3504827257312214, -1.5319052234850274, 1],\n",
       " [1, 1.1131927842942677, 0.045567295165905464, 1],\n",
       " [1, 0.6748816232455244, -0.38667677957727686, 1],\n",
       " [1, -1.8515642646377395, 0.5508491973421115, 1],\n",
       " [1, -0.8612603459424919, 0.07619830217801304, 1],\n",
       " [1, 1.186069303679277, -0.5931462538202255, 1],\n",
       " [1, -0.5179292877252998, 1.7822221397207292, 1],\n",
       " [1, 1.1980062977584276, -0.10260222860654056, 1],\n",
       " [1, -1.531672851351534, 2.6136257136834793, 1],\n",
       " [1, -0.5182030844244228, -0.6707497199955877, 1],\n",
       " [1, -0.43510446601095965, 2.5677675409220484, 1],\n",
       " [1, -0.1509558646910657, 1.2086628062042277, 1],\n",
       " [1, 0.33489240987417607, 1.570155350578257, 1],\n",
       " [1, -0.3222798148551031, 1.8645596126854096, 1],\n",
       " [1, -1.2188777849357213, 2.24228747609328, 1],\n",
       " [1, -0.6783371161358369, 1.7572750226588059, 1],\n",
       " [1, 1.2738889352594864, -0.9677342980142469, 1]]"
      ]
     },
     "execution_count": 37,
     "metadata": {},
     "output_type": "execute_result"
    }
   ],
   "source": [
    "SET_train       #Para recordar la forma de los SET "
   ]
  },
  {
   "cell_type": "markdown",
   "metadata": {},
   "source": [
    "AC: Faltaría encontrar los valores de los parámetros theta. "
   ]
  },
  {
   "cell_type": "code",
   "execution_count": null,
   "metadata": {},
   "outputs": [],
   "source": []
  }
 ],
 "metadata": {
  "kernelspec": {
   "display_name": "Python 3",
   "language": "python",
   "name": "python3"
  },
  "language_info": {
   "codemirror_mode": {
    "name": "ipython",
    "version": 3
   },
   "file_extension": ".py",
   "mimetype": "text/x-python",
   "name": "python",
   "nbconvert_exporter": "python",
   "pygments_lexer": "ipython3",
   "version": "3.7.5"
  }
 },
 "nbformat": 4,
 "nbformat_minor": 2
}
