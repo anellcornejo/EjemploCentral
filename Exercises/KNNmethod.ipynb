{
 "cells": [
  {
   "cell_type": "markdown",
   "metadata": {},
   "source": [
    "Primero importamos la papelería que utilizaremos"
   ]
  },
  {
   "cell_type": "code",
   "execution_count": 1,
   "metadata": {},
   "outputs": [],
   "source": [
    "import numpy as np\n",
    "import matplotlib.pyplot as plt\n",
    "import random"
   ]
  },
  {
   "cell_type": "markdown",
   "metadata": {},
   "source": [
    "#### Este Notebook se dividirá en dos partes:\n",
    "- Simulación de datos\n",
    "- KNN Method"
   ]
  },
  {
   "cell_type": "markdown",
   "metadata": {},
   "source": [
    "## Simulación de Datos\n",
    "\n",
    "Para la simulación de datos, realizaré el mismo procedimiento llevado a cabo en el ejercicio de la regresión lineal."
   ]
  },
  {
   "cell_type": "code",
   "execution_count": 2,
   "metadata": {},
   "outputs": [],
   "source": [
    "def centros_asociados_a_cada_color(color, kcentros):\n",
    "   \n",
    "    centro = np.array([0,0])\n",
    "    covarianza = np.identity(2)\n",
    "    \n",
    "    if color == 0: #azul\n",
    "        centro = np.array([1,0])\n",
    "    \n",
    "    if color == 1: #rojo\n",
    "        centro = np.array([0,1])\n",
    "\n",
    "    lista_de_centros = np.random.multivariate_normal(centro,covarianza,kcentros).T\n",
    "        \n",
    "    return lista_de_centros"
   ]
  },
  {
   "cell_type": "code",
   "execution_count": 3,
   "metadata": {},
   "outputs": [],
   "source": [
    "centros_azul = centros_asociados_a_cada_color(0,10)\n",
    "centros_rojo = centros_asociados_a_cada_color(1,10)"
   ]
  },
  {
   "cell_type": "code",
   "execution_count": 4,
   "metadata": {},
   "outputs": [],
   "source": [
    "def visualize_colors(ptos_azul, ptos_rojo):\n",
    "\n",
    "    x1azul = ptos_azul[0]\n",
    "    x2azul = ptos_azul[1]\n",
    "    \n",
    "    x1rojo = ptos_rojo[0]\n",
    "    x2rojo = ptos_rojo[1]\n",
    "    \n",
    "    plt.plot(x1azul,x2azul,\"bo\")\n",
    "    plt.plot(x1rojo,x2rojo,\"ro\")\n",
    "    plt.axis([-4,4,-4,4])\n",
    "    plt.title(\"Distribucion de puntos segun el color\")\n",
    "    plt.show() "
   ]
  },
  {
   "cell_type": "code",
   "execution_count": 5,
   "metadata": {},
   "outputs": [
    {
     "data": {
      "image/png": "[encoded data removed]",
      "text/plain": [
       "<Figure size 432x288 with 1 Axes>"
      ]
     },
     "metadata": {
      "needs_background": "light"
     },
     "output_type": "display_data"
    }
   ],
   "source": [
    "visualize_colors(centros_azul, centros_rojo)"
   ]
  },
  {
   "cell_type": "code",
   "execution_count": 6,
   "metadata": {},
   "outputs": [],
   "source": [
    "def Simulacion_2(centros, N):\n",
    "    \n",
    "    Ncentros = centros.shape[1]\n",
    "    \n",
    "    #Initialize the list of observations \n",
    "    observations = np.zeros((2,N))\n",
    "    \n",
    "    #we first define the global value of the covariance\n",
    "    covarianza = np.identity(2)/5\n",
    "       \n",
    "    #hacemos un loop entre 0 y N-1 para generar todos las observaciones requeridas\n",
    "    \n",
    "    for obs in range(0,N):\n",
    "        #generamos un numero aleatorio entre 0 y 9 para escoger el centro de nuestra gaussiana bivariada\n",
    "        indice_del_centro = random.randint(0, Ncentros-1)\n",
    "        \n",
    "        xcentro = centros[0,indice_del_centro]\n",
    "        ycentro = centros[1,indice_del_centro]\n",
    "        \n",
    "        mk_centro = np.array([xcentro, ycentro])\n",
    "        \n",
    "        centro_aux = np.random.multivariate_normal(mk_centro,covarianza,1).T\n",
    "    \n",
    "        observations[0,obs] = centro_aux[0,0]\n",
    "        observations[1,obs] = centro_aux[1,0]\n",
    "    \n",
    "    return observations"
   ]
  },
  {
   "cell_type": "code",
   "execution_count": 7,
   "metadata": {},
   "outputs": [],
   "source": [
    "ptos_observados_azul =  Simulacion_2(centros_azul, 100)\n",
    "ptos_observados_rojo =  Simulacion_2(centros_rojo, 100)"
   ]
  },
  {
   "cell_type": "code",
   "execution_count": 8,
   "metadata": {},
   "outputs": [
    {
     "data": {
      "image/png": "[encoded data removed]",
      "text/plain": [
       "<Figure size 432x288 with 1 Axes>"
      ]
     },
     "metadata": {
      "needs_background": "light"
     },
     "output_type": "display_data"
    }
   ],
   "source": [
    "visualize_colors(ptos_observados_azul, ptos_observados_rojo)"
   ]
  },
  {
   "cell_type": "markdown",
   "metadata": {},
   "source": [
    "## K Nearest-Neighbor Methods \n",
    "\n",
    "Ahora que ya están simulados los datos, es posible llevar a cabo el método de predicción de los k vecinos más cercanos"
   ]
  },
  {
   "cell_type": "markdown",
   "metadata": {},
   "source": [
    "AC: Primero crearé una función que recorra la lista SET y me diga qué punto (dentro de los que estan en SET) está más cercano a un punto de prueba. Esto lo haré buscando la minima distancia (euclídea según nos indica el libro) entre el punto que está en SET y mi punto de prueba. "
   ]
  },
  {
   "cell_type": "code",
   "execution_count": 11,
   "metadata": {},
   "outputs": [],
   "source": [
    "def MinimumDistance(punto,SET):\n",
    "    distancia_min=1000\n",
    "    for i in range(len(SET)):\n",
    "        d=np.sqrt((SET[i][1]-punto[0])**2+(SET[i][2]-punto[1])**2)\n",
    "        if d <= distancia_min:\n",
    "            distancia_min=d\n",
    "            punto_min=[SET[i][0],SET[i][1],SET[i][2],SET[i][3]]\n",
    "    return distancia_min,punto_min                         #retorna la mínima distancia y el punto dentro de SET que la genera."
   ]
  },
  {
   "cell_type": "markdown",
   "metadata": {},
   "source": [
    "Probemos esta funcion:"
   ]
  },
  {
   "cell_type": "code",
   "execution_count": 13,
   "metadata": {},
   "outputs": [
    {
     "data": {
      "text/plain": [
       "(1.4142135623730951, [1, 0, 0, 0])"
      ]
     },
     "execution_count": 13,
     "metadata": {},
     "output_type": "execute_result"
    }
   ],
   "source": [
    "lista=[[1,2,0,0],[1,2,3,0],[1,0,0,0],[1,3,6,0],[1,2,3,0]]    #esta lista tiene la forma de SET, en donde SET[1]=x1 , SET[2]=x2\n",
    "MinimumDistance([1,1], lista)"
   ]
  },
  {
   "cell_type": "code",
   "execution_count": 14,
   "metadata": {},
   "outputs": [
    {
     "data": {
      "text/plain": [
       "(0.0, [1, 2, 3, 0])"
      ]
     },
     "execution_count": 14,
     "metadata": {},
     "output_type": "execute_result"
    }
   ],
   "source": [
    "MinimumDistance([2,3], lista)"
   ]
  },
  {
   "cell_type": "markdown",
   "metadata": {},
   "source": [
    "AC: Ahora crearé una función que me entrega los k puntos (o k vecinos) más cercanos a mi punto de prueba."
   ]
  },
  {
   "cell_type": "code",
   "execution_count": 16,
   "metadata": {},
   "outputs": [],
   "source": [
    "def k_puntos_mas_cercanos(pto,SET,k):\n",
    "    set_copia =SET.copy()    #aquí genero esta copia porque no quiero que esta función me modifique el SET original\n",
    "    lista_vecinos=[]\n",
    "    for i in range(k+1):                                  #esto buscará k+1 veces para solucionar el problema de que la funcion\n",
    "        punto_cercano = MinimumDistance(pto,set_copia)[1] #MinimumDistance() tome al mismo punto de prueba como un punto cercano\n",
    "        lista_vecinos.append(punto_cercano)\n",
    "        set_copia.remove(punto_cercano)\n",
    "    if [lista_vecinos[0][1],lista_vecinos[0][2]] == pto:  #esto es TRUE cuando pto está en SET\n",
    "        lista_vecinos.remove(lista_vecinos[0])      # aquí borro pto, ya que se estaba contando a si mismo como pto más cercano\n",
    "        \n",
    "    else:                                           #Si entra al else, quiere decir que el pto no se encuentra en SET\n",
    "        lista_vecinos.pop()                         #Entonces borramos el último punto agregado a la lista (por eso puse\n",
    "    return lista_vecinos                            # el for en un rango de k+1 \n"
   ]
  },
  {
   "cell_type": "markdown",
   "metadata": {},
   "source": [
    "Probemos esta función"
   ]
  },
  {
   "cell_type": "code",
   "execution_count": 18,
   "metadata": {},
   "outputs": [
    {
     "data": {
      "text/plain": [
       "[[1, 0, 0, 0], [1, 2, 0, 0]]"
      ]
     },
     "execution_count": 18,
     "metadata": {},
     "output_type": "execute_result"
    }
   ],
   "source": [
    "k_puntos_mas_cercanos([1,1],lista,2)"
   ]
  },
  {
   "cell_type": "code",
   "execution_count": 19,
   "metadata": {},
   "outputs": [
    {
     "data": {
      "text/plain": [
       "[[1, 0, 0, 0], [1, 2, 0, 0], [1, 2, 3, 0]]"
      ]
     },
     "execution_count": 19,
     "metadata": {},
     "output_type": "execute_result"
    }
   ],
   "source": [
    "k_puntos_mas_cercanos([1,1],lista,3)"
   ]
  },
  {
   "cell_type": "code",
   "execution_count": 20,
   "metadata": {},
   "outputs": [
    {
     "data": {
      "text/plain": [
       "[[1, 2, 0, 0], [1, 2, 3, 0]]"
      ]
     },
     "execution_count": 20,
     "metadata": {},
     "output_type": "execute_result"
    }
   ],
   "source": [
    "k_puntos_mas_cercanos([0,0],lista,2)"
   ]
  },
  {
   "cell_type": "code",
   "execution_count": 21,
   "metadata": {},
   "outputs": [
    {
     "data": {
      "text/plain": [
       "[[1, 2, 0, 0], [1, 2, 3, 0], [1, 2, 3, 0], [1, 3, 6, 0]]"
      ]
     },
     "execution_count": 21,
     "metadata": {},
     "output_type": "execute_result"
    }
   ],
   "source": [
    "k_puntos_mas_cercanos([0,0],lista,4)"
   ]
  },
  {
   "cell_type": "markdown",
   "metadata": {},
   "source": [
    "AC: Ahora haré una función que me entrega los promedios de los valores de Y (Y=1 o Y=0) que tengan los k vecinos "
   ]
  },
  {
   "cell_type": "code",
   "execution_count": 22,
   "metadata": {},
   "outputs": [],
   "source": [
    "def promedio(lista_puntos):\n",
    "    suma_total=0\n",
    "    for elemento in lista_puntos:\n",
    "        suma_total = suma_total + elemento[3]\n",
    "    prom = suma_total / len(lista_puntos)    \n",
    "    return prom\n"
   ]
  },
  {
   "cell_type": "markdown",
   "metadata": {},
   "source": [
    "Probemos:"
   ]
  },
  {
   "cell_type": "code",
   "execution_count": 23,
   "metadata": {},
   "outputs": [
    {
     "data": {
      "text/plain": [
       "[[1, 2, 0, 0],\n",
       " [1, 2, 3, 0],\n",
       " [1, 0, 0, 0],\n",
       " [1, 3, 6, 0],\n",
       " [1, 2, 3, 0],\n",
       " [1, 1, 1, 1]]"
      ]
     },
     "execution_count": 23,
     "metadata": {},
     "output_type": "execute_result"
    }
   ],
   "source": [
    "lista.append([1,1,1,1])\n",
    "lista"
   ]
  },
  {
   "cell_type": "code",
   "execution_count": 24,
   "metadata": {},
   "outputs": [
    {
     "data": {
      "text/plain": [
       "0.16666666666666666"
      ]
     },
     "execution_count": 24,
     "metadata": {},
     "output_type": "execute_result"
    }
   ],
   "source": [
    "promedio(lista)"
   ]
  },
  {
   "cell_type": "markdown",
   "metadata": {},
   "source": [
    "AC: Finalmente para generar la predicción hay que crear el SET, para lo cual reutilizaré el codigo del notebook de la regresión lineal."
   ]
  },
  {
   "cell_type": "code",
   "execution_count": 25,
   "metadata": {},
   "outputs": [],
   "source": [
    "SET=[]\n",
    "\n",
    "#primero agregamos los vectores correspondientes a la distribución gaussiana azul (y=0) a la lista SET. \n",
    "x1azul = ptos_observados_azul[0,:]\n",
    "x2azul = ptos_observados_azul[1,:]\n",
    "\n",
    "x1rojo = ptos_observados_rojo[0,:]\n",
    "x2rojo = ptos_observados_rojo[1,:]\n",
    "\n",
    "for i in range(len(x1azul)):\n",
    "    SET.append([1,x1azul[i],x2azul[i],0])\n",
    "\n",
    "#Ahora agregamos los correspondientes a y=1 (distribución normal roja)\n",
    "for i in range(len(x1rojo)):\n",
    "    SET.append([1,x1rojo[i],x2rojo[i],1])"
   ]
  },
  {
   "cell_type": "markdown",
   "metadata": {},
   "source": [
    "AC: Por último, generaré la función predicción, la que para cada elemento perteneciente a SET busca los k vecinos más cercanos y promedia el valor del Y que estos posean. La predicción final o y_hat (siguiendo la notación del libro) será tal que si y_hat > 0.5 el punto será clasificado como rojo o azul si y_hat <= 0.5  "
   ]
  },
  {
   "cell_type": "code",
   "execution_count": 27,
   "metadata": {},
   "outputs": [],
   "source": [
    "def prediccion(SET,k):\n",
    "    LISTA_AZUL=[]\n",
    "    LISTA_ROJO=[]\n",
    "    for elemento in range(len(SET)):\n",
    "        pto = [SET[elemento][1],SET[elemento][2]]\n",
    "        lista_vecinos_cercanos=k_puntos_mas_cercanos(pto,SET,k)\n",
    "        y_hat = promedio(lista_vecinos_cercanos)\n",
    "        if y_hat > 0.5:\n",
    "            LISTA_ROJO.append([SET[elemento][1],SET[elemento][2]])\n",
    "        else :\n",
    "            LISTA_AZUL.append([SET[elemento][1],SET[elemento][2]])\n",
    "    return LISTA_AZUL , LISTA_ROJO"
   ]
  },
  {
   "cell_type": "markdown",
   "metadata": {},
   "source": [
    "Ahora la probamos con 3 vecinos"
   ]
  },
  {
   "cell_type": "code",
   "execution_count": 28,
   "metadata": {},
   "outputs": [],
   "source": [
    "puntosAzul,puntosRojo = prediccion(SET,3)"
   ]
  },
  {
   "cell_type": "code",
   "execution_count": 29,
   "metadata": {},
   "outputs": [
    {
     "data": {
      "text/plain": [
       "96"
      ]
     },
     "execution_count": 29,
     "metadata": {},
     "output_type": "execute_result"
    }
   ],
   "source": [
    "len(puntosAzul)"
   ]
  },
  {
   "cell_type": "code",
   "execution_count": 30,
   "metadata": {},
   "outputs": [
    {
     "data": {
      "text/plain": [
       "104"
      ]
     },
     "execution_count": 30,
     "metadata": {},
     "output_type": "execute_result"
    }
   ],
   "source": [
    "len(puntosRojo)"
   ]
  },
  {
   "cell_type": "markdown",
   "metadata": {},
   "source": [
    "Vemos que en total las dos listas suman 200 que es consistente con el tamaño de SET. Ahora visualizamos esto:"
   ]
  },
  {
   "cell_type": "code",
   "execution_count": 31,
   "metadata": {},
   "outputs": [],
   "source": [
    "puntosAzul = np.array(puntosAzul)\n",
    "puntosAzul_t = puntosAzul.transpose()\n",
    "puntosRojo = np.array(puntosRojo)\n",
    "puntosRojo_t = puntosRojo.transpose()"
   ]
  },
  {
   "cell_type": "markdown",
   "metadata": {},
   "source": [
    "Comparemos los dos mapas, el de entrenamiento y luego el dado por el método de los k vecinos "
   ]
  },
  {
   "cell_type": "code",
   "execution_count": 33,
   "metadata": {},
   "outputs": [
    {
     "data": {
      "image/png": "[encoded data removed]",
      "text/plain": [
       "<Figure size 432x288 with 1 Axes>"
      ]
     },
     "metadata": {
      "needs_background": "light"
     },
     "output_type": "display_data"
    }
   ],
   "source": [
    "visualize_colors(ptos_observados_azul, ptos_observados_rojo)"
   ]
  },
  {
   "cell_type": "code",
   "execution_count": 34,
   "metadata": {},
   "outputs": [
    {
     "data": {
      "image/png": "[encoded data removed]",
      "text/plain": [
       "<Figure size 432x288 with 1 Axes>"
      ]
     },
     "metadata": {
      "needs_background": "light"
     },
     "output_type": "display_data"
    }
   ],
   "source": [
    "visualize_colors(puntosAzul_t,puntosRojo_t)"
   ]
  },
  {
   "cell_type": "code",
   "execution_count": null,
   "metadata": {},
   "outputs": [],
   "source": []
  }
 ],
 "metadata": {
  "kernelspec": {
   "display_name": "Python 3",
   "language": "python",
   "name": "python3"
  },
  "language_info": {
   "codemirror_mode": {
    "name": "ipython",
    "version": 3
   },
   "file_extension": ".py",
   "mimetype": "text/x-python",
   "name": "python",
   "nbconvert_exporter": "python",
   "pygments_lexer": "ipython3",
   "version": "3.7.3"
  }
 },
 "nbformat": 4,
 "nbformat_minor": 2
}
