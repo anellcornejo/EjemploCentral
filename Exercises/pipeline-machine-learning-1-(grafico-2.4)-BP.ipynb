{
 "cells": [
  {
   "cell_type": "markdown",
   "metadata": {},
   "source": [
    "## Ejercicio completo de machine learning 1: \n",
    "\n",
    "Clasificación de puntos en un plano según dos posibles categorias, puntos rojos o azules\n",
    "\n",
    "Este notebook incluye todos los pasos tipicos de un ejercicio de Machine Learning, enfocandose en un problema de clasificacion entre dos categorias (rojo o azul) de los puntos de un plano. Todo esto en busqueda del grafico 2.4 del libro The Elements. Este notebook se dividirá en las siguientes partes:\n",
    "\n",
    "- Simulación de datos del train y del test\n",
    "    - En muchos ejercicios de Machine Learning estos datos son dados como condicion inicial, pero en nuestro caso nosotros los simulamos. Debemos recordar que una de las suposiciones de ML es que los datos siguen cierta funcion de probabilidad y que en principio conociendo esta funcion podriamos simularlos\n",
    "- Definicion de la función para calcular las predicciones o hacer la clasificacion (lineal, Knn, etc)\n",
    "    - En el lenguaje de ML esta funcion es llamada Hipótesis\n",
    "- Definicion de la función costo \n",
    "    -  En un primer caso usamos RSS como funcion de costo, pero en general podriamos considerar otras funciones de costo, dependiendo de las propiedades particulares de cada problema\n",
    "- Minimización de la función costo para encontrar los parámetros libres de la hipótesis \n",
    "    - En un primer caso encontramos los valores de los parametros theta de la funcion lineal minimizando  teoricamente la funcion costo RSS. Sin embargo es necesario notar que también existen otros metodos, que son numericos en general. Por ejemplo, anteriormente usamos la busqueda aleatoria de los paramteros seleccionando sistematicamente los valores que reducen RSS. Otro metodo, con nombre de hecho, es Gradient Descent que es el mas tipico de Machine Learning (tarea)\n",
    "- Visualizacion de las predicciones en el train y el test\n",
    "- Evaluacion cuantitativa de las predicciones en terminos de la accuracy y el test error\n",
    "    - Estos resultados nos permitiran escoger los mejores modelos para el problema planteado\n",
    "- Gráfico de la misclassification curves (Figure 2.4)"
   ]
  },
  {
   "cell_type": "markdown",
   "metadata": {},
   "source": [
    "Inicialmente importamos la librería que utilizaremos:"
   ]
  },
  {
   "cell_type": "code",
   "execution_count": 41,
   "metadata": {},
   "outputs": [],
   "source": [
    "import numpy as np\n",
    "import matplotlib.pyplot as plt\n",
    "import random"
   ]
  },
  {
   "cell_type": "markdown",
   "metadata": {},
   "source": [
    "## Simulación de datos:"
   ]
  },
  {
   "cell_type": "markdown",
   "metadata": {},
   "source": [
    "AC: Para esta simulación reutilizaré los códigos de los notebooks anteriores. Aquí se usarán dos SETs de datos (SET_train y SET_test), los cuales tendrán un tamaño de 200 y 10000 ejemplos respectivamente."
   ]
  },
  {
   "cell_type": "markdown",
   "metadata": {},
   "source": [
    "### Definicion de los centros de las gaussianas bivariadas"
   ]
  },
  {
   "cell_type": "code",
   "execution_count": 42,
   "metadata": {},
   "outputs": [],
   "source": [
    "def centros_asociados_a_cada_color(color, kcentros):\n",
    "   \n",
    "    centro = np.array([0,0])\n",
    "    covarianza = np.identity(2)\n",
    "    \n",
    "    if color == 0: #azul\n",
    "        centro = np.array([1,0])\n",
    "    \n",
    "    if color == 1: #rojo\n",
    "        centro = np.array([0,1])\n",
    "\n",
    "    lista_de_centros = np.random.multivariate_normal(centro,covarianza,kcentros).T\n",
    "        \n",
    "    return lista_de_centros"
   ]
  },
  {
   "cell_type": "code",
   "execution_count": 43,
   "metadata": {},
   "outputs": [],
   "source": [
    "centros_azul = centros_asociados_a_cada_color(0,10)\n",
    "centros_rojo = centros_asociados_a_cada_color(1,10)"
   ]
  },
  {
   "cell_type": "code",
   "execution_count": 44,
   "metadata": {},
   "outputs": [],
   "source": [
    "def visualize_colors(ptos_azul, ptos_rojo):\n",
    "\n",
    "    x1azul = ptos_azul[0]\n",
    "    x2azul = ptos_azul[1]\n",
    "    \n",
    "    x1rojo = ptos_rojo[0]\n",
    "    x2rojo = ptos_rojo[1]\n",
    "    \n",
    "    plt.plot(x1azul,x2azul,\"bo\")\n",
    "    plt.plot(x1rojo,x2rojo,\"ro\")\n",
    "    plt.axis([-4,4,-4,4])\n",
    "    plt.title(\"Distribucion de puntos segun el color\")\n",
    "    plt.show() "
   ]
  },
  {
   "cell_type": "code",
   "execution_count": 45,
   "metadata": {},
   "outputs": [
    {
     "data": {
      "image/png": "[encoded data removed]",
      "text/plain": [
       "<Figure size 432x288 with 1 Axes>"
      ]
     },
     "metadata": {
      "needs_background": "light"
     },
     "output_type": "display_data"
    }
   ],
   "source": [
    "visualize_colors(centros_azul, centros_rojo)"
   ]
  },
  {
   "cell_type": "markdown",
   "metadata": {},
   "source": [
    "### Implementacion de la funcion que simula los datos"
   ]
  },
  {
   "cell_type": "code",
   "execution_count": 46,
   "metadata": {},
   "outputs": [],
   "source": [
    "def Simulacion_2(centros, N):\n",
    "    \n",
    "    Ncentros = centros.shape[1]\n",
    "    \n",
    "    #Initialize the list of observations \n",
    "    observations = np.zeros((2,N))\n",
    "    \n",
    "    #we first define the global value of the covariance\n",
    "    covarianza = np.identity(2)/5\n",
    "       \n",
    "    #hacemos un loop entre 0 y N-1 para generar todos las observaciones requeridas\n",
    "    \n",
    "    for obs in range(0,N):\n",
    "        #generamos un numero aleatorio entre 0 y 9 para escoger el centro de nuestra gaussiana bivariada\n",
    "        indice_del_centro = random.randint(0, Ncentros-1)\n",
    "        \n",
    "        xcentro = centros[0,indice_del_centro]\n",
    "        ycentro = centros[1,indice_del_centro]\n",
    "        \n",
    "        mk_centro = np.array([xcentro, ycentro])\n",
    "        \n",
    "        centro_aux = np.random.multivariate_normal(mk_centro,covarianza,1).T\n",
    "    \n",
    "        observations[0,obs] = centro_aux[0,0]\n",
    "        observations[1,obs] = centro_aux[1,0]\n",
    "    \n",
    "    return observations"
   ]
  },
  {
   "cell_type": "markdown",
   "metadata": {},
   "source": [
    "### Datos del train"
   ]
  },
  {
   "cell_type": "code",
   "execution_count": 47,
   "metadata": {},
   "outputs": [],
   "source": [
    "ptos_observados_azul_train =  Simulacion_2(centros_azul, 100)\n",
    "ptos_observados_rojo_train =  Simulacion_2(centros_rojo, 100)"
   ]
  },
  {
   "cell_type": "code",
   "execution_count": 48,
   "metadata": {},
   "outputs": [
    {
     "data": {
      "image/png": "[encoded data removed]",
      "text/plain": [
       "<Figure size 432x288 with 1 Axes>"
      ]
     },
     "metadata": {
      "needs_background": "light"
     },
     "output_type": "display_data"
    }
   ],
   "source": [
    "visualize_colors(ptos_observados_azul_train, ptos_observados_rojo_train)"
   ]
  },
  {
   "cell_type": "markdown",
   "metadata": {},
   "source": [
    "### Datos del test\n",
    "AC: Ahora generaré 5000 puntos para cada color (en total serán 10000 puntos) a partir de los mismos 20 centros usados para la training sample. "
   ]
  },
  {
   "cell_type": "code",
   "execution_count": 49,
   "metadata": {},
   "outputs": [],
   "source": [
    "ptos_observados_azul_test =  Simulacion_2(centros_azul, 5000)\n",
    "ptos_observados_rojo_test =  Simulacion_2(centros_rojo, 5000)"
   ]
  },
  {
   "cell_type": "code",
   "execution_count": 50,
   "metadata": {},
   "outputs": [
    {
     "data": {
      "image/png": "[encoded data removed]",
      "text/plain": [
       "<Figure size 432x288 with 1 Axes>"
      ]
     },
     "metadata": {
      "needs_background": "light"
     },
     "output_type": "display_data"
    }
   ],
   "source": [
    "visualize_colors(ptos_observados_azul_test, ptos_observados_rojo_test)"
   ]
  },
  {
   "cell_type": "markdown",
   "metadata": {},
   "source": [
    "AC: ahora con estos puntos puedo generar los dos SETs que utilizaré"
   ]
  },
  {
   "cell_type": "code",
   "execution_count": 51,
   "metadata": {},
   "outputs": [],
   "source": [
    "SET_train=[]\n",
    "SET_test=[]\n",
    "\n",
    "#PRIMERO FORMAMOS EL SET_training\n",
    "x1azul_train = ptos_observados_azul_train[0,:]\n",
    "x2azul_train = ptos_observados_azul_train[1,:]\n",
    "\n",
    "x1rojo_train = ptos_observados_rojo_train[0,:]\n",
    "x2rojo_train = ptos_observados_rojo_train[1,:]\n",
    "\n",
    "#Agregamos los correspondientes a y=0 (distribución normal azul)\n",
    "for i in range(len(x1azul_train)):\n",
    "    SET_train.append([1,x1azul_train[i],x2azul_train[i],0])\n",
    "\n",
    "#Ahora agregamos los correspondientes a y=1 (distribución normal roja)\n",
    "for i in range(len(x1rojo_train)):\n",
    "    SET_train.append([1,x1rojo_train[i],x2rojo_train[i],1])"
   ]
  },
  {
   "cell_type": "code",
   "execution_count": 52,
   "metadata": {},
   "outputs": [],
   "source": [
    "#AHORA FORMAMOS EL SET_test\n",
    "x1azul_test = ptos_observados_azul_test[0,:]\n",
    "x2azul_test = ptos_observados_azul_test[1,:]\n",
    "\n",
    "x1rojo_test = ptos_observados_rojo_test[0,:]\n",
    "x2rojo_test = ptos_observados_rojo_test[1,:]\n",
    "\n",
    "for i in range(len(x1azul_test)):\n",
    "    SET_test.append([1,x1azul_test[i],x2azul_test[i],0])\n",
    "\n",
    "#Ahora agregamos los correspondientes a y=1 (distribución normal roja)\n",
    "for i in range(len(x1rojo_test)):\n",
    "    SET_test.append([1,x1rojo_test[i],x2rojo_test[i],1])"
   ]
  },
  {
   "cell_type": "markdown",
   "metadata": {},
   "source": [
    "Veamos si están bien hechos estos SETs:"
   ]
  },
  {
   "cell_type": "code",
   "execution_count": 53,
   "metadata": {},
   "outputs": [
    {
     "name": "stdout",
     "output_type": "stream",
     "text": [
      "200 10000\n"
     ]
    }
   ],
   "source": [
    "print(len(SET_train), len(SET_test))"
   ]
  },
  {
   "cell_type": "markdown",
   "metadata": {},
   "source": [
    "## Definicion de la hipotesis, funcion costo y proceso de minimizacion \n",
    "\n",
    "### Caso 1:\n",
    "\n",
    "- Hipótesis: función lineal\n",
    "- Función costo: RSS \n",
    "- Minimización: beta obtenido teóricamente\n",
    "- Evaluación: accuracy y test error\n",
    "\n",
    "En este caso asumimos que el modelo de clasificación o hipotesis esta dado por una funcion lineal del tipo \n",
    "\n",
    "f(x1,x2) = theta0 + theta1 x1 + theta2 x2\n",
    "\n",
    "y que lo valores de theta son obtenidos a partir de la busqueda del minimo de la funcion RSS con respecto a los datos del train. Este minimo puede ser encontrado teoricamente, como es nuestro caso actual, pero tambien puede ser encontrado numericamente, por ejemplo utilizando generacion de ptos aleatorios y seleccion del minimo. \n",
    "\n",
    "Otra forma de hacer esta busqueda del minimo de RSS o funcion de costo en el lenguage de Machine Learning es utilizando una tecnica llamada Gradient Descent que es tipica en ML y que aparece explicado en el segundo item del curso Machine Learning de Andrew Ng.\n",
    "\n",
    "#### Tarea: estudiar como funciona el metodo de Gradient Descent"
   ]
  },
  {
   "cell_type": "code",
   "execution_count": 54,
   "metadata": {},
   "outputs": [],
   "source": [
    "X=[]\n",
    "\n",
    "for i in range(len(SET_train)):  #pondremos SET[i][1] y SET[i][2] en las componentes x1 y x2 de X\n",
    "    X.append([1,SET_train[i][1],SET_train[i][2]])\n",
    "\n",
    "Y=[]\n",
    "for i in range(len(SET_train)): #Aquí Y = SET[i][3]\n",
    "    Y.append(SET_train[i][3])\n",
    "    \n",
    "X=np.array(X)                     \n",
    "Y=np.array(Y)\n",
    "\n",
    "XT=X.transpose()"
   ]
  },
  {
   "cell_type": "code",
   "execution_count": 55,
   "metadata": {},
   "outputs": [
    {
     "name": "stdout",
     "output_type": "stream",
     "text": [
      "(200, 3) (200,) (3, 200)\n"
     ]
    }
   ],
   "source": [
    "print(X.shape, Y.shape, XT.shape)"
   ]
  },
  {
   "cell_type": "code",
   "execution_count": 56,
   "metadata": {},
   "outputs": [
    {
     "data": {
      "text/plain": [
       "array([[200.        ,  86.03472355, 102.21213393],\n",
       "       [ 86.03472355, 271.31447001, -21.6311159 ],\n",
       "       [102.21213393, -21.6311159 , 307.4578803 ]])"
      ]
     },
     "execution_count": 56,
     "metadata": {},
     "output_type": "execute_result"
    }
   ],
   "source": [
    "XTdotX = np.dot(XT,X)\n",
    "XTdotX"
   ]
  },
  {
   "cell_type": "code",
   "execution_count": 57,
   "metadata": {},
   "outputs": [
    {
     "data": {
      "text/plain": [
       "array([[ 0.00747348, -0.00258243, -0.00266619],\n",
       "       [-0.00258243,  0.0045989 ,  0.00118207],\n",
       "       [-0.00266619,  0.00118207,  0.004222  ]])"
      ]
     },
     "execution_count": 57,
     "metadata": {},
     "output_type": "execute_result"
    }
   ],
   "source": [
    "XTdotX_inversa = np.linalg.inv(XTdotX)\n",
    "XTdotX_inversa"
   ]
  },
  {
   "cell_type": "code",
   "execution_count": 58,
   "metadata": {},
   "outputs": [],
   "source": [
    "XTdotX_inversa_dotXT = np.dot(XTdotX_inversa, XT)"
   ]
  },
  {
   "cell_type": "code",
   "execution_count": 59,
   "metadata": {},
   "outputs": [
    {
     "name": "stdout",
     "output_type": "stream",
     "text": [
      "[ 0.51419828 -0.18307353  0.12631596]\n"
     ]
    }
   ],
   "source": [
    "beta_teorico = np.dot(XTdotX_inversa_dotXT,Y)\n",
    "print(beta_teorico)"
   ]
  },
  {
   "cell_type": "markdown",
   "metadata": {},
   "source": [
    "### Visualizacion de las predicciones considerando los datos del test y del train\n",
    "\n",
    "Ahora con este beta_teorico podemos visualizar como funciona nuestro modelo de prediccion (el de regresión lineal con beta teorico) para los puntos del train y del test separadamente.\n",
    "\n",
    "Para lo cual necesitaré primero crear la función funcion_lineal()"
   ]
  },
  {
   "cell_type": "code",
   "execution_count": 60,
   "metadata": {},
   "outputs": [],
   "source": [
    "def funcion_lineal(x1, x2, beta): \n",
    "    \n",
    "    y_prediccion = beta[0] + x1*beta[1] + x2*beta[2]\n",
    "    return y_prediccion "
   ]
  },
  {
   "cell_type": "code",
   "execution_count": 61,
   "metadata": {},
   "outputs": [],
   "source": [
    "def listas_de_predicciones_lineal(SET):\n",
    "\n",
    "    lista_de_predicciones_azul = []\n",
    "    lista_de_predicciones_rojo = []\n",
    "\n",
    "    for pto in range(len(SET)):\n",
    "        prediccion = funcion_lineal(SET[pto][1], SET[pto][2], beta_teorico)\n",
    "\n",
    "    #Utilizando el valor de la prediccion separamos entre puntos azules y rojos\n",
    "    \n",
    "        if (prediccion < 0.5):\n",
    "            lista_de_predicciones_azul.append([SET[pto][1], SET[pto][2]])\n",
    "        if (prediccion > 0.5):\n",
    "            lista_de_predicciones_rojo.append([SET[pto][1], SET[pto][2]])\n",
    "        \n",
    "    return lista_de_predicciones_azul, lista_de_predicciones_rojo"
   ]
  },
  {
   "cell_type": "markdown",
   "metadata": {},
   "source": [
    "Ahora queremos visualizar el modelo tanto para el training como para el test"
   ]
  },
  {
   "cell_type": "code",
   "execution_count": 62,
   "metadata": {},
   "outputs": [],
   "source": [
    "lista_de_predicciones_azul_train, lista_de_predicciones_rojo_train = listas_de_predicciones_lineal(SET_train)"
   ]
  },
  {
   "cell_type": "code",
   "execution_count": 63,
   "metadata": {},
   "outputs": [],
   "source": [
    "lista_de_predicciones_azul_test, lista_de_predicciones_rojo_test = listas_de_predicciones_lineal(SET_test)"
   ]
  },
  {
   "cell_type": "code",
   "execution_count": 64,
   "metadata": {},
   "outputs": [],
   "source": [
    "lista_de_predicciones_azul_train = np.array(lista_de_predicciones_azul_train)\n",
    "lista_de_predicciones_azul_train_t = lista_de_predicciones_azul_train.transpose()\n",
    "\n",
    "lista_de_predicciones_rojo_train = np.array(lista_de_predicciones_rojo_train)\n",
    "lista_de_predicciones_rojo_train_t = lista_de_predicciones_rojo_train.transpose()"
   ]
  },
  {
   "cell_type": "code",
   "execution_count": 65,
   "metadata": {},
   "outputs": [],
   "source": [
    "lista_de_predicciones_azul_test = np.array(lista_de_predicciones_azul_test)\n",
    "lista_de_predicciones_azul_test_t = lista_de_predicciones_azul_test.transpose()\n",
    "\n",
    "lista_de_predicciones_rojo_test = np.array(lista_de_predicciones_rojo_test)\n",
    "lista_de_predicciones_rojo_test_t = lista_de_predicciones_rojo_test.transpose()"
   ]
  },
  {
   "cell_type": "markdown",
   "metadata": {},
   "source": [
    "Con esto podemos comparar visualmente las predicciones sobre el train y el test"
   ]
  },
  {
   "cell_type": "code",
   "execution_count": 66,
   "metadata": {},
   "outputs": [
    {
     "data": {
      "image/png": "[encoded data removed]",
      "text/plain": [
       "<Figure size 432x288 with 1 Axes>"
      ]
     },
     "metadata": {
      "needs_background": "light"
     },
     "output_type": "display_data"
    }
   ],
   "source": [
    "visualize_colors(ptos_observados_azul_train, ptos_observados_rojo_train)"
   ]
  },
  {
   "cell_type": "code",
   "execution_count": 67,
   "metadata": {},
   "outputs": [
    {
     "data": {
      "image/png": "[encoded data removed]",
      "text/plain": [
       "<Figure size 432x288 with 1 Axes>"
      ]
     },
     "metadata": {
      "needs_background": "light"
     },
     "output_type": "display_data"
    }
   ],
   "source": [
    "visualize_colors(lista_de_predicciones_azul_train_t, lista_de_predicciones_rojo_train_t)"
   ]
  },
  {
   "cell_type": "code",
   "execution_count": 68,
   "metadata": {},
   "outputs": [
    {
     "data": {
      "image/png": "[encoded data removed]",
      "text/plain": [
       "<Figure size 432x288 with 1 Axes>"
      ]
     },
     "metadata": {
      "needs_background": "light"
     },
     "output_type": "display_data"
    }
   ],
   "source": [
    "visualize_colors(ptos_observados_azul_test, ptos_observados_rojo_test)"
   ]
  },
  {
   "cell_type": "code",
   "execution_count": 69,
   "metadata": {},
   "outputs": [
    {
     "data": {
      "image/png": "[encoded data removed]",
      "text/plain": [
       "<Figure size 432x288 with 1 Axes>"
      ]
     },
     "metadata": {
      "needs_background": "light"
     },
     "output_type": "display_data"
    }
   ],
   "source": [
    "visualize_colors(lista_de_predicciones_azul_test_t, lista_de_predicciones_rojo_test_t)"
   ]
  },
  {
   "cell_type": "markdown",
   "metadata": {},
   "source": [
    "### Evaluación de la hipotesis lineal en terminos de las metricas accuracy y el test error\n",
    "\n",
    "Por definicion vamos a considerar que la accuracy y el test error estan dados por\n",
    "\n",
    "accuracy = ptos_predichos_correctamente/(ptos_predichos_correctamente + ptos_predichos_incorrectamente)\n",
    "\n",
    "test_error = 1 - accuracy\n",
    "\n",
    "Estan son unas metricas que nos permiten evaluar la performance de la hipotesis una vez que hemos encontrado los valores de los parametros libres (theta). Por lo que se puede ver es posible evaluar estas métricas en ambos sets, el del train y el del test. \n",
    "\n",
    "El valor de la accuracy medido en el train nos indica cuantitativamente el nivel del aprendizaje del modelo, dado que en este paso estamos intentando ajustar el modelo a los datos conocidos, mientras que medido en el test nos indica su poder de prediccion, dado que estos datos no fueron utilizados para el entrenamiento del modelo. \n",
    "\n",
    "Normalmente se espera que el valor de la accuracy sea mejor en el set de entrenamiento que en el set del test, pq los primeros fueron los datos usados para calcular los parametros del modelo. Sin embargo esto no esta garantizado matematicamente.\n",
    "\n",
    "En general es bastante recomendado obtener un valor alto de accuracy en el test dado que nuestro objectivo final es tener poder de prediccion, no solo ajustar los datos conocidos"
   ]
  },
  {
   "cell_type": "code",
   "execution_count": 70,
   "metadata": {},
   "outputs": [],
   "source": [
    "def accuracy_funcion_lineal(SET, beta):\n",
    "\n",
    "    pto_correcto = 0\n",
    "    pto_incorrecto = 0\n",
    "    \n",
    "    for pto in range(len(SET)):\n",
    "        prediccion = funcion_lineal(SET[pto][1], SET[pto][2], beta)\n",
    "        \n",
    "        if (((prediccion < 0.5) and (SET[pto][3]==0)) or\n",
    "            ((prediccion > 0.5) and (SET[pto][3]==1))):\n",
    "            \n",
    "            pto_correcto = pto_correcto + 1\n",
    "        else:\n",
    "            pto_incorrecto = pto_incorrecto + 1\n",
    "            \n",
    "        ratio = pto_correcto/(pto_correcto + pto_incorrecto)\n",
    "        \n",
    "        \n",
    "    print(\"ptos correctos: %d y ptos incorrectos: %d\"%(pto_correcto, pto_incorrecto))\n",
    "        \n",
    "    return ratio"
   ]
  },
  {
   "cell_type": "markdown",
   "metadata": {},
   "source": [
    "### Evaluación del modelo usando el train"
   ]
  },
  {
   "cell_type": "code",
   "execution_count": 71,
   "metadata": {},
   "outputs": [
    {
     "name": "stdout",
     "output_type": "stream",
     "text": [
      "ptos correctos: 154 y ptos incorrectos: 46\n",
      "train accuracy: 0.77 and test error: 0.23 \n"
     ]
    }
   ],
   "source": [
    "train_accuracy = accuracy_funcion_lineal(SET_train, beta_teorico)\n",
    "train_error = 1 - train_accuracy\n",
    "print(\"train accuracy: %.2f and test error: %.2f \"%(train_accuracy, train_error))"
   ]
  },
  {
   "cell_type": "markdown",
   "metadata": {},
   "source": [
    "### Evaluación del modelo usando el test"
   ]
  },
  {
   "cell_type": "code",
   "execution_count": 73,
   "metadata": {},
   "outputs": [
    {
     "name": "stdout",
     "output_type": "stream",
     "text": [
      "ptos correctos: 7792 y ptos incorrectos: 2208\n",
      "test accuracy: 0.78 and test error: 0.22 \n"
     ]
    }
   ],
   "source": [
    "test_accuracy = accuracy_funcion_lineal(SET_test, beta_teorico)\n",
    "test_error = 1 - test_accuracy\n",
    "print(\"test accuracy: %.2f and test error: %.2f \"%(test_accuracy, test_error))"
   ]
  },
  {
   "cell_type": "markdown",
   "metadata": {},
   "source": [
    "### Caso 2:\n",
    "\n",
    "- Hipótesis 2: KNN\n",
    "- Función costo: No existe \n",
    "- Minimización: No existe\n",
    "- Evaluación: accuracy y test error\n",
    "\n",
    "Debemos notar que KNN es un caso bastante particular en Machine Learning dado que no podemos seguir el mismo proceso mencionado anteriormente para la hipótesis lineal, el cual es util en muchos otros ejemplos (esto lo veremos mas claramente siguiendo el curso de Machine Learning). Esto básicamente sucede pq cualquier función costo que mida la cercania entre la prediccion del color en un punto del train con los valores conocidos del train entregara N = 1 (un vecino cercano, el mismo punto). \n",
    "\n",
    "Por otro lado es posible buscar el valor de N talque el poder predictivo de KNN sea optimizado. Por ejemplo, se puede buscar aquel valor de N tal que maximize la accuracy con respecto a los datos del test, pero solo usando los puntos del train para el calculo de la prediccion. Esto es lo que nos permite justamente el gráfico 2.4 del libro The Elements. Entonces algunas preguntas a responder son:\n",
    "\n",
    "Cual es el valor de N que maximiza la accuracy (minimiza el test error) medida en los puntos del test?\n",
    "\n",
    "Es aquel valor de la accuracy mayor o menor que en el caso lineal?"
   ]
  },
  {
   "cell_type": "code",
   "execution_count": null,
   "metadata": {},
   "outputs": [],
   "source": []
  }
 ],
 "metadata": {
  "kernelspec": {
   "display_name": "Python 3",
   "language": "python",
   "name": "python3"
  },
  "language_info": {
   "codemirror_mode": {
    "name": "ipython",
    "version": 3
   },
   "file_extension": ".py",
   "mimetype": "text/x-python",
   "name": "python",
   "nbconvert_exporter": "python",
   "pygments_lexer": "ipython3",
   "version": "3.7.3"
  }
 },
 "nbformat": 4,
 "nbformat_minor": 2
}
