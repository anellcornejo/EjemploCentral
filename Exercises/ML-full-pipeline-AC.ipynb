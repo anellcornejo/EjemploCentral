{
 "cells": [
  {
   "cell_type": "markdown",
   "metadata": {},
   "source": [
    "# The Elements of Statistical Learning\n",
    "\n",
    "## Ejercicio completo de machine learning 1: \n",
    "\n",
    "Clasificación de puntos en un plano según dos posibles categorias, puntos rojos o azules\n",
    "\n",
    "Este notebook incluye todos los pasos tipicos de un ejercicio de Machine Learning, enfocandose en un problema de clasificacion entre dos categorias (rojo o azul) de los puntos de un plano. Todo esto en busqueda del grafico 2.4 del libro The Elements. Este notebook se dividirá en las siguientes partes:\n",
    "\n",
    "- Simulación de datos del train y del test\n",
    "    - En muchos ejercicios de Machine Learning estos datos son dados como condicion inicial, pero en nuestro caso nosotros los simulamos. Debemos recordar que una de las suposiciones de ML es que los datos siguen cierta funcion de probabilidad y que en principio conociendo esta funcion podriamos simularlos\n",
    "- Definicion de la función para calcular las predicciones o hacer la clasificacion (lineal, Knn, etc)\n",
    "    - En el lenguaje de ML esta funcion es llamada Hipótesis\n",
    "- Definicion de la función costo \n",
    "    -  En un primer caso usamos RSS como funcion de costo, pero en general podriamos considerar otras funciones de costo, dependiendo de las propiedades particulares de cada problema\n",
    "- Minimización de la función costo para encontrar los parámetros libres de la hipótesis \n",
    "    - En un primer caso encontramos los valores de los parametros theta de la funcion lineal minimizando analiticamente la funcion costo RSS, en lenguaje de ML esta ecuación es denominada Normal Equation. \n",
    "    - Sin embargo es necesario notar que también existen otros metodos, que son numericos en general. Por ejemplo, anteriormente usamos la busqueda aleatoria de los paramteros seleccionando sistematicamente los valores que reducen RSS. Otro metodo, con nombre de hecho, es Gradient Descent que es el mas tipico de Machine Learning.\n",
    "- Visualizacion de las predicciones en el train y el test\n",
    "- Evaluacion cuantitativa de las predicciones en terminos de la accuracy y el test error\n",
    "    - Estos resultados nos permitiran escoger los mejores modelos para el problema planteado\n",
    "- Gráfico de la misclassification curves (Figure 2.4)"
   ]
  },
  {
   "cell_type": "markdown",
   "metadata": {},
   "source": [
    "Inicialmente importamos la librería que utilizaremos:"
   ]
  },
  {
   "cell_type": "code",
   "execution_count": 1,
   "metadata": {},
   "outputs": [],
   "source": [
    "import numpy as np\n",
    "import matplotlib.pyplot as plt\n",
    "import random"
   ]
  },
  {
   "cell_type": "markdown",
   "metadata": {},
   "source": [
    "## Simulación de datos:"
   ]
  },
  {
   "cell_type": "markdown",
   "metadata": {},
   "source": [
    "Dado las indicaciones en la pagina 16 del libro \"The Elements of Statistical Learning\", se puede entender que el proceso de simulación del set de datos de entrenamiento es el siguiente.\n",
    "\n",
    "1- Primero se escoge el color a simular\n",
    "\n",
    "2- Dado el color, conocemos el centro y la matriz de covarianza de una gaussiana bivariada\n",
    "\n",
    "3- Con esta gaussiana bivariada generamos 10 centros. Esto lo hacemos solo una vez porque nos permite generar las observaciones asociadas a un set fijo de gaussianas bivariadas, 10 en nuestro caso. La idea de la simulación es generar observaciones que representen instancias asociados a un set de gaussianas bivariadas, no con respecto a una sola de ellas\n",
    "\n",
    "4- Con estos valores de los centros, mas una covarianza fija igual a la identidad/5, podemos asumir que conocemos los parametros de 10 gaussianas bivariadas\n",
    "\n",
    "5- Considerando estas 10 gaussianas bivariadas podemos generar nuestras observaciones\n",
    "\n",
    "6- Cada observacion se genera de la siguiente forma:\n",
    "\n",
    "    1- Se escoge uno de los centros dados anteriormente y su gaussiana bivariada correspondiente\n",
    "    2- Se genera un valor de la posicion siguiendo esta gaussiana bivariada   \n",
    "    3- Se vuelve a 6.1 y se repite el proceso, 100 veces por cada color"
   ]
  },
  {
   "cell_type": "markdown",
   "metadata": {},
   "source": [
    "### Definicion de los centros de las gaussianas bivariadas"
   ]
  },
  {
   "cell_type": "code",
   "execution_count": 2,
   "metadata": {},
   "outputs": [],
   "source": [
    "def centros_asociados_a_cada_color(color, kcentros):\n",
    "   \n",
    "    centro = np.array([0,0])\n",
    "    covarianza = np.identity(2)\n",
    "    \n",
    "    if color == 0: #azul\n",
    "        centro = np.array([1,0])\n",
    "    \n",
    "    if color == 1: #rojo\n",
    "        centro = np.array([0,1])\n",
    "\n",
    "    lista_de_centros = np.random.multivariate_normal(centro,covarianza,kcentros).T\n",
    "        \n",
    "    return lista_de_centros"
   ]
  },
  {
   "cell_type": "code",
   "execution_count": 3,
   "metadata": {},
   "outputs": [],
   "source": [
    "centros_azul = centros_asociados_a_cada_color(0,10)\n",
    "centros_rojo = centros_asociados_a_cada_color(1,10)"
   ]
  },
  {
   "cell_type": "code",
   "execution_count": 4,
   "metadata": {},
   "outputs": [],
   "source": [
    "def visualize_colors(ptos_azul, ptos_rojo):\n",
    "\n",
    "    x1azul = ptos_azul[0]\n",
    "    x2azul = ptos_azul[1]\n",
    "    \n",
    "    x1rojo = ptos_rojo[0]\n",
    "    x2rojo = ptos_rojo[1]\n",
    "    \n",
    "    plt.plot(x1azul,x2azul,\"bo\")\n",
    "    plt.plot(x1rojo,x2rojo,\"ro\")\n",
    "    plt.axis([-4,4,-4,4])\n",
    "    plt.title(\"Distribucion de puntos segun el color\")\n",
    "    plt.show() "
   ]
  },
  {
   "cell_type": "code",
   "execution_count": 5,
   "metadata": {},
   "outputs": [
    {
     "data": {
      "image/png": "[encoded data removed]",
      "text/plain": [
       "<Figure size 432x288 with 1 Axes>"
      ]
     },
     "metadata": {
      "needs_background": "light"
     },
     "output_type": "display_data"
    }
   ],
   "source": [
    "visualize_colors(centros_azul, centros_rojo)"
   ]
  },
  {
   "cell_type": "markdown",
   "metadata": {},
   "source": [
    "### Implementacion de la funcion que simula los datos"
   ]
  },
  {
   "cell_type": "code",
   "execution_count": 6,
   "metadata": {},
   "outputs": [],
   "source": [
    "def Simulacion(centros, N):\n",
    "    \n",
    "    Ncentros = centros.shape[1]\n",
    "    \n",
    "    #Inicializamos la lista de observaciones \n",
    "    observations = np.zeros((2,N))\n",
    "    \n",
    "    #Definimos un valor global para la covarianza\n",
    "    covarianza = np.identity(2)/5\n",
    "       \n",
    "    #hacemos un loop entre 0 y N para generar todos las observaciones requeridas\n",
    "    \n",
    "    for obs in range(0,N):\n",
    "        #generamos un numero aleatorio entre los números 0 y Ncentros-1 para escoger el centro de nuestra gaussiana bivariada\n",
    "        indice_del_centro = random.randint(0, Ncentros-1)\n",
    "        \n",
    "        xcentro = centros[0,indice_del_centro]\n",
    "        ycentro = centros[1,indice_del_centro]\n",
    "        \n",
    "        mk_centro = np.array([xcentro, ycentro])\n",
    "        \n",
    "        centro_aux = np.random.multivariate_normal(mk_centro,covarianza,1).T\n",
    "    \n",
    "        observations[0,obs] = centro_aux[0,0]\n",
    "        observations[1,obs] = centro_aux[1,0]\n",
    "    \n",
    "    return observations"
   ]
  },
  {
   "cell_type": "markdown",
   "metadata": {},
   "source": [
    "### Datos del conjunto de entrenamiento"
   ]
  },
  {
   "cell_type": "code",
   "execution_count": 7,
   "metadata": {},
   "outputs": [],
   "source": [
    "ptos_observados_azul_train =  Simulacion(centros_azul, 100)\n",
    "ptos_observados_rojo_train =  Simulacion(centros_rojo, 100)"
   ]
  },
  {
   "cell_type": "code",
   "execution_count": 8,
   "metadata": {},
   "outputs": [
    {
     "data": {
      "image/png": "[encoded data removed]",
      "text/plain": [
       "<Figure size 432x288 with 1 Axes>"
      ]
     },
     "metadata": {
      "needs_background": "light"
     },
     "output_type": "display_data"
    }
   ],
   "source": [
    "visualize_colors(ptos_observados_azul_train, ptos_observados_rojo_train)"
   ]
  },
  {
   "cell_type": "markdown",
   "metadata": {},
   "source": [
    "### Datos del  conjunto de testeo\n",
    "Se generarán 5000 puntos para cada color (en total serán 10000 puntos) a partir de los mismos 20 centros usados para el conjunto de entrenamiento. "
   ]
  },
  {
   "cell_type": "code",
   "execution_count": 9,
   "metadata": {},
   "outputs": [],
   "source": [
    "ptos_observados_azul_test =  Simulacion(centros_azul, 5000)\n",
    "ptos_observados_rojo_test =  Simulacion(centros_rojo, 5000)"
   ]
  },
  {
   "cell_type": "code",
   "execution_count": 10,
   "metadata": {},
   "outputs": [
    {
     "data": {
      "image/png": "[encoded data removed]",
      "text/plain": [
       "<Figure size 432x288 with 1 Axes>"
      ]
     },
     "metadata": {
      "needs_background": "light"
     },
     "output_type": "display_data"
    }
   ],
   "source": [
    "visualize_colors(ptos_observados_azul_test, ptos_observados_rojo_test)"
   ]
  },
  {
   "cell_type": "markdown",
   "metadata": {},
   "source": [
    "Se generará un segundo conjunto de entrenamiento con 500 puntos para cada color (siendo en total 1000 puntos) a partir de los 20 centros usados para el conjunto de entrenamiento. Esto se realiza debido a las limitaciones de la computadora (en la que se forjó originalmente el código) para analizar el gran número de datos que se formarán más adelante en knn.  "
   ]
  },
  {
   "cell_type": "code",
   "execution_count": 11,
   "metadata": {},
   "outputs": [],
   "source": [
    "ptos_observados_azul_test_2 =  Simulacion(centros_azul, 500) \n",
    "ptos_observados_rojo_test_2 =  Simulacion(centros_rojo, 500)"
   ]
  },
  {
   "cell_type": "code",
   "execution_count": 12,
   "metadata": {},
   "outputs": [
    {
     "data": {
      "image/png": "[encoded data removed]",
      "text/plain": [
       "<Figure size 432x288 with 1 Axes>"
      ]
     },
     "metadata": {
      "needs_background": "light"
     },
     "output_type": "display_data"
    }
   ],
   "source": [
    "visualize_colors(ptos_observados_azul_test_2, ptos_observados_rojo_test_2)"
   ]
  },
  {
   "cell_type": "markdown",
   "metadata": {},
   "source": [
    "### Formación del Conjunto de Entrenamiento (SET_train) y del Conjunto de Testeo (SET_test) "
   ]
  },
  {
   "cell_type": "code",
   "execution_count": 13,
   "metadata": {},
   "outputs": [],
   "source": [
    "SET_train=[]\n",
    "\n",
    "x1azul_train = ptos_observados_azul_train[0,:]\n",
    "x2azul_train = ptos_observados_azul_train[1,:]\n",
    "\n",
    "x1rojo_train = ptos_observados_rojo_train[0,:]\n",
    "x2rojo_train = ptos_observados_rojo_train[1,:]\n",
    "\n",
    "# Se agregan estos puntos a SET_train con su correspondiente valor de Y. Si Y=0 corresponde a \n",
    "# la distribución normal azul. Si Y=1 corresponde a la distribución normal roja. Adicionalmente se agregará\n",
    "# el bias al inicio de cada fila en SET_train.\n",
    "\n",
    "for i in range(len(x1azul_train)): #Y=0\n",
    "    SET_train.append([1,x1azul_train[i],x2azul_train[i],0])\n",
    "\n",
    "for i in range(len(x1rojo_train)): #Y=1\n",
    "    SET_train.append([1,x1rojo_train[i],x2rojo_train[i],1])"
   ]
  },
  {
   "cell_type": "code",
   "execution_count": 14,
   "metadata": {},
   "outputs": [],
   "source": [
    "SET_test=[]\n",
    "\n",
    "x1azul_test = ptos_observados_azul_test[0,:]\n",
    "x2azul_test = ptos_observados_azul_test[1,:]\n",
    "\n",
    "x1rojo_test = ptos_observados_rojo_test[0,:]\n",
    "x2rojo_test = ptos_observados_rojo_test[1,:]\n",
    "\n",
    "for i in range(len(x1azul_test)): #Y=0\n",
    "    SET_test.append([1,x1azul_test[i],x2azul_test[i],0])\n",
    "\n",
    "for i in range(len(x1rojo_test)): #Y=1\n",
    "    SET_test.append([1,x1rojo_test[i],x2rojo_test[i],1])"
   ]
  },
  {
   "cell_type": "markdown",
   "metadata": {},
   "source": [
    "Adicionalmente se creará SET_test_2 que corresponde al segundo conjunto de testeo formado para solventar las limitaciones de la computadora en donde se forjó originalemte el código. Si su computadora es capaz de llevar a cabo este tipo de tareas con rapidez utilice SET_test en vez de SET_test_2."
   ]
  },
  {
   "cell_type": "code",
   "execution_count": 15,
   "metadata": {},
   "outputs": [],
   "source": [
    "SET_test_2=[]\n",
    "\n",
    "x1azul_test_2 = ptos_observados_azul_test_2[0,:]\n",
    "x2azul_test_2 = ptos_observados_azul_test_2[1,:]\n",
    "\n",
    "x1rojo_test_2 = ptos_observados_rojo_test_2[0,:]\n",
    "x2rojo_test_2 = ptos_observados_rojo_test_2[1,:]\n",
    "\n",
    "for i in range(len(x1azul_test_2)): #Y=0\n",
    "    SET_test_2.append([1,x1azul_test_2[i],x2azul_test_2[i],0])\n",
    "\n",
    "for i in range(len(x1rojo_test_2)): # Y=1\n",
    "    SET_test_2.append([1,x1rojo_test_2[i],x2rojo_test_2[i],1])"
   ]
  },
  {
   "cell_type": "markdown",
   "metadata": {},
   "source": [
    "Los largos correspondientes a cada SET se muestran a continuación."
   ]
  },
  {
   "cell_type": "code",
   "execution_count": 16,
   "metadata": {},
   "outputs": [
    {
     "name": "stdout",
     "output_type": "stream",
     "text": [
      "200 10000 1000\n"
     ]
    }
   ],
   "source": [
    "print(len(SET_train), len(SET_test),len(SET_test_2))"
   ]
  },
  {
   "cell_type": "markdown",
   "metadata": {},
   "source": [
    "## Análisis de funciones para calcular predicciones.\n",
    "\n",
    "## Caso 1: Función lineal o Mínimos cuadrados\n",
    "\n",
    "- Hipótesis: función lineal\n",
    "- Función costo: RSS \n",
    "- Minimización: beta obtenido teóricamente (Normal Equation)\n",
    "- Evaluación: accuracy y test error\n",
    "\n",
    "En este caso asumimos que el modelo de clasificación o hipotesis esta dado por una funcion lineal del tipo \n",
    "\n",
    "$$ f(x1,x2) = \\theta_0 + \\theta_1 x_1 + \\theta_2 x_2 $$\n",
    "\n",
    "y que los valores de theta son obtenidos a partir de la busqueda del minimo de la funcion RSS con respecto a los datos del conjunto de entrenamiento. Este minimo puede ser encontrado analitcamente, como es nuestro caso actual, pero tambien puede ser encontrado numericamente, por ejemplo utilizando generacion de puntos aleatorios y seleccion del minimo. \n",
    "\n",
    "Forma analítica:\n",
    "\n",
    "$$ RSS(\\beta) =  \\sum_{i=1}^N (y_i - x_i ^T \\beta)^2$$\n",
    "N indica el número de puntos, los que son de la forma ${(x_1,y_1),(x_2,y_2)...,(x_N,y_N)}$.\n",
    "Utilizando notación matricial, RSS() queda como:\n",
    "\n",
    "$$ RSS(\\beta) = (Y - X\\beta)^T(Y - X\\beta)$$\n",
    "\n",
    "Cabe destacar que en este ejercicio en particular, $\\beta$ posee una dimensión igual a 3, Y tiene una dimensión igual a $N$ y X una dimensión de $N x 3$.\n",
    "\n",
    "Finalmente, para encontrar los coeficientes que componen a vector $\\beta$ se debe derivar RSS() con respecto a $\\beta$ y luego igualar a 0, con lo que se obtiene lo siguiente.\n",
    "$$\\hat{\\beta} = (X^T X)^{-1}X^T Y$$\n",
    "\n",
    "Otra forma de hacer esta busqueda del minimo de RSS o funcion de costo en el lenguage de Machine Learning es utilizando una tecnica llamada Gradient Descent que es tipica en ML y que aparece explicado en el segundo item del curso Machine Learning de Andrew Ng."
   ]
  },
  {
   "cell_type": "code",
   "execution_count": 17,
   "metadata": {},
   "outputs": [],
   "source": [
    "X=[]\n",
    "Y=[]\n",
    "\n",
    "#Los valores de SET[i][1] y SET[i][2] se colocarán en X y se vizualizarán como las nuevas variables x1 y x2.\n",
    "for i in range(len(SET_train)):  \n",
    "    X.append([1,SET_train[i][1],SET_train[i][2]])\n",
    "\n",
    "\n",
    "#Ahora se colocarán los valores SET[i][3] en Y.\n",
    "for i in range(len(SET_train)): \n",
    "    Y.append(SET_train[i][3])\n",
    "    \n",
    "X=np.array(X)                     \n",
    "Y=np.array(Y)\n",
    "\n",
    "XT=X.transpose()"
   ]
  },
  {
   "cell_type": "code",
   "execution_count": 18,
   "metadata": {},
   "outputs": [
    {
     "name": "stdout",
     "output_type": "stream",
     "text": [
      "(200, 3) (200,) (3, 200)\n"
     ]
    }
   ],
   "source": [
    "print(X.shape, Y.shape, XT.shape)"
   ]
  },
  {
   "cell_type": "code",
   "execution_count": 19,
   "metadata": {},
   "outputs": [
    {
     "data": {
      "text/plain": [
       "array([[200.        ,  77.8513605 ,  23.17169849],\n",
       "       [ 77.8513605 , 321.47844061, -20.12005202],\n",
       "       [ 23.17169849, -20.12005202, 125.2258927 ]])"
      ]
     },
     "execution_count": 19,
     "metadata": {},
     "output_type": "execute_result"
    }
   ],
   "source": [
    "XTdotX = np.dot(XT,X)\n",
    "XTdotX"
   ]
  },
  {
   "cell_type": "code",
   "execution_count": 20,
   "metadata": {},
   "outputs": [
    {
     "data": {
      "text/plain": [
       "array([[ 0.00572073, -0.00146637, -0.00129416],\n",
       "       [-0.00146637,  0.00351809,  0.00083659],\n",
       "       [-0.00129416,  0.00083659,  0.00835945]])"
      ]
     },
     "execution_count": 20,
     "metadata": {},
     "output_type": "execute_result"
    }
   ],
   "source": [
    "XTdotX_inversa = np.linalg.inv(XTdotX)\n",
    "XTdotX_inversa"
   ]
  },
  {
   "cell_type": "code",
   "execution_count": 21,
   "metadata": {},
   "outputs": [],
   "source": [
    "XTdotX_inversa_dotXT = np.dot(XTdotX_inversa, XT)"
   ]
  },
  {
   "cell_type": "code",
   "execution_count": 22,
   "metadata": {},
   "outputs": [
    {
     "name": "stdout",
     "output_type": "stream",
     "text": [
      "[ 0.53328852 -0.15897972  0.24681334]\n"
     ]
    }
   ],
   "source": [
    "beta_analitico = np.dot(XTdotX_inversa_dotXT,Y)\n",
    "print(beta_analitico)"
   ]
  },
  {
   "cell_type": "markdown",
   "metadata": {},
   "source": [
    "### Visualizacion de las predicciones considerando los datos del conjunto de testeo y del conjunto de entrenamiento\n",
    "\n",
    "Con el valor del vector beta_analitico es posible visualizar como funciona este modelo de prediccion con la función lineal para los puntos del conjunto de entrenamuiento y del conjunto de testeo separadamente.\n",
    "\n",
    "Para esto, primero se necesita crear las siguientes funciones:"
   ]
  },
  {
   "cell_type": "code",
   "execution_count": 23,
   "metadata": {},
   "outputs": [],
   "source": [
    "def funcion_lineal(x1, x2, beta): \n",
    "    \n",
    "    y_prediccion = beta[0] + x1*beta[1] + x2*beta[2]\n",
    "    return y_prediccion "
   ]
  },
  {
   "cell_type": "code",
   "execution_count": 27,
   "metadata": {},
   "outputs": [],
   "source": [
    "def listas_de_predicciones_lineal(SET):\n",
    "\n",
    "    lista_de_predicciones_azul = []\n",
    "    lista_de_predicciones_rojo = []\n",
    "\n",
    "    for pto in range(len(SET)):\n",
    "        prediccion = funcion_lineal(SET[pto][1], SET[pto][2], beta_analitico)\n",
    "\n",
    "    #Utilizando el valor de la prediccion separamos entre puntos azules y rojos\n",
    "    \n",
    "        if (prediccion <= 0.5):\n",
    "            lista_de_predicciones_azul.append([SET[pto][1], SET[pto][2]])\n",
    "        if (prediccion > 0.5):\n",
    "            lista_de_predicciones_rojo.append([SET[pto][1], SET[pto][2]])\n",
    "        \n",
    "    return np.array(lista_de_predicciones_azul), np.array(lista_de_predicciones_rojo)"
   ]
  },
  {
   "cell_type": "markdown",
   "metadata": {},
   "source": [
    "Ahora para visualizar el modelo tanto para el conjunto de entrenamiento como para el conjunto de testeo haremos lo siguiente."
   ]
  },
  {
   "cell_type": "code",
   "execution_count": 28,
   "metadata": {},
   "outputs": [],
   "source": [
    "predicciones_azul_train, predicciones_rojo_train = listas_de_predicciones_lineal(SET_train)\n",
    "\n",
    "predicciones_azul_train_t = predicciones_azul_train.transpose()\n",
    "predicciones_rojo_train_t = predicciones_rojo_train.transpose()"
   ]
  },
  {
   "cell_type": "code",
   "execution_count": 29,
   "metadata": {},
   "outputs": [],
   "source": [
    "predicciones_azul_test, predicciones_rojo_test = listas_de_predicciones_lineal(SET_test)\n",
    "\n",
    "predicciones_azul_test_t = predicciones_azul_test.transpose()\n",
    "predicciones_rojo_test_t = predicciones_rojo_test.transpose()"
   ]
  },
  {
   "cell_type": "markdown",
   "metadata": {},
   "source": [
    "Con esto podemos comparar visualmente las predicciones sobre el conjunto de entrenamiento y el coonjunto de testeo. A continuación se observan los 200 puntos simulados inicialmente que pertenecen al conjunto de entrenamiento."
   ]
  },
  {
   "cell_type": "code",
   "execution_count": 30,
   "metadata": {},
   "outputs": [
    {
     "data": {
      "image/png": "[encoded data removed]",
      "text/plain": [
       "<Figure size 432x288 with 1 Axes>"
      ]
     },
     "metadata": {
      "needs_background": "light"
     },
     "output_type": "display_data"
    }
   ],
   "source": [
    "visualize_colors(ptos_observados_azul_train, ptos_observados_rojo_train)"
   ]
  },
  {
   "cell_type": "markdown",
   "metadata": {},
   "source": [
    "A continuación se observa la predicción hecha por la función lineal en el conjunto de entrenamiento:"
   ]
  },
  {
   "cell_type": "code",
   "execution_count": 41,
   "metadata": {},
   "outputs": [
    {
     "data": {
      "image/png": "[encoded data removed]",
      "text/plain": [
       "<Figure size 432x288 with 1 Axes>"
      ]
     },
     "metadata": {
      "needs_background": "light"
     },
     "output_type": "display_data"
    }
   ],
   "source": [
    "visualize_colors(predicciones_azul_train_t, predicciones_rojo_train_t)"
   ]
  },
  {
   "cell_type": "markdown",
   "metadata": {},
   "source": [
    "A continuación observamos los 10000 puntos creados anteriormente que pertenecen al SET_test:"
   ]
  },
  {
   "cell_type": "code",
   "execution_count": 42,
   "metadata": {},
   "outputs": [
    {
     "data": {
      "image/png": "[encoded data removed]",
      "text/plain": [
       "<Figure size 432x288 with 1 Axes>"
      ]
     },
     "metadata": {
      "needs_background": "light"
     },
     "output_type": "display_data"
    }
   ],
   "source": [
    "visualize_colors(ptos_observados_azul_test, ptos_observados_rojo_test)"
   ]
  },
  {
   "cell_type": "markdown",
   "metadata": {},
   "source": [
    "A continuación se observa la predicción hecha por la función lineal para estos puntos pertenecientes a SET_test:"
   ]
  },
  {
   "cell_type": "code",
   "execution_count": 31,
   "metadata": {},
   "outputs": [
    {
     "data": {
      "image/png": "[encoded data removed]",
      "text/plain": [
       "<Figure size 432x288 with 1 Axes>"
      ]
     },
     "metadata": {
      "needs_background": "light"
     },
     "output_type": "display_data"
    }
   ],
   "source": [
    "visualize_colors(predicciones_azul_test_t, predicciones_rojo_test_t)"
   ]
  },
  {
   "cell_type": "markdown",
   "metadata": {},
   "source": [
    "### Evaluación de la hipotesis lineal en terminos de las metricas \"Accuracy\" y el \"Test Error\"\n",
    "\n",
    "Por definicion vamos a considerar que la accuracy y el test error estan dados por\n",
    "\n",
    "$$Accuracy = \\frac{PC}{PC+ PI}$$ \n",
    "Con PC los puntos predichos correctamente y PI los puntos predichos incorrectamente\n",
    "\n",
    "$$Test_{error} = 1 - accuracy$$\n",
    "\n",
    "Estas son métricas que nos permiten evaluar la performance de la hipótesis (en este caso la función lineal) una vez que hemos encontrado los valores de los parametros libres ($\\theta$). Evaluaremos estas dos métricas en ambos conjuntos de datos (el de entrenamiento y el de testeo).\n",
    "\n",
    "El valor del Accuracy (o la exactitud) medido en el conjunto de entrenamiento nos indica cuantitativamente el nivel de aprendizaje del modelo, dado que en este paso estamos intentando ajustar el modelo a los datos conocidos. Mientras que el Acurracy medido en el conjunto de testeo nos indica su poder de prediccion, dado que estos datos no fueron utilizados para el entrenamiento del modelo. \n",
    "\n",
    "Normalmente se espera que el valor de la Accuracy sea mejor (o más cercano a 1) en el conjunto de entrenamiento que en el conjunto de testeo, porque los datos del primer conjunto fueron los utilizados para calcular los parametros del modelo. Sin embargo esto no está garantizado matemáticamente.\n",
    "\n",
    "En general es recomendable obtener un valor del accuracy cercano a 1 en el conjunto de testeo dado que nuestro objectivo final es tener poder de prediccion, no solo de ajustar los datos conocidos."
   ]
  },
  {
   "cell_type": "code",
   "execution_count": 32,
   "metadata": {},
   "outputs": [],
   "source": [
    "def accuracy_funcion_lineal(SET, beta):\n",
    "\n",
    "    ptos_correctos = 0\n",
    "    ptos_incorrectos = 0\n",
    "    \n",
    "    for pto in range(len(SET)):\n",
    "        prediccion = funcion_lineal(SET[pto][1], SET[pto][2], beta)\n",
    "        \n",
    "        if (((prediccion < 0.5) and (SET[pto][3]==0)) or\n",
    "            ((prediccion > 0.5) and (SET[pto][3]==1))):\n",
    "            \n",
    "            ptos_correctos = ptos_correctos + 1\n",
    "        else:\n",
    "            ptos_incorrectos = ptos_incorrectos + 1\n",
    "            \n",
    "    ratio = ptos_correctos/(ptos_correctos + ptos_incorrectos)\n",
    "        \n",
    "        \n",
    "    print(\"puntos correctos: %d y puntos incorrectos: %d\"%(ptos_correctos, ptos_incorrectos))\n",
    "        \n",
    "    return ratio"
   ]
  },
  {
   "cell_type": "markdown",
   "metadata": {},
   "source": [
    "### Evaluación del modelo usando el conjunto de entrenamiento"
   ]
  },
  {
   "cell_type": "code",
   "execution_count": 33,
   "metadata": {},
   "outputs": [
    {
     "name": "stdout",
     "output_type": "stream",
     "text": [
      "puntos correctos: 151 y puntos incorrectos: 49\n",
      "train accuracy: 0.76 and test error: 0.24 \n"
     ]
    }
   ],
   "source": [
    "train_accuracy = accuracy_funcion_lineal(SET_train, beta_analitico)\n",
    "train_error = 1 - train_accuracy\n",
    "print(\"train accuracy: %.2f and test error: %.2f \"%(train_accuracy, train_error))"
   ]
  },
  {
   "cell_type": "markdown",
   "metadata": {},
   "source": [
    "### Evaluación del modelo usando el conjunto de testeo"
   ]
  },
  {
   "cell_type": "code",
   "execution_count": 34,
   "metadata": {},
   "outputs": [
    {
     "name": "stdout",
     "output_type": "stream",
     "text": [
      "puntos correctos: 7687 y puntos incorrectos: 2313\n",
      "test accuracy: 0.77 and test error: 0.23 \n"
     ]
    }
   ],
   "source": [
    "test_accuracy = accuracy_funcion_lineal(SET_test, beta_analitico)\n",
    "test_error = 1 - test_accuracy\n",
    "print(\"test accuracy: %.2f and test error: %.2f \"%(test_accuracy, test_error))"
   ]
  },
  {
   "cell_type": "markdown",
   "metadata": {},
   "source": [
    "## Caso 2: K vecinos más cercanos\n",
    "\n",
    "- Hipótesis 2: K Nearest Neighbor (kNN)\n",
    "- Función costo: No existe \n",
    "- Minimización: No existe\n",
    "- Evaluación: Accuracy y Test error\n",
    "\n",
    "Debemos notar que KNN es un caso bastante particular en Machine Learning dado que no podemos seguir el mismo proceso mencionado anteriormente para la hipótesis lineal, el cual es útil en muchos otros ejemplos. Esto basicamente sucede porque cualquier función de costo que mida la cercanía entre la predicción del color en un punto del conjunto de entrenamiento con los valores conocidos del conjunto entregará N = 1 (un vecino cercano, el mismo punto). \n",
    "\n",
    "Por otro lado es posible buscar el valor de N tal que el poder predictivo de KNN sea optimizado. Por ejemplo, se puede buscar aquel valor de N tal que maximize la accuracy con respecto a los datos del test, pero solo usando los puntos del train para el calculo de la prediccion. Esto es lo que nos permite justamente el gráfico 2.4 del libro The Elements."
   ]
  },
  {
   "cell_type": "markdown",
   "metadata": {},
   "source": [
    "KNN es un método que busca en las observaciones más cercanas a la que se está tratando de predecir y clasifica el punto de interés basado en la mayoría de datos que le rodean. Para llevar a cabo este algoritmo se deben seguir los siguientes pasos:\n",
    "- Se debe calcular la distancia entre el punto a clasificar y el resto de puntos del conjunto de entrenamiento.\n",
    "- Seleccionar los k puntos más cercanos (con menor distancia). Esta sará la tarea de las funciones (creadas más adelante) MinimumDistance() y k_puntos_mas_cercanos()\n",
    "- Finalmente para clasificar este punto se calculará la clase (valor de Y) que domine dentro de los k puntos más cercanos. Para realizar esta clasificación se obtendrá el promedio de los valores de Y de los k puntos más cercanos y si este promedio es mayor a 0.5 el punto en cuestión pertenecerá a la distribución normal roja y si este promedio es menor o igual a 0.5, el punto será parte de la distribución normal azul. \n",
    "\n",
    "--------------------------\n",
    "\n",
    "Durante la realización de este caso se utilizará el segundo conjunto de testeo SET_test_2 en vez de SET_test, ya que en esta sección del procedimiento mi computadora comienza a tener problemas para procesar los datos. "
   ]
  },
  {
   "cell_type": "code",
   "execution_count": 35,
   "metadata": {},
   "outputs": [],
   "source": [
    "def MinimumDistance(punto,SET):\n",
    "    distancia_min=1000\n",
    "    for i in range(len(SET)):\n",
    "        d=np.sqrt((SET[i][1]-punto[0])**2+(SET[i][2]-punto[1])**2)\n",
    "        if d <= distancia_min:\n",
    "            distancia_min=d\n",
    "            punto_min=[SET[i][0],SET[i][1],SET[i][2],SET[i][3]]\n",
    "    return distancia_min, punto_min  \n",
    "           \n",
    "\n",
    "def k_puntos_mas_cercanos(pto,SET,k):\n",
    "    set_copia =SET.copy()    \n",
    "    lista_vecinos=[]\n",
    "   \n",
    "    for i in range(k):                                  \n",
    "        punto_cercano = MinimumDistance(pto,set_copia)[1] \n",
    "        lista_vecinos.append(punto_cercano)\n",
    "        set_copia.remove(punto_cercano)\n",
    "                                                       \n",
    "    return lista_vecinos  \n",
    "\n",
    "\n",
    "def promedio(lista_puntos):\n",
    "    suma_total=0\n",
    "    prom = 0\n",
    "    \n",
    "    if (len(lista_puntos) > 0): #nos aseguramos de que el largo de la lista sea distinto de cero\n",
    "    \n",
    "        for elemento in lista_puntos:\n",
    "            \n",
    "            suma_total = suma_total + elemento[3]\n",
    "    \n",
    "        prom = suma_total / len(lista_puntos)    \n",
    "    \n",
    "    return prom\n",
    "\n",
    "\n",
    "def prediccion_knn(SET,k):\n",
    "    LISTA_AZUL=[]\n",
    "    LISTA_ROJO=[]\n",
    "    \n",
    "    for elemento in range(len(SET)):\n",
    "    \n",
    "        pto = [SET[elemento][1],SET[elemento][2]]\n",
    "        lista_vecinos_cercanos=k_puntos_mas_cercanos(pto,SET,k)\n",
    "        y_hat = promedio(lista_vecinos_cercanos)\n",
    "    \n",
    "        if y_hat > 0.5:\n",
    "            LISTA_ROJO.append([SET[elemento][1],SET[elemento][2]])\n",
    "        else :\n",
    "            LISTA_AZUL.append([SET[elemento][1],SET[elemento][2]])\n",
    "    \n",
    "    return LISTA_AZUL , LISTA_ROJO"
   ]
  },
  {
   "cell_type": "markdown",
   "metadata": {},
   "source": [
    "Con esto podemos obtener las predicciones según el método KNN. Para visualizar esto, podemos ver como resulta la predicción según 15 vecinos (k=5)."
   ]
  },
  {
   "cell_type": "code",
   "execution_count": 36,
   "metadata": {},
   "outputs": [],
   "source": [
    "puntosAzul_train, puntosRojo_train = prediccion_knn(SET_train,15)"
   ]
  },
  {
   "cell_type": "code",
   "execution_count": 37,
   "metadata": {},
   "outputs": [],
   "source": [
    "puntosAzul_test_2, puntosRojo_test_2 = prediccion_knn(SET_test_2,15)"
   ]
  },
  {
   "cell_type": "code",
   "execution_count": 39,
   "metadata": {},
   "outputs": [
    {
     "name": "stdout",
     "output_type": "stream",
     "text": [
      "96 104 512 488\n"
     ]
    }
   ],
   "source": [
    "print(len(puntosAzul_train),len(puntosRojo_train),len(puntosAzul_test_2),len(puntosRojo_test_2))"
   ]
  },
  {
   "cell_type": "code",
   "execution_count": 40,
   "metadata": {},
   "outputs": [],
   "source": [
    "puntosAzul_train_t = np.array(puntosAzul_train).transpose()\n",
    "puntosRojo_train_t = np.array(puntosRojo_train).transpose() \n",
    "puntosAzul_test_t = np.array(puntosAzul_test_2).transpose()\n",
    "puntosRojo_test_t = np.array(puntosRojo_test_2).transpose() "
   ]
  },
  {
   "cell_type": "markdown",
   "metadata": {},
   "source": [
    "A continuación observamos los 200 puntos simulados inicialmente pertenecientes al conjunto de entrenamiento:"
   ]
  },
  {
   "cell_type": "code",
   "execution_count": 41,
   "metadata": {},
   "outputs": [
    {
     "data": {
      "image/png": "[encoded data removed]",
      "text/plain": [
       "<Figure size 432x288 with 1 Axes>"
      ]
     },
     "metadata": {
      "needs_background": "light"
     },
     "output_type": "display_data"
    }
   ],
   "source": [
    "visualize_colors(ptos_observados_azul_train, ptos_observados_rojo_train)"
   ]
  },
  {
   "cell_type": "markdown",
   "metadata": {},
   "source": [
    "A continuación se observa la predicción hecha por el algoritmo de KNN (K=15) para estos puntos del conjunto de entrenamiento:"
   ]
  },
  {
   "cell_type": "code",
   "execution_count": 42,
   "metadata": {},
   "outputs": [
    {
     "data": {
      "image/png": "[encoded data removed]",
      "text/plain": [
       "<Figure size 432x288 with 1 Axes>"
      ]
     },
     "metadata": {
      "needs_background": "light"
     },
     "output_type": "display_data"
    }
   ],
   "source": [
    "visualize_colors(puntosAzul_train_t,puntosRojo_train_t)"
   ]
  },
  {
   "cell_type": "markdown",
   "metadata": {},
   "source": [
    "A continuación observamos los 1000 puntos creados anteriormente que pertenecen al SET_test_2:"
   ]
  },
  {
   "cell_type": "code",
   "execution_count": 43,
   "metadata": {},
   "outputs": [
    {
     "data": {
      "image/png": "[encoded data removed]",
      "text/plain": [
       "<Figure size 432x288 with 1 Axes>"
      ]
     },
     "metadata": {
      "needs_background": "light"
     },
     "output_type": "display_data"
    }
   ],
   "source": [
    "visualize_colors(ptos_observados_azul_test_2, ptos_observados_rojo_test_2)"
   ]
  },
  {
   "cell_type": "markdown",
   "metadata": {},
   "source": [
    "A continuación se observa la predicción hecha por el algoritmo de KNN (K=15) para estos puntos pertenecientes a SET_test_2:"
   ]
  },
  {
   "cell_type": "code",
   "execution_count": 44,
   "metadata": {},
   "outputs": [
    {
     "data": {
      "image/png": "[encoded data removed]",
      "text/plain": [
       "<Figure size 432x288 with 1 Axes>"
      ]
     },
     "metadata": {
      "needs_background": "light"
     },
     "output_type": "display_data"
    }
   ],
   "source": [
    "visualize_colors(puntosAzul_test_t,puntosRojo_test_t)"
   ]
  },
  {
   "cell_type": "markdown",
   "metadata": {},
   "source": [
    "### Evaluación de la hipotesis KNN en terminos de las metricas Accuracy y el Test error"
   ]
  },
  {
   "cell_type": "code",
   "execution_count": 45,
   "metadata": {},
   "outputs": [],
   "source": [
    "def accuracy_knn(SET, SET_train, k):\n",
    "    ptos_correctos = 0\n",
    "    ptos_incorrectos = 0\n",
    "    \n",
    "    for pto in range(len(SET)):\n",
    "    \n",
    "        punto_de_prueba = [SET[pto][1],SET[pto][2]]\n",
    "        \n",
    "        lista_vecinos_cercanos = k_puntos_mas_cercanos(punto_de_prueba,SET_train,k)\n",
    "\n",
    "        prediccion = promedio(lista_vecinos_cercanos)\n",
    "                \n",
    "        if (((prediccion < 0.5) and (SET[pto][3]==0)) or ((prediccion > 0.5) and (SET[pto][3]==1))):\n",
    "\n",
    "             ptos_correctos = ptos_correctos + 1\n",
    "                \n",
    "        else:\n",
    "            ptos_incorrectos = ptos_incorrectos + 1\n",
    "            \n",
    "    ratio = ptos_correctos/(ptos_correctos + ptos_incorrectos)\n",
    "        \n",
    "    return ratio"
   ]
  },
  {
   "cell_type": "markdown",
   "metadata": {},
   "source": [
    "### Evaluación del modelo usando el conjunto de entrenamiento para un k fijo"
   ]
  },
  {
   "cell_type": "markdown",
   "metadata": {},
   "source": [
    "Primero probaremos la función accuracy_knn(), que fue creada anteriormente, utilizando un numero fijo de vecinos (k=3):"
   ]
  },
  {
   "cell_type": "code",
   "execution_count": 46,
   "metadata": {},
   "outputs": [
    {
     "name": "stdout",
     "output_type": "stream",
     "text": [
      "train accuracy of k=3: 0.86 and test error of k=3: 0.14 \n"
     ]
    }
   ],
   "source": [
    "train_accuracy_knn = accuracy_knn(SET_train, SET_train, 3)\n",
    "train_error_knn = 1 - train_accuracy_knn\n",
    "print(\"train accuracy of k=3: %.2f and test error of k=3: %.2f \"%(train_accuracy_knn, train_error_knn))"
   ]
  },
  {
   "cell_type": "markdown",
   "metadata": {},
   "source": [
    "### Evaluación del modelo usando el conjunto de testeo 2 para un k fijo"
   ]
  },
  {
   "cell_type": "code",
   "execution_count": 47,
   "metadata": {},
   "outputs": [
    {
     "name": "stdout",
     "output_type": "stream",
     "text": [
      "test accuracy of k=3: 0.72 and test error of k=3: 0.28 \n"
     ]
    }
   ],
   "source": [
    "test_accuracy_knn = accuracy_knn(SET_test_2, SET_train, 3)\n",
    "test_error_knn = 1 - test_accuracy_knn\n",
    "print(\"test accuracy of k=3: %.2f and test error of k=3: %.2f \"%(test_accuracy_knn, test_error_knn))"
   ]
  },
  {
   "cell_type": "markdown",
   "metadata": {},
   "source": [
    "### Evaluación del modelo usando varios k\n",
    "\n",
    "\n",
    "Algoritmo:\n",
    "\n",
    "    - Generamos una lista de valores de k para evaluar el test_error\n",
    "    - Evaluamos el test_error explorando los puntos del SET_train y evaluando con los puntos del SET_train\n",
    "    - Evaluamos el test_error explorando los puntos del SET_test_2 y evaluando con los puntos del SET_train\n",
    "    \n",
    "Notar que en ambos casos la evaluacion la hacemos usando los puntos del SET_train, dado que en principio no sabemos los colores del SET_test_2 y es justamente lo que estamos buscando predecir, asi que solo podemos usar la informacion del SET_train"
   ]
  },
  {
   "cell_type": "code",
   "execution_count": 61,
   "metadata": {},
   "outputs": [
    {
     "data": {
      "text/plain": [
       "[1,\n",
       " 5,\n",
       " 10,\n",
       " 15,\n",
       " 20,\n",
       " 25,\n",
       " 30,\n",
       " 35,\n",
       " 40,\n",
       " 45,\n",
       " 50,\n",
       " 55,\n",
       " 60,\n",
       " 65,\n",
       " 70,\n",
       " 75,\n",
       " 80,\n",
       " 85,\n",
       " 90,\n",
       " 95,\n",
       " 100,\n",
       " 105,\n",
       " 110,\n",
       " 115,\n",
       " 120,\n",
       " 125,\n",
       " 130,\n",
       " 135,\n",
       " 140,\n",
       " 145]"
      ]
     },
     "execution_count": 61,
     "metadata": {},
     "output_type": "execute_result"
    }
   ],
   "source": [
    "k_list = [1]\n",
    "\n",
    "for i in range(1,30):\n",
    "    k_list.append(5*i)\n",
    "    \n",
    "k_list"
   ]
  },
  {
   "cell_type": "code",
   "execution_count": 62,
   "metadata": {},
   "outputs": [
    {
     "name": "stdout",
     "output_type": "stream",
     "text": [
      "k, test_error\n",
      "1, 0.00\n",
      "5, 0.24\n",
      "10, 0.31\n",
      "15, 0.23\n",
      "20, 0.26\n",
      "25, 0.24\n",
      "30, 0.26\n",
      "35, 0.24\n",
      "40, 0.25\n",
      "45, 0.24\n",
      "50, 0.25\n",
      "55, 0.24\n",
      "60, 0.24\n",
      "65, 0.24\n",
      "70, 0.24\n",
      "75, 0.24\n",
      "80, 0.24\n",
      "85, 0.24\n",
      "90, 0.24\n",
      "95, 0.24\n",
      "100, 0.24\n",
      "105, 0.23\n",
      "110, 0.24\n",
      "115, 0.23\n",
      "120, 0.25\n",
      "125, 0.24\n",
      "130, 0.24\n",
      "135, 0.23\n",
      "140, 0.24\n",
      "145, 0.23\n"
     ]
    }
   ],
   "source": [
    "lista_vecinos_train = []           \n",
    "lista_error_train= []         \n",
    "\n",
    "print(\"k, test_error\")\n",
    "\n",
    "for i in k_list:\n",
    "    test_error = 1 - accuracy_knn(SET_train, SET_train, i)\n",
    "    print(\"%d, %.2f\"%(i, test_error))  #nos permite ver el avance del programa cuando se ejecuta\n",
    "    lista_vecinos_train.append(i)\n",
    "    lista_error_train.append(test_error)"
   ]
  },
  {
   "cell_type": "code",
   "execution_count": 63,
   "metadata": {},
   "outputs": [
    {
     "name": "stdout",
     "output_type": "stream",
     "text": [
      "k, test_error\n",
      "1, 0.31\n",
      "5, 0.28\n",
      "10, 0.32\n",
      "15, 0.26\n",
      "20, 0.28\n",
      "25, 0.24\n",
      "30, 0.26\n",
      "35, 0.23\n",
      "40, 0.23\n",
      "45, 0.22\n",
      "50, 0.23\n",
      "55, 0.22\n",
      "60, 0.23\n",
      "65, 0.22\n",
      "70, 0.22\n",
      "75, 0.22\n",
      "80, 0.22\n",
      "85, 0.22\n",
      "90, 0.22\n",
      "95, 0.22\n",
      "100, 0.22\n",
      "105, 0.21\n",
      "110, 0.22\n",
      "115, 0.22\n",
      "120, 0.22\n",
      "125, 0.22\n",
      "130, 0.22\n",
      "135, 0.22\n",
      "140, 0.22\n",
      "145, 0.23\n"
     ]
    }
   ],
   "source": [
    "lista_vecinos_test = []\n",
    "lista_error_test = []\n",
    "\n",
    "print(\"k, test_error\")\n",
    "\n",
    "for i in k_list:  #hacemos saltos de a 3 para asimilar lo que sale en el libro\n",
    "    test_error = 1 - accuracy_knn(SET_test_2, SET_train, i)\n",
    "    print(\"%d, %.2f\"%(i, test_error))  \n",
    "    lista_vecinos_test.append(i)\n",
    "    lista_error_test.append(test_error)"
   ]
  },
  {
   "cell_type": "code",
   "execution_count": 64,
   "metadata": {},
   "outputs": [],
   "source": [
    "lista_vecinos_train = np.array(lista_vecinos_train)\n",
    "lista_error_train = np.array(lista_error_train)\n",
    "\n",
    "lista_vecinos_test = np.array(lista_vecinos_test)\n",
    "lista_error_test = np.array(lista_error_test)"
   ]
  },
  {
   "cell_type": "markdown",
   "metadata": {},
   "source": [
    "Con estos datos, podemos visualizar el comportamiento del test_error frente a distintos número de vecinos."
   ]
  },
  {
   "cell_type": "code",
   "execution_count": 65,
   "metadata": {},
   "outputs": [
    {
     "data": {
      "image/png": "[encoded data removed]",
      "text/plain": [
       "<Figure size 432x288 with 1 Axes>"
      ]
     },
     "metadata": {
      "needs_background": "light"
     },
     "output_type": "display_data"
    }
   ],
   "source": [
    "plt.plot(lista_vecinos_train,lista_error_train, \"bo-\", label = \"Train Sample\")\n",
    "plt.plot(lista_vecinos_test,lista_error_test,\"ro-\", label = \"Test Sample\")\n",
    "plt.title(\"Gráfico 2.4\")\n",
    "plt.xlabel(\"Número de vecinos (K)\")\n",
    "plt.ylabel(\"Test error\")\n",
    "plt.legend()\n",
    "plt.show()"
   ]
  },
  {
   "cell_type": "markdown",
   "metadata": {},
   "source": [
    "## Conclusiones"
   ]
  },
  {
   "cell_type": "markdown",
   "metadata": {},
   "source": [
    "- Se simularon los datos siguiendo el procedimiento indicado en el libro \"The Elements of Statistical Learning\".\n",
    "\n",
    "\n",
    "- Se construyeron tres conjuntos de datos con distintos tamaños, los cuales fueron visualizados de manera gráfica.\n",
    "\n",
    "\n",
    "- Se contruiyeron dos modelos de predicción (función lineal y KNN) para clasificar los datos contenindos en los sets de entrenamiento y de testeo. Las predicciones de estos dos modelos fueron visualizadas de manera gráfica. \n",
    "\n",
    "\n",
    "- Se construyó el modelo de Función Lineal utilizando la función de costo RSS, que en esta ocasión, fue minimizada de manera analítica (también es posible de manera numérica). Como una próxima tarea se podría utilizar la función de costo gradient descent y comparar que función de consto es más rápida y minimiza de mejor manera el error.\n",
    "\n",
    "\n",
    "- Se esperaba que el valor del accuracy fuera mejor (más cercano a 1) en el conjunto de entrenamiento que en el de testeo (ya que los datos del conjunto de entrenamiento fueron los utilizados para calcular los parametros del modelo).Sin embargo, esto no se sucedió en el modelo de la función lineal, ya que el accuracy fue mejor en el conjunto de testeo. Esto nos indica que esta hipótesis no siempre se cumple.\n",
    "\n",
    "\n",
    "- Se analizó el modelo KNN para un K fijo (K=3), del cual se obtubo un mejor accuracy para el conjunto de entrenamiento.\n",
    "\n",
    "\n",
    "- Se estudió el comportamiento del modelo KNN para varios vecinos, utilizando el set de entrenamiento y el segundo set de testeo (1000 puntos). En la gráfica se observó que a partir de los 30 vecinos el test_error fue mayor para el conjunto de entrenamiento que para el conjunto de testeo. En la gráfica también se observa que a partir de los 40 vecinos (aprox) el valor del test_error es bastante estable para los dos conjuntos de datos. Estos dos hechos no coinciden con lo mostrado en el libro \"The Elements of Statistical Learning\" (fig 2.4), ya que en esta figura se observa que el error del conjunto de testeo es siempre mayor al del conjunto de entrenamiento, además, en esta figura se observa que a medida que aumenta el número de vecinos, aumenta el error (para los dos conjuntos de datos). ¿Esto podría deberse a que el set de testeo que utilizé (1000 ptos) tiene menos datos que el del libro (10000 ptos)?. \n",
    "\n",
    "\n",
    "- El error (test_error) del método KNN es similar al error de la función lineal a partir de los 45 vecinos aprox. \n"
   ]
  },
  {
   "cell_type": "code",
   "execution_count": null,
   "metadata": {},
   "outputs": [],
   "source": []
  }
 ],
 "metadata": {
  "kernelspec": {
   "display_name": "Python 3",
   "language": "python",
   "name": "python3"
  },
  "language_info": {
   "codemirror_mode": {
    "name": "ipython",
    "version": 3
   },
   "file_extension": ".py",
   "mimetype": "text/x-python",
   "name": "python",
   "nbconvert_exporter": "python",
   "pygments_lexer": "ipython3",
   "version": "3.7.5"
  }
 },
 "nbformat": 4,
 "nbformat_minor": 2
}
