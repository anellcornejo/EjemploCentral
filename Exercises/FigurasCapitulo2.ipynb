{
 "cells": [
  {
   "cell_type": "markdown",
   "metadata": {},
   "source": [
    "# Figuras Capitulo 2 \"The Elements of Statistical Learning\""
   ]
  },
  {
   "cell_type": "markdown",
   "metadata": {},
   "source": [
    "Este notebook se dividirá en 6 partes:\n",
    "- Simulación de datos\n",
    "- Generación de todos los puntos de un gráfico\n",
    "- Reproducción figura 2.1\n",
    "- Reproducción figura 2.2\n",
    "- Reproducción figura 2.3\n",
    "- Reproducción figura 2.4"
   ]
  },
  {
   "cell_type": "markdown",
   "metadata": {},
   "source": [
    "Inicialmente importamos la libreria necesaria"
   ]
  },
  {
   "cell_type": "code",
   "execution_count": 2,
   "metadata": {},
   "outputs": [],
   "source": [
    "import numpy as np\n",
    "import matplotlib.pyplot as plt\n",
    "import random"
   ]
  },
  {
   "cell_type": "markdown",
   "metadata": {},
   "source": [
    "### Simulación de datos"
   ]
  },
  {
   "cell_type": "code",
   "execution_count": 1,
   "metadata": {},
   "outputs": [],
   "source": [
    "def centros_asociados_a_cada_color(color, kcentros):\n",
    "   \n",
    "    centro = np.array([0,0])\n",
    "    covarianza = np.identity(2)\n",
    "    \n",
    "    if color == 0: #azul\n",
    "        centro = np.array([1,0])\n",
    "    \n",
    "    if color == 1: #rojo\n",
    "        centro = np.array([0,1])\n",
    "\n",
    "    lista_de_centros = np.random.multivariate_normal(centro,covarianza,kcentros).T\n",
    "        \n",
    "    return lista_de_centros"
   ]
  },
  {
   "cell_type": "code",
   "execution_count": 3,
   "metadata": {},
   "outputs": [
    {
     "data": {
      "text/plain": [
       "array([[ 2.08757052,  0.8865604 , -0.61859456,  0.66535495, -0.25448683,\n",
       "         1.72052406, -0.54335009,  0.98643858,  0.31105614,  1.60401281],\n",
       "       [ 0.32313993,  0.20138227, -0.8626017 , -0.11600369, -2.48450045,\n",
       "        -0.49204144,  0.67851928, -0.32897488, -1.04306025, -0.24686415]])"
      ]
     },
     "execution_count": 3,
     "metadata": {},
     "output_type": "execute_result"
    }
   ],
   "source": [
    "centros_azul = centros_asociados_a_cada_color(0,10)\n",
    "centros_azul"
   ]
  },
  {
   "cell_type": "code",
   "execution_count": 4,
   "metadata": {},
   "outputs": [
    {
     "data": {
      "text/plain": [
       "array([[ 1.15919939,  0.00620106,  1.32176868,  0.3456437 ,  0.62948575,\n",
       "         0.29038686, -1.53029057,  0.672465  , -0.29496853, -1.05854616],\n",
       "       [ 2.34928204,  0.98629268,  0.48587025, -0.93640769,  0.05304977,\n",
       "         2.72796893,  0.56887609,  1.20097765,  2.05375559,  0.56681927]])"
      ]
     },
     "execution_count": 4,
     "metadata": {},
     "output_type": "execute_result"
    }
   ],
   "source": [
    "centros_rojo = centros_asociados_a_cada_color(1,10)\n",
    "centros_rojo"
   ]
  },
  {
   "cell_type": "code",
   "execution_count": 5,
   "metadata": {},
   "outputs": [],
   "source": [
    "def visualize_colors(ptos_azul, ptos_rojo):\n",
    "\n",
    "    x1azul = ptos_azul[0]\n",
    "    x2azul = ptos_azul[1]\n",
    "    \n",
    "    x1rojo = ptos_rojo[0]\n",
    "    x2rojo = ptos_rojo[1]\n",
    "    \n",
    "    plt.plot(x1azul,x2azul,\"bo\")\n",
    "    plt.plot(x1rojo,x2rojo,\"ro\")\n",
    "    plt.axis([-5,5,-5,5])\n",
    "    plt.title(\"Distribucion de puntos segun el color\")\n",
    "    plt.show()"
   ]
  },
  {
   "cell_type": "code",
   "execution_count": 6,
   "metadata": {},
   "outputs": [
    {
     "data": {
      "image/png": "[encoded data removed]",
      "text/plain": [
       "<Figure size 432x288 with 1 Axes>"
      ]
     },
     "metadata": {
      "needs_background": "light"
     },
     "output_type": "display_data"
    }
   ],
   "source": [
    "visualize_colors(centros_azul, centros_rojo)"
   ]
  },
  {
   "cell_type": "code",
   "execution_count": 7,
   "metadata": {},
   "outputs": [],
   "source": [
    "def Simulacion_2(centros, N):\n",
    "    \n",
    "    Ncentros = centros.shape[1]\n",
    "    \n",
    "    #Initialize the list of observations \n",
    "    observations = np.zeros((2,N))\n",
    "    \n",
    "    #we first define the global value of the covariance\n",
    "    covarianza = np.identity(2)/5\n",
    "       \n",
    "    #hacemos un loop entre 0 y N-1 para generar todos las observaciones requeridas\n",
    "    \n",
    "    for obs in range(0,N):\n",
    "        #generamos un numero aleatorio entre 0 y 9 para escoger el centro de nuestra gaussiana bivariada\n",
    "        indice_del_centro = random.randint(0, Ncentros-1)\n",
    "        \n",
    "        xcentro = centros[0,indice_del_centro]\n",
    "        ycentro = centros[1,indice_del_centro]\n",
    "        \n",
    "        mk_centro = np.array([xcentro, ycentro])\n",
    "        \n",
    "        centro_aux = np.random.multivariate_normal(mk_centro,covarianza,1).T\n",
    "    \n",
    "        observations[0,obs] = centro_aux[0,0]\n",
    "        observations[1,obs] = centro_aux[1,0]\n",
    "    \n",
    "    return observations"
   ]
  },
  {
   "cell_type": "code",
   "execution_count": 8,
   "metadata": {},
   "outputs": [],
   "source": [
    "ptos_observados_azul =  Simulacion_2(centros_azul, 100)\n",
    "ptos_observados_rojo =  Simulacion_2(centros_rojo, 100)"
   ]
  },
  {
   "cell_type": "code",
   "execution_count": 9,
   "metadata": {},
   "outputs": [
    {
     "data": {
      "image/png": "[encoded data removed]",
      "text/plain": [
       "<Figure size 432x288 with 1 Axes>"
      ]
     },
     "metadata": {
      "needs_background": "light"
     },
     "output_type": "display_data"
    }
   ],
   "source": [
    "visualize_colors(ptos_observados_azul, ptos_observados_rojo)"
   ]
  },
  {
   "cell_type": "markdown",
   "metadata": {},
   "source": [
    "Ahora generamos el SET que utilizaremos para la predicción"
   ]
  },
  {
   "cell_type": "code",
   "execution_count": 36,
   "metadata": {},
   "outputs": [],
   "source": [
    "SET=[]\n",
    "\n",
    "#Notar que estoy (BP) utilizando los puntos generados con la distribucion de gaussianas mezcladas. Ademas, \n",
    "#vamos a agregar directamente el valor de x0 al SET, por lo mencionado anteriormente. Ver notas adjuntas\n",
    "\n",
    "#primero agregamos los vectores correspondientes a la distribución gaussiana azul (y=0) a la lista SET. \n",
    "x1azul = ptos_observados_azul[0,:]\n",
    "x2azul = ptos_observados_azul[1,:]\n",
    "\n",
    "x1rojo = ptos_observados_rojo[0,:]\n",
    "x2rojo = ptos_observados_rojo[1,:]\n",
    "\n",
    "for i in range(len(x1azul)):\n",
    "    SET.append([1,x1azul[i],x2azul[i],0])\n",
    "\n",
    "#Ahora agregamos los correspondientes a y=1 (distribución normal roja)\n",
    "for i in range(len(x1rojo)):\n",
    "    SET.append([1,x1rojo[i],x2rojo[i],1])"
   ]
  },
  {
   "cell_type": "code",
   "execution_count": 37,
   "metadata": {},
   "outputs": [],
   "source": [
    "X=[]\n",
    "\n",
    "#notice that now we have to put SET[i][1] y SET[i][2] en las componentes x1 y x2 de X\n",
    "#on the other hand Y = SET[i][3]\n",
    "for i in range(len(SET)):\n",
    "    X.append([1,SET[i][1],SET[i][2]])\n",
    "\n",
    "Y=[]\n",
    "for i in range(len(SET)):\n",
    "    Y.append(SET[i][3])\n",
    "\n",
    "X=np.array(X)                     \n",
    "Y=np.array(Y)\n",
    "\n",
    "XT=X.transpose()"
   ]
  },
  {
   "cell_type": "code",
   "execution_count": 38,
   "metadata": {},
   "outputs": [],
   "source": [
    "XTdotX = np.dot(XT,X)\n",
    "XTdotX_inversa = np.linalg.inv(XTdotX)\n",
    "XTdotX_inversa_dotXT = np.dot(XTdotX_inversa, XT)"
   ]
  },
  {
   "cell_type": "code",
   "execution_count": 39,
   "metadata": {},
   "outputs": [
    {
     "name": "stdout",
     "output_type": "stream",
     "text": [
      "[ 0.43610521 -0.15364364  0.31162228]\n"
     ]
    }
   ],
   "source": [
    "beta_teorico = np.dot(XTdotX_inversa_dotXT,Y)\n",
    "print(beta_teorico)"
   ]
  },
  {
   "cell_type": "code",
   "execution_count": 40,
   "metadata": {},
   "outputs": [],
   "source": [
    "def funcion_lineal(x1, x2, beta): \n",
    "    \n",
    "    y_prediccion = beta[0] + x1*beta[1] + x2*beta[2]\n",
    "    return y_prediccion  "
   ]
  },
  {
   "cell_type": "code",
   "execution_count": 41,
   "metadata": {},
   "outputs": [],
   "source": [
    "lista_de_predicciones_azul = []\n",
    "lista_de_predicciones_rojo = []\n",
    "\n",
    "for pto in range(len(SET)):\n",
    "    \n",
    "    #prediccion de la funcion lineal como funcion de la posicion en el plano 2d y el valor teorico de beta\n",
    "    #el cual se encontro minimizando algebraicamente RSS()\n",
    "\n",
    "    prediccion = funcion_lineal(SET[pto][1], SET[pto][2], beta_teorico)\n",
    "\n",
    "    #Utilizando el valor de la prediccion separamos entre puntos azules y rojos\n",
    "    \n",
    "    if (prediccion < 0.5):\n",
    "        lista_de_predicciones_azul.append([SET[pto][1], SET[pto][2]])\n",
    "    elif (prediccion == 0.5): #esto lo puse solo para ver si es que algún punto de la simulación debía ser catalogado como negro\n",
    "        print(\"tenemos puntos negros\")\n",
    "    else:\n",
    "        lista_de_predicciones_rojo.append([SET[pto][1], SET[pto][2]])"
   ]
  },
  {
   "cell_type": "code",
   "execution_count": 42,
   "metadata": {},
   "outputs": [],
   "source": [
    "lista_de_predicciones_azul = np.array(lista_de_predicciones_azul)\n",
    "lista_de_predicciones_azul_t = lista_de_predicciones_azul.transpose()\n",
    "lista_de_predicciones_rojo = np.array(lista_de_predicciones_rojo)\n",
    "lista_de_predicciones_rojo_t = lista_de_predicciones_rojo.transpose()"
   ]
  },
  {
   "cell_type": "code",
   "execution_count": 43,
   "metadata": {},
   "outputs": [
    {
     "data": {
      "image/png": "[encoded data removed]",
      "text/plain": [
       "<Figure size 432x288 with 1 Axes>"
      ]
     },
     "metadata": {
      "needs_background": "light"
     },
     "output_type": "display_data"
    }
   ],
   "source": [
    "visualize_colors(lista_de_predicciones_azul_t, lista_de_predicciones_rojo_t)"
   ]
  },
  {
   "cell_type": "markdown",
   "metadata": {},
   "source": [
    "AC: Ok, tenemos los datos simulados y las predicciones entregadas por el modelo de regresión lineal, ahora falta que aparezcan todos los puntos del plano y la linea negra que representa cuando la predicción es igual (o similar) a 0.5"
   ]
  },
  {
   "cell_type": "markdown",
   "metadata": {},
   "source": [
    "### Generación de todos los puntos del gráfico\n",
    "AC: Ahora se creará la función puntos_grafico(), la cual entreguerá todos los puntos de un gráfico cuyos límites deben ser dados."
   ]
  },
  {
   "cell_type": "code",
   "execution_count": 54,
   "metadata": {},
   "outputs": [],
   "source": [
    "def puntos_grafico(L1,L2,L3,L4,sep): #L1:abscisa(-), L2:abscisa(+), L3:ordenada(-), L4:ordenada(+), sep:separación entre puntos\n",
    "    lista_puntos = []\n",
    "    distancia_horizontal = np.abs(L2-L1)\n",
    "    distancia_vertical = np.abs(L4-L3)\n",
    "    numero_puntos_horizontales = (distancia_horizontal / sep) + 1\n",
    "    numero_puntos_verticales = (distancia_vertical / sep) + 1\n",
    "    pto_referencia = [L1,L3]   #siempre comenzaré desde el punto más negativo\n",
    "    for i in range(int(numero_puntos_horizontales)):\n",
    "        for j in range(int(numero_puntos_verticales)):\n",
    "            lista_puntos.append(pto_referencia)\n",
    "            pto_referencia = [pto_referencia[0],pto_referencia[1] + sep]\n",
    "        pto_referencia = [pto_referencia[0] + sep, L3]\n",
    "    return lista_puntos"
   ]
  },
  {
   "cell_type": "markdown",
   "metadata": {},
   "source": [
    "Probemos"
   ]
  },
  {
   "cell_type": "code",
   "execution_count": 55,
   "metadata": {},
   "outputs": [
    {
     "data": {
      "image/png": "[encoded data removed]",
      "text/plain": [
       "<Figure size 432x288 with 1 Axes>"
      ]
     },
     "metadata": {
      "needs_background": "light"
     },
     "output_type": "display_data"
    }
   ],
   "source": [
    "p=puntos_grafico(-1,4,-2,3,0.2)\n",
    "p=np.array(p)\n",
    "pT= p.transpose()\n",
    "plt.plot(pT[0],pT[1],\"bo\",markersize = 2)\n",
    "plt.show()"
   ]
  },
  {
   "cell_type": "markdown",
   "metadata": {},
   "source": [
    "AC: Con esto podemos reproducir las figuras del libro \"The Elements of Statistical Learning\". Se comenzará evaluando, , en la función de predicción (funcion_lineal()), todos los puntos del plano, los cuales son dados por la función puntos_grafico(), juntos con los datos simulados anteriormente. Si el valor de la predicción es mayor a 0.5 el punto será clasificado como rojo, si es menor de 0.5 será azul y si es igual a 0.5 será negro."
   ]
  },
  {
   "cell_type": "markdown",
   "metadata": {},
   "source": [
    "AC: Para comenzar, generaré un nuevo SET que estará compuesto por todos los puntos del plano en estudio"
   ]
  },
  {
   "cell_type": "code",
   "execution_count": 56,
   "metadata": {},
   "outputs": [
    {
     "name": "stdout",
     "output_type": "stream",
     "text": [
      "<class 'list'> 2601\n"
     ]
    }
   ],
   "source": [
    "SET_plano= puntos_grafico(-5,5,-5,5,0.2) #esto me entrega una lista con los puntos que viven en el plano, separados en 0.2\n",
    "print(type(SET_plano),len(SET_plano))"
   ]
  },
  {
   "cell_type": "markdown",
   "metadata": {},
   "source": [
    "### Reproducción Figura 2.1"
   ]
  },
  {
   "cell_type": "markdown",
   "metadata": {},
   "source": [
    "AC: Evaluamos cada punto del plano en la función funcion_lineal() y vemos si es mayor (será rojo), menor (será azul) o igual a 0.5 (será negro). Lamentablemente, ningún punto del plano, al pasar por la función funcion_lineal() me da un valor EXACTO de 0.5, por lo que ninguno de mis puntos está siendo clasificado como negro. Para arreglar esta situación puse un \"margen de error\" de 0.3, es decir, los puntos cuyas predicciones estuvieron entre 0.49 y 0.51 fueron clasificados como negros. "
   ]
  },
  {
   "cell_type": "code",
   "execution_count": 78,
   "metadata": {},
   "outputs": [],
   "source": [
    "lista_de_predicciones_azul_plano = []\n",
    "lista_de_predicciones_rojo_plano = []\n",
    "lista_de_predicciones_negro_plano = []\n",
    "\n",
    "for pto in range(len(SET_plano)):\n",
    "    \n",
    "    prediccion = funcion_lineal(SET_plano[pto][0],SET_plano[pto][1],beta_teorico)\n",
    "    \n",
    "    if (prediccion < 0.49):\n",
    "        lista_de_predicciones_azul_plano.append([SET_plano[pto][0], SET_plano[pto][1]])\n",
    "        \n",
    "    elif (0.49 <= prediccion <= 0.51):        #margen de error\n",
    "        lista_de_predicciones_negro_plano.append([SET_plano[pto][0], SET_plano[pto][1]])\n",
    "        \n",
    "    else:\n",
    "        lista_de_predicciones_rojo_plano.append([SET_plano[pto][0], SET_plano[pto][1]])\n"
   ]
  },
  {
   "cell_type": "code",
   "execution_count": 79,
   "metadata": {},
   "outputs": [],
   "source": [
    "lista_de_predicciones_azul_plano = np.array(lista_de_predicciones_azul_plano)\n",
    "lista_de_predicciones_rojo_plano = np.array(lista_de_predicciones_rojo_plano)\n",
    "lista_de_predicciones_negro_plano = np.array(lista_de_predicciones_negro_plano)"
   ]
  },
  {
   "cell_type": "code",
   "execution_count": 80,
   "metadata": {},
   "outputs": [],
   "source": [
    "lista_de_predicciones_azul_plano_t = lista_de_predicciones_azul_plano.transpose()\n",
    "lista_de_predicciones_rojo_plano_t = lista_de_predicciones_rojo_plano.transpose()\n",
    "lista_de_predicciones_negro_plano_t = lista_de_predicciones_negro_plano.transpose()"
   ]
  },
  {
   "cell_type": "markdown",
   "metadata": {},
   "source": [
    "AC: Modificaré la función visualize_colors(), para que esta me pueda graficar todos los puntos del gráfico y los del SET original al mismo tiempo con puntos de diferente tamaños."
   ]
  },
  {
   "cell_type": "code",
   "execution_count": 123,
   "metadata": {},
   "outputs": [],
   "source": [
    "def visualize_colors_new(ptos_azul, ptos_rojo, ptos_azul_plano,ptos_rojo_plano,ptos_negro_plano):\n",
    "\n",
    "    if len(ptos_azul_plano)==0 and len(ptos_rojo_plano)==0 and len(ptos_negro_plano)==0 : #en este caso estamos frente a la \n",
    "        x1azul = ptos_azul[0]                                                             #funcion visualize_colors() original\n",
    "        x2azul = ptos_azul[1]\n",
    "    \n",
    "        x1rojo = ptos_rojo[0]\n",
    "        x2rojo = ptos_rojo[1]\n",
    "    \n",
    "        plt.plot(x1azul,x2azul,\"bo\")\n",
    "        plt.plot(x1rojo,x2rojo,\"ro\")\n",
    "        plt.axis([-5,5,-5,5])\n",
    "        plt.title(\"Distribucion de puntos segun el color\")\n",
    "        plt.show()\n",
    "    \n",
    "    else:\n",
    "        x1azul = ptos_azul[0]\n",
    "        x2azul = ptos_azul[1]\n",
    "        x1rojo = ptos_rojo[0]\n",
    "        x2rojo = ptos_rojo[1]\n",
    "        \n",
    "        x1azul_plano = ptos_azul_plano[0]\n",
    "        x2azul_plano = ptos_azul_plano[1]\n",
    "        x1rojo_plano = ptos_rojo_plano[0]\n",
    "        x2rojo_plano = ptos_rojo_plano[1]\n",
    "        x1negro_plano = ptos_negro_plano[0]\n",
    "        x2negro_plano = ptos_negro_plano[1]\n",
    "        \n",
    "    \n",
    "        plt.plot(x1azul,x2azul,\"bo\")\n",
    "        plt.plot(x1rojo,x2rojo,\"ro\")\n",
    "        plt.plot(x1azul_plano,x2azul_plano,\"bo\",markersize=1)\n",
    "        plt.plot(x1rojo_plano,x2rojo_plano,\"ro\",markersize=1)\n",
    "        plt.plot(x1negro_plano,x2negro_plano,\"ko\",markersize=2)\n",
    "        plt.axis([-5,5,-5,5])\n",
    "        plt.title(\"Distribucion de puntos segun el color\")\n",
    "        plt.show()"
   ]
  },
  {
   "cell_type": "markdown",
   "metadata": {},
   "source": [
    "Probemos la función "
   ]
  },
  {
   "cell_type": "code",
   "execution_count": 124,
   "metadata": {},
   "outputs": [
    {
     "data": {
      "image/png": "[encoded data removed]",
      "text/plain": [
       "<Figure size 432x288 with 1 Axes>"
      ]
     },
     "metadata": {
      "needs_background": "light"
     },
     "output_type": "display_data"
    }
   ],
   "source": [
    "visualize_colors_new(lista_de_predicciones_azul_t, lista_de_predicciones_rojo_t,[],[],[])"
   ]
  },
  {
   "cell_type": "code",
   "execution_count": 125,
   "metadata": {},
   "outputs": [
    {
     "data": {
      "image/png": "[encoded data removed]",
      "text/plain": [
       "<Figure size 432x288 with 1 Axes>"
      ]
     },
     "metadata": {
      "needs_background": "light"
     },
     "output_type": "display_data"
    }
   ],
   "source": [
    "visualize_colors_new(lista_de_predicciones_azul_t, lista_de_predicciones_rojo_t,lista_de_predicciones_azul_plano_t,lista_de_predicciones_rojo_plano_t,lista_de_predicciones_negro_plano_t)"
   ]
  },
  {
   "cell_type": "markdown",
   "metadata": {},
   "source": [
    "### Reproducción Figura 2.2"
   ]
  },
  {
   "cell_type": "markdown",
   "metadata": {},
   "source": [
    "AC: En este caso debemos hacer lo mismo que hicimos anteriormente, pero en vez de usar funcion_lineal() ahora utilizaremos el método KNN para evaluar los puntos."
   ]
  },
  {
   "cell_type": "code",
   "execution_count": 126,
   "metadata": {},
   "outputs": [],
   "source": [
    "def MinimumDistance(punto,SET):\n",
    "    distancia_min=1000\n",
    "    for i in range(len(SET)):\n",
    "        d=np.sqrt((SET[i][1]-punto[0])**2+(SET[i][2]-punto[1])**2)\n",
    "        if d <= distancia_min:\n",
    "            distancia_min=d\n",
    "            punto_min=[SET[i][0],SET[i][1],SET[i][2],SET[i][3]]\n",
    "    return distancia_min,punto_min                         #retorna la mínima distancia y el punto dentro de SET que la genera.\n",
    "\n",
    "def k_puntos_mas_cercanos(pto,SET,k):\n",
    "    set_copia =SET.copy()    #aquí genero esta copia porque no quiero que esta función me modifique el SET original\n",
    "    lista_vecinos=[]\n",
    "    for i in range(k+1):                                  #esto buscará k+1 veces para solucionar el problema de que la funcion\n",
    "        punto_cercano = MinimumDistance(pto,set_copia)[1] #MinimumDistance() tome al mismo punto de prueba como un punto cercano\n",
    "        lista_vecinos.append(punto_cercano)\n",
    "        set_copia.remove(punto_cercano)\n",
    "    if [lista_vecinos[0][1],lista_vecinos[0][2]] == pto:  #esto es TRUE cuando pto está en SET\n",
    "        lista_vecinos.remove(lista_vecinos[0])      # aquí borro pto, ya que se estaba contando a si mismo como pto más cercano\n",
    "        \n",
    "    else:                                           #Si entra al else, quiere decir que el pto no se encuentra en SET\n",
    "        lista_vecinos.pop()                         #Entonces borramos el último punto agregado a la lista (por eso puse\n",
    "    return lista_vecinos                            # el for en un rango de k+1 \n",
    "\n",
    "def promedio(lista_puntos):\n",
    "    suma_total=0\n",
    "    for elemento in lista_puntos:\n",
    "        suma_total = suma_total + elemento[3]\n",
    "    prom = suma_total / len(lista_puntos)    \n",
    "    return prom\n",
    "\n",
    "def prediccion_knn(SET,k):\n",
    "    LISTA_AZUL=[]\n",
    "    LISTA_ROJO=[]\n",
    "    LISTA_NEGRO=[]\n",
    "    for elemento in range(len(SET)):\n",
    "        pto = [SET[elemento][1],SET[elemento][2]]\n",
    "        lista_vecinos_cercanos=k_puntos_mas_cercanos(pto,SET,k)\n",
    "        y_hat = promedio(lista_vecinos_cercanos)\n",
    "        if y_hat > 0.5:\n",
    "            LISTA_ROJO.append([SET[elemento][1],SET[elemento][2]])\n",
    "        elif y_hat == 0.5 :\n",
    "            LISTA_NEGRO.append([SET[elemento][1],SET[elemento][2]])    \n",
    "        else:    \n",
    "            LISTA_AZUL.append([SET[elemento][1],SET[elemento][2]])\n",
    "    return LISTA_AZUL , LISTA_ROJO"
   ]
  },
  {
   "cell_type": "markdown",
   "metadata": {},
   "source": [
    "AC: Ahora podemos hacer la predicción, la cual según la figura 2.2 del libro se hace con los 15 vecinos más cercanos."
   ]
  },
  {
   "cell_type": "code",
   "execution_count": 129,
   "metadata": {},
   "outputs": [],
   "source": [
    "puntosAzul_22,puntosRojo_22 = prediccion_knn(SET,15)"
   ]
  },
  {
   "cell_type": "code",
   "execution_count": 130,
   "metadata": {},
   "outputs": [
    {
     "name": "stdout",
     "output_type": "stream",
     "text": [
      "100 100\n"
     ]
    }
   ],
   "source": [
    "print(len(puntosAzul_22),len(puntosRojo_22))"
   ]
  },
  {
   "cell_type": "code",
   "execution_count": 132,
   "metadata": {},
   "outputs": [],
   "source": [
    "puntosAzul_22 = np.array(puntosAzul_22)\n",
    "puntosRojo_22 = np.array(puntosRojo_22)"
   ]
  },
  {
   "cell_type": "code",
   "execution_count": 133,
   "metadata": {},
   "outputs": [],
   "source": [
    "puntosAzul_22_t = puntosAzul_22.transpose()\n",
    "puntosRojo_22_t = puntosRojo_22.transpose()"
   ]
  },
  {
   "cell_type": "code",
   "execution_count": 134,
   "metadata": {},
   "outputs": [
    {
     "data": {
      "image/png": "[encoded data removed]",
      "text/plain": [
       "<Figure size 432x288 with 1 Axes>"
      ]
     },
     "metadata": {
      "needs_background": "light"
     },
     "output_type": "display_data"
    }
   ],
   "source": [
    "visualize_colors_new(puntosAzul_22_t, puntosRojo_22_t ,[],[],[])"
   ]
  },
  {
   "cell_type": "markdown",
   "metadata": {},
   "source": [
    "AC: Ahora le agregamos los puntos del plano. En este caso debemos tener cuidado de que los vecinos cercanos con los que se compare cada punto del plano deben pertenecer al SET original (los datos simulados en un comienzo)"
   ]
  },
  {
   "cell_type": "code",
   "execution_count": 160,
   "metadata": {},
   "outputs": [],
   "source": [
    "def prediccion_knn_plano(SET_plano,SET,k):\n",
    "    LISTA_AZUL=[]\n",
    "    LISTA_ROJO=[]\n",
    "    LISTA_NEGRO=[]\n",
    "    for elemento in range(len(SET_plano)):\n",
    "        pto = [SET_plano[elemento][0],SET_plano[elemento][1]]\n",
    "        lista_vecinos_cercanos=k_puntos_mas_cercanos(pto,SET,k)\n",
    "        y_hat = promedio(lista_vecinos_cercanos)\n",
    "        if y_hat > 0.53:\n",
    "            LISTA_ROJO.append([SET_plano[elemento][0],SET_plano[elemento][1]])\n",
    "        elif 0.46 <= y_hat <= 0.54:\n",
    "            LISTA_NEGRO.append([SET_plano[elemento][0],SET_plano[elemento][1]])    \n",
    "        else:    \n",
    "            LISTA_AZUL.append([SET_plano[elemento][0],SET_plano[elemento][1]])\n",
    "    return LISTA_AZUL , LISTA_ROJO , LISTA_NEGRO "
   ]
  },
  {
   "cell_type": "code",
   "execution_count": 161,
   "metadata": {},
   "outputs": [],
   "source": [
    "azul_knn_plano_22 , rojo_knn_plano_22 , negro_knn_plano_22 = prediccion_knn_plano(SET_plano,SET,15)"
   ]
  },
  {
   "cell_type": "code",
   "execution_count": 162,
   "metadata": {},
   "outputs": [
    {
     "name": "stdout",
     "output_type": "stream",
     "text": [
      "1268 1280 53\n"
     ]
    }
   ],
   "source": [
    "print(len(azul_knn_plano_22),len(rojo_knn_plano_22),len(negro_knn_plano_22))"
   ]
  },
  {
   "cell_type": "code",
   "execution_count": 163,
   "metadata": {},
   "outputs": [],
   "source": [
    "azul_knn_plano_22 = np.array(azul_knn_plano_22)\n",
    "rojo_knn_plano_22 = np.array(rojo_knn_plano_22)\n",
    "negro_knn_plano_22 = np.array(negro_knn_plano_22)\n",
    "\n",
    "azul_knn_plano_22_t = azul_knn_plano_22.transpose()\n",
    "rojo_knn_plano_22_t = rojo_knn_plano_22.transpose()\n",
    "negro_knn_plano_22_t = negro_knn_plano_22.transpose()"
   ]
  },
  {
   "cell_type": "code",
   "execution_count": 164,
   "metadata": {},
   "outputs": [
    {
     "data": {
      "image/png": "[encoded data removed]",
      "text/plain": [
       "<Figure size 432x288 with 1 Axes>"
      ]
     },
     "metadata": {
      "needs_background": "light"
     },
     "output_type": "display_data"
    }
   ],
   "source": [
    "visualize_colors_new(puntosAzul_22_t, puntosRojo_22_t ,azul_knn_plano_22_t,rojo_knn_plano_22_t,negro_knn_plano_22_t)"
   ]
  },
  {
   "cell_type": "code",
   "execution_count": 165,
   "metadata": {},
   "outputs": [
    {
     "data": {
      "image/png": "[encoded data removed]",
      "text/plain": [
       "<Figure size 432x288 with 1 Axes>"
      ]
     },
     "metadata": {
      "needs_background": "light"
     },
     "output_type": "display_data"
    }
   ],
   "source": [
    "plt.plot(azul_knn_plano_22_t[0],azul_knn_plano_22_t[1],\"bo\",markersize=1)\n",
    "plt.plot(rojo_knn_plano_22_t[0],rojo_knn_plano_22_t[1],\"ro\",markersize=1)\n",
    "plt.plot(negro_knn_plano_22_t[0],negro_knn_plano_22_t[1],\"ko\",markersize=2)\n",
    "plt.show()"
   ]
  },
  {
   "cell_type": "markdown",
   "metadata": {},
   "source": [
    "### Reproducción Figura 2.3"
   ]
  },
  {
   "cell_type": "markdown",
   "metadata": {},
   "source": [
    "Es el mismo procedimiento detrás de la figura 2.2, sólo que ahora se usa un vecino cercano."
   ]
  },
  {
   "cell_type": "code",
   "execution_count": null,
   "metadata": {},
   "outputs": [],
   "source": []
  }
 ],
 "metadata": {
  "kernelspec": {
   "display_name": "Python 3",
   "language": "python",
   "name": "python3"
  },
  "language_info": {
   "codemirror_mode": {
    "name": "ipython",
    "version": 3
   },
   "file_extension": ".py",
   "mimetype": "text/x-python",
   "name": "python",
   "nbconvert_exporter": "python",
   "pygments_lexer": "ipython3",
   "version": "3.7.3"
  }
 },
 "nbformat": 4,
 "nbformat_minor": 2
}
