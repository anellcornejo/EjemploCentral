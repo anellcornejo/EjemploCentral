{
 "cells": [
  {
   "cell_type": "markdown",
   "metadata": {},
   "source": [
    "## Ejercicio completo de machine learning 1: \n",
    "\n",
    "Clasificación de puntos en un plano según dos posibles categorias, puntos rojos o azules\n",
    "\n",
    "Este notebook incluye todos los pasos tipicos de un ejercicio de Machine Learning, enfocandose en un problema de clasificacion entre dos categorias (rojo o azul) de los puntos de un plano. Todo esto en busqueda del grafico 2.4 del libro The Elements. Este notebook se dividirá en las siguientes partes:\n",
    "\n",
    "- Simulación de datos del train y del test\n",
    "    - En muchos ejercicios de Machine Learning estos datos son dados como condicion inicial, pero en nuestro caso nosotros los simulamos. Debemos recordar que una de las suposiciones de ML es que los datos siguen cierta funcion de probabilidad y que en principio conociendo esta funcion podriamos simularlos\n",
    "- Definicion de la función para calcular las predicciones o hacer la clasificacion (lineal, Knn, etc)\n",
    "    - En el lenguaje de ML esta funcion es llamada Hipótesis\n",
    "- Definicion de la función costo \n",
    "    -  En un primer caso usamos RSS como funcion de costo, pero en general podriamos considerar otras funciones de costo, dependiendo de las propiedades particulares de cada problema\n",
    "- Minimización de la función costo para encontrar los parámetros libres de la hipótesis \n",
    "    - En un primer caso encontramos los valores de los parametros theta de la funcion lineal minimizando analiticamente la funcion costo RSS, en lenguaje de ML esta ecuación es denominada Normal Equation. \n",
    "    - Sin embargo es necesario notar que también existen otros metodos, que son numericos en general. Por ejemplo, anteriormente usamos la busqueda aleatoria de los paramteros seleccionando sistematicamente los valores que reducen RSS. Otro metodo, con nombre de hecho, es Gradient Descent que es el mas tipico de Machine Learning (tarea)\n",
    "- Visualizacion de las predicciones en el train y el test\n",
    "- Evaluacion cuantitativa de las predicciones en terminos de la accuracy y el test error\n",
    "    - Estos resultados nos permitiran escoger los mejores modelos para el problema planteado\n",
    "- Gráfico de la misclassification curves (Figure 2.4)"
   ]
  },
  {
   "cell_type": "markdown",
   "metadata": {},
   "source": [
    "Inicialmente importamos la librería que utilizaremos:"
   ]
  },
  {
   "cell_type": "code",
   "execution_count": 1,
   "metadata": {},
   "outputs": [],
   "source": [
    "import numpy as np\n",
    "import matplotlib.pyplot as plt\n",
    "import random"
   ]
  },
  {
   "cell_type": "markdown",
   "metadata": {},
   "source": [
    "## Simulación de datos:"
   ]
  },
  {
   "cell_type": "markdown",
   "metadata": {},
   "source": [
    "AC: Para esta simulación reutilizaré los códigos de los notebooks anteriores. Aquí se usarán dos SETs de datos (SET_train y SET_test), los cuales tendrán un tamaño de 200 y 10000 ejemplos respectivamente."
   ]
  },
  {
   "cell_type": "markdown",
   "metadata": {},
   "source": [
    "### Definicion de los centros de las gaussianas bivariadas"
   ]
  },
  {
   "cell_type": "code",
   "execution_count": 2,
   "metadata": {},
   "outputs": [],
   "source": [
    "def centros_asociados_a_cada_color(color, kcentros):\n",
    "   \n",
    "    centro = np.array([0,0])\n",
    "    covarianza = np.identity(2)\n",
    "    \n",
    "    if color == 0: #azul\n",
    "        centro = np.array([1,0])\n",
    "    \n",
    "    if color == 1: #rojo\n",
    "        centro = np.array([0,1])\n",
    "\n",
    "    lista_de_centros = np.random.multivariate_normal(centro,covarianza,kcentros).T\n",
    "        \n",
    "    return lista_de_centros"
   ]
  },
  {
   "cell_type": "code",
   "execution_count": 3,
   "metadata": {},
   "outputs": [],
   "source": [
    "centros_azul = centros_asociados_a_cada_color(0,10)\n",
    "centros_rojo = centros_asociados_a_cada_color(1,10)"
   ]
  },
  {
   "cell_type": "code",
   "execution_count": 4,
   "metadata": {},
   "outputs": [],
   "source": [
    "def visualize_colors(ptos_azul, ptos_rojo):\n",
    "\n",
    "    x1azul = ptos_azul[0]\n",
    "    x2azul = ptos_azul[1]\n",
    "    \n",
    "    x1rojo = ptos_rojo[0]\n",
    "    x2rojo = ptos_rojo[1]\n",
    "    \n",
    "    plt.plot(x1azul,x2azul,\"bo\")\n",
    "    plt.plot(x1rojo,x2rojo,\"ro\")\n",
    "    plt.axis([-4,4,-4,4])\n",
    "    plt.title(\"Distribucion de puntos segun el color\")\n",
    "    plt.show() "
   ]
  },
  {
   "cell_type": "code",
   "execution_count": 5,
   "metadata": {},
   "outputs": [
    {
     "data": {
      "image/png": "[encoded data removed]",
      "text/plain": [
       "<Figure size 432x288 with 1 Axes>"
      ]
     },
     "metadata": {
      "needs_background": "light"
     },
     "output_type": "display_data"
    }
   ],
   "source": [
    "visualize_colors(centros_azul, centros_rojo)"
   ]
  },
  {
   "cell_type": "markdown",
   "metadata": {},
   "source": [
    "### Implementacion de la funcion que simula los datos"
   ]
  },
  {
   "cell_type": "code",
   "execution_count": 6,
   "metadata": {},
   "outputs": [],
   "source": [
    "def Simulacion_2(centros, N):\n",
    "    \n",
    "    Ncentros = centros.shape[1]\n",
    "    \n",
    "    #Initialize the list of observations \n",
    "    observations = np.zeros((2,N))\n",
    "    \n",
    "    #we first define the global value of the covariance\n",
    "    covarianza = np.identity(2)/5\n",
    "       \n",
    "    #hacemos un loop entre 0 y N-1 para generar todos las observaciones requeridas\n",
    "    \n",
    "    for obs in range(0,N):\n",
    "        #generamos un numero aleatorio entre 0 y 9 para escoger el centro de nuestra gaussiana bivariada\n",
    "        indice_del_centro = random.randint(0, Ncentros-1)\n",
    "        \n",
    "        xcentro = centros[0,indice_del_centro]\n",
    "        ycentro = centros[1,indice_del_centro]\n",
    "        \n",
    "        mk_centro = np.array([xcentro, ycentro])\n",
    "        \n",
    "        centro_aux = np.random.multivariate_normal(mk_centro,covarianza,1).T\n",
    "    \n",
    "        observations[0,obs] = centro_aux[0,0]\n",
    "        observations[1,obs] = centro_aux[1,0]\n",
    "    \n",
    "    return observations"
   ]
  },
  {
   "cell_type": "markdown",
   "metadata": {},
   "source": [
    "### Datos del train"
   ]
  },
  {
   "cell_type": "code",
   "execution_count": 7,
   "metadata": {},
   "outputs": [],
   "source": [
    "ptos_observados_azul_train =  Simulacion_2(centros_azul, 100)\n",
    "ptos_observados_rojo_train =  Simulacion_2(centros_rojo, 100)"
   ]
  },
  {
   "cell_type": "code",
   "execution_count": 8,
   "metadata": {},
   "outputs": [
    {
     "data": {
      "image/png": "[encoded data removed]",
      "text/plain": [
       "<Figure size 432x288 with 1 Axes>"
      ]
     },
     "metadata": {
      "needs_background": "light"
     },
     "output_type": "display_data"
    }
   ],
   "source": [
    "visualize_colors(ptos_observados_azul_train, ptos_observados_rojo_train)"
   ]
  },
  {
   "cell_type": "markdown",
   "metadata": {},
   "source": [
    "### Datos del test\n",
    "AC: Ahora generaré 5000 puntos para cada color (en total serán 10000 puntos) a partir de los mismos 20 centros usados para la training sample. "
   ]
  },
  {
   "cell_type": "code",
   "execution_count": 9,
   "metadata": {},
   "outputs": [],
   "source": [
    "ptos_observados_azul_test =  Simulacion_2(centros_azul, 5000)\n",
    "ptos_observados_rojo_test =  Simulacion_2(centros_rojo, 5000)"
   ]
  },
  {
   "cell_type": "code",
   "execution_count": 10,
   "metadata": {},
   "outputs": [
    {
     "data": {
      "image/png": "[encoded data removed]",
      "text/plain": [
       "<Figure size 432x288 with 1 Axes>"
      ]
     },
     "metadata": {
      "needs_background": "light"
     },
     "output_type": "display_data"
    }
   ],
   "source": [
    "visualize_colors(ptos_observados_azul_test, ptos_observados_rojo_test)"
   ]
  },
  {
   "cell_type": "markdown",
   "metadata": {},
   "source": [
    "Por el momento generaré un muestra de testeo más reducida que la anterior, ya que mi computadora no puede procesar el knn para los 10000 puntos, se demora demasiado.\n",
    "\n",
    "### BP: Questions\n",
    "\n",
    "Cuanto se demora aproximadamente? cuales son las propiedades de tu computador?"
   ]
  },
  {
   "cell_type": "code",
   "execution_count": 13,
   "metadata": {},
   "outputs": [],
   "source": [
    "ptos_observados_azul_test_2 =  Simulacion_2(centros_azul, 500) #serán 1000 puntos en total\n",
    "ptos_observados_rojo_test_2 =  Simulacion_2(centros_rojo, 500)"
   ]
  },
  {
   "cell_type": "code",
   "execution_count": 14,
   "metadata": {},
   "outputs": [
    {
     "data": {
      "image/png": "[encoded data removed]",
      "text/plain": [
       "<Figure size 432x288 with 1 Axes>"
      ]
     },
     "metadata": {
      "needs_background": "light"
     },
     "output_type": "display_data"
    }
   ],
   "source": [
    "visualize_colors(ptos_observados_azul_test_2, ptos_observados_rojo_test_2)"
   ]
  },
  {
   "cell_type": "markdown",
   "metadata": {},
   "source": [
    "AC: ahora con estos puntos puedo generar los dos SETs que utilizaré"
   ]
  },
  {
   "cell_type": "code",
   "execution_count": 15,
   "metadata": {},
   "outputs": [],
   "source": [
    "SET_train=[]\n",
    "\n",
    "#PRIMERO FORMAMOS EL SET_training\n",
    "x1azul_train = ptos_observados_azul_train[0,:]\n",
    "x2azul_train = ptos_observados_azul_train[1,:]\n",
    "\n",
    "x1rojo_train = ptos_observados_rojo_train[0,:]\n",
    "x2rojo_train = ptos_observados_rojo_train[1,:]\n",
    "\n",
    "#Agregamos los correspondientes a y=0 (distribución normal azul)\n",
    "for i in range(len(x1azul_train)):\n",
    "    SET_train.append([1,x1azul_train[i],x2azul_train[i],0])\n",
    "\n",
    "#Ahora agregamos los correspondientes a y=1 (distribución normal roja)\n",
    "for i in range(len(x1rojo_train)):\n",
    "    SET_train.append([1,x1rojo_train[i],x2rojo_train[i],1])"
   ]
  },
  {
   "cell_type": "code",
   "execution_count": 16,
   "metadata": {},
   "outputs": [],
   "source": [
    "#AHORA FORMAMOS EL SET_test\n",
    "SET_test=[]\n",
    "\n",
    "x1azul_test = ptos_observados_azul_test[0,:]\n",
    "x2azul_test = ptos_observados_azul_test[1,:]\n",
    "\n",
    "x1rojo_test = ptos_observados_rojo_test[0,:]\n",
    "x2rojo_test = ptos_observados_rojo_test[1,:]\n",
    "\n",
    "for i in range(len(x1azul_test)):\n",
    "    SET_test.append([1,x1azul_test[i],x2azul_test[i],0])\n",
    "\n",
    "#Ahora agregamos los correspondientes a y=1 (distribución normal roja)\n",
    "for i in range(len(x1rojo_test)):\n",
    "    SET_test.append([1,x1rojo_test[i],x2rojo_test[i],1])"
   ]
  },
  {
   "cell_type": "code",
   "execution_count": 17,
   "metadata": {},
   "outputs": [],
   "source": [
    "#FORMAMOS EL SET_test_2\n",
    "SET_test_2=[]\n",
    "\n",
    "x1azul_test_2 = ptos_observados_azul_test_2[0,:]\n",
    "x2azul_test_2 = ptos_observados_azul_test_2[1,:]\n",
    "\n",
    "x1rojo_test_2 = ptos_observados_rojo_test_2[0,:]\n",
    "x2rojo_test_2 = ptos_observados_rojo_test_2[1,:]\n",
    "\n",
    "for i in range(len(x1azul_test_2)):\n",
    "    SET_test_2.append([1,x1azul_test_2[i],x2azul_test_2[i],0])\n",
    "\n",
    "#Ahora agregamos los correspondientes a y=1 (distribución normal roja)\n",
    "for i in range(len(x1rojo_test_2)):\n",
    "    SET_test_2.append([1,x1rojo_test_2[i],x2rojo_test_2[i],1])"
   ]
  },
  {
   "cell_type": "markdown",
   "metadata": {},
   "source": [
    "Veamos si están bien hechos estos SETs:"
   ]
  },
  {
   "cell_type": "code",
   "execution_count": 18,
   "metadata": {},
   "outputs": [
    {
     "name": "stdout",
     "output_type": "stream",
     "text": [
      "200 10000 1000\n"
     ]
    }
   ],
   "source": [
    "print(len(SET_train), len(SET_test),len(SET_test_2))"
   ]
  },
  {
   "cell_type": "markdown",
   "metadata": {},
   "source": [
    "## Definicion de la hipotesis, funcion costo y proceso de minimizacion \n",
    "\n",
    "### Caso 1:\n",
    "\n",
    "- Hipótesis: función lineal\n",
    "- Función costo: RSS \n",
    "- Minimización: beta obtenido teóricamente (Normal Equation)\n",
    "- Evaluación: accuracy y test error\n",
    "\n",
    "En este caso asumimos que el modelo de clasificación o hipotesis esta dado por una funcion lineal del tipo \n",
    "\n",
    "f(x1,x2) = theta0 + theta1 x1 + theta2 x2\n",
    "\n",
    "y que los valores de theta son obtenidos a partir de la busqueda del minimo de la funcion RSS con respecto a los datos del train. Este minimo puede ser encontrado analitcamente, como es nuestro caso actual, pero tambien puede ser encontrado numericamente, por ejemplo utilizando generacion de ptos aleatorios y seleccion del minimo. \n",
    "\n",
    "Otra forma de hacer esta busqueda del minimo de RSS o funcion de costo en el lenguage de Machine Learning es utilizando una tecnica llamada Gradient Descent que es tipica en ML y que aparece explicado en el segundo item del curso Machine Learning de Andrew Ng.\n",
    "\n",
    "### BP: Tarea \n",
    "\n",
    "Estudiar como funciona el metodo de Gradient Descent"
   ]
  },
  {
   "cell_type": "code",
   "execution_count": 19,
   "metadata": {},
   "outputs": [],
   "source": [
    "X=[]\n",
    "\n",
    "for i in range(len(SET_train)):  #pondremos SET[i][1] y SET[i][2] en las componentes x1 y x2 de X\n",
    "    X.append([1,SET_train[i][1],SET_train[i][2]])\n",
    "\n",
    "Y=[]\n",
    "for i in range(len(SET_train)): #Aquí Y = SET[i][3]\n",
    "    Y.append(SET_train[i][3])\n",
    "    \n",
    "X=np.array(X)                     \n",
    "Y=np.array(Y)\n",
    "\n",
    "XT=X.transpose()"
   ]
  },
  {
   "cell_type": "code",
   "execution_count": 20,
   "metadata": {},
   "outputs": [
    {
     "name": "stdout",
     "output_type": "stream",
     "text": [
      "(200, 3) (200,) (3, 200)\n"
     ]
    }
   ],
   "source": [
    "print(X.shape, Y.shape, XT.shape)"
   ]
  },
  {
   "cell_type": "code",
   "execution_count": 21,
   "metadata": {},
   "outputs": [
    {
     "data": {
      "text/plain": [
       "array([[200.        , 195.38382882,  82.54090538],\n",
       "       [195.38382882, 386.68757258,  67.57859136],\n",
       "       [ 82.54090538,  67.57859136, 346.94118352]])"
      ]
     },
     "execution_count": 21,
     "metadata": {},
     "output_type": "execute_result"
    }
   ],
   "source": [
    "XTdotX = np.dot(XT,X)\n",
    "XTdotX"
   ]
  },
  {
   "cell_type": "code",
   "execution_count": 22,
   "metadata": {},
   "outputs": [
    {
     "data": {
      "text/plain": [
       "array([[ 0.01060572, -0.00509116, -0.00153153],\n",
       "       [-0.00509116,  0.00512115,  0.00021372],\n",
       "       [-0.00153153,  0.00021372,  0.00320507]])"
      ]
     },
     "execution_count": 22,
     "metadata": {},
     "output_type": "execute_result"
    }
   ],
   "source": [
    "XTdotX_inversa = np.linalg.inv(XTdotX)\n",
    "XTdotX_inversa"
   ]
  },
  {
   "cell_type": "code",
   "execution_count": 23,
   "metadata": {},
   "outputs": [],
   "source": [
    "XTdotX_inversa_dotXT = np.dot(XTdotX_inversa, XT)"
   ]
  },
  {
   "cell_type": "code",
   "execution_count": 24,
   "metadata": {},
   "outputs": [
    {
     "name": "stdout",
     "output_type": "stream",
     "text": [
      "[ 0.39918136 -0.00103503  0.24673775]\n"
     ]
    }
   ],
   "source": [
    "beta_teorico = np.dot(XTdotX_inversa_dotXT,Y)\n",
    "print(beta_teorico)"
   ]
  },
  {
   "cell_type": "markdown",
   "metadata": {},
   "source": [
    "### Visualizacion de las predicciones considerando los datos del test y del train para Funciín lineal\n",
    "\n",
    "Ahora con este beta_teorico podemos visualizar como funciona nuestro modelo de prediccion (el de regresión lineal con beta teorico) para los puntos del train y del test separadamente.\n",
    "\n",
    "Para lo cual necesitaré primero crear la función funcion_lineal()"
   ]
  },
  {
   "cell_type": "code",
   "execution_count": 25,
   "metadata": {},
   "outputs": [],
   "source": [
    "def funcion_lineal(x1, x2, beta): \n",
    "    \n",
    "    y_prediccion = beta[0] + x1*beta[1] + x2*beta[2]\n",
    "    return y_prediccion "
   ]
  },
  {
   "cell_type": "code",
   "execution_count": 26,
   "metadata": {},
   "outputs": [],
   "source": [
    "def listas_de_predicciones_lineal(SET):\n",
    "\n",
    "    lista_de_predicciones_azul = []\n",
    "    lista_de_predicciones_rojo = []\n",
    "\n",
    "    for pto in range(len(SET)):\n",
    "        prediccion = funcion_lineal(SET[pto][1], SET[pto][2], beta_teorico)\n",
    "\n",
    "    #Utilizando el valor de la prediccion separamos entre puntos azules y rojos\n",
    "    \n",
    "        if (prediccion < 0.5):\n",
    "            lista_de_predicciones_azul.append([SET[pto][1], SET[pto][2]])\n",
    "        if (prediccion > 0.5):\n",
    "            lista_de_predicciones_rojo.append([SET[pto][1], SET[pto][2]])\n",
    "        \n",
    "    return lista_de_predicciones_azul, lista_de_predicciones_rojo"
   ]
  },
  {
   "cell_type": "markdown",
   "metadata": {},
   "source": [
    "Ahora queremos visualizar el modelo tanto para el training como para el test"
   ]
  },
  {
   "cell_type": "code",
   "execution_count": 27,
   "metadata": {},
   "outputs": [],
   "source": [
    "lista_de_predicciones_azul_train, lista_de_predicciones_rojo_train = listas_de_predicciones_lineal(SET_train)"
   ]
  },
  {
   "cell_type": "code",
   "execution_count": 28,
   "metadata": {},
   "outputs": [],
   "source": [
    "lista_de_predicciones_azul_test, lista_de_predicciones_rojo_test = listas_de_predicciones_lineal(SET_test)"
   ]
  },
  {
   "cell_type": "code",
   "execution_count": 29,
   "metadata": {},
   "outputs": [],
   "source": [
    "lista_de_predicciones_azul_train = np.array(lista_de_predicciones_azul_train)\n",
    "lista_de_predicciones_azul_train_t = lista_de_predicciones_azul_train.transpose()\n",
    "\n",
    "lista_de_predicciones_rojo_train = np.array(lista_de_predicciones_rojo_train)\n",
    "lista_de_predicciones_rojo_train_t = lista_de_predicciones_rojo_train.transpose()"
   ]
  },
  {
   "cell_type": "code",
   "execution_count": 30,
   "metadata": {},
   "outputs": [],
   "source": [
    "lista_de_predicciones_azul_test = np.array(lista_de_predicciones_azul_test)\n",
    "lista_de_predicciones_azul_test_t = lista_de_predicciones_azul_test.transpose()\n",
    "\n",
    "lista_de_predicciones_rojo_test = np.array(lista_de_predicciones_rojo_test)\n",
    "lista_de_predicciones_rojo_test_t = lista_de_predicciones_rojo_test.transpose()"
   ]
  },
  {
   "cell_type": "markdown",
   "metadata": {},
   "source": [
    "Con esto podemos comparar visualmente las predicciones sobre el train y el test"
   ]
  },
  {
   "cell_type": "code",
   "execution_count": 31,
   "metadata": {},
   "outputs": [
    {
     "data": {
      "image/png": "[encoded data removed]",
      "text/plain": [
       "<Figure size 432x288 with 1 Axes>"
      ]
     },
     "metadata": {
      "needs_background": "light"
     },
     "output_type": "display_data"
    }
   ],
   "source": [
    "visualize_colors(ptos_observados_azul_train, ptos_observados_rojo_train)"
   ]
  },
  {
   "cell_type": "code",
   "execution_count": 32,
   "metadata": {},
   "outputs": [
    {
     "data": {
      "image/png": "[encoded data removed]",
      "text/plain": [
       "<Figure size 432x288 with 1 Axes>"
      ]
     },
     "metadata": {
      "needs_background": "light"
     },
     "output_type": "display_data"
    }
   ],
   "source": [
    "visualize_colors(lista_de_predicciones_azul_train_t, lista_de_predicciones_rojo_train_t)"
   ]
  },
  {
   "cell_type": "code",
   "execution_count": 33,
   "metadata": {},
   "outputs": [
    {
     "data": {
      "image/png": "[encoded data removed]",
      "text/plain": [
       "<Figure size 432x288 with 1 Axes>"
      ]
     },
     "metadata": {
      "needs_background": "light"
     },
     "output_type": "display_data"
    }
   ],
   "source": [
    "visualize_colors(ptos_observados_azul_test, ptos_observados_rojo_test)"
   ]
  },
  {
   "cell_type": "code",
   "execution_count": 34,
   "metadata": {},
   "outputs": [
    {
     "data": {
      "image/png": "[encoded data removed]",
      "text/plain": [
       "<Figure size 432x288 with 1 Axes>"
      ]
     },
     "metadata": {
      "needs_background": "light"
     },
     "output_type": "display_data"
    }
   ],
   "source": [
    "visualize_colors(lista_de_predicciones_azul_test_t, lista_de_predicciones_rojo_test_t)"
   ]
  },
  {
   "cell_type": "markdown",
   "metadata": {},
   "source": [
    "### Evaluación de la hipotesis lineal en terminos de las metricas accuracy y el test error\n",
    "\n",
    "Por definicion vamos a considerar que la accuracy y el test error estan dados por\n",
    "\n",
    "accuracy = ptos_predichos_correctamente/(ptos_predichos_correctamente + ptos_predichos_incorrectamente)\n",
    "\n",
    "test_error = 1 - accuracy\n",
    "\n",
    "Estan son unas metricas que nos permiten evaluar la performance de la hipotesis una vez que hemos encontrado los valores de los parametros libres (theta). Por lo que se puede ver es posible evaluar estas métricas en ambos sets, el del train y el del test. \n",
    "\n",
    "El valor de la accuracy medido en el train nos indica cuantitativamente el nivel del aprendizaje del modelo, dado que en este paso estamos intentando ajustar el modelo a los datos conocidos, mientras que medido en el test nos indica su poder de prediccion, dado que estos datos no fueron utilizados para el entrenamiento del modelo. \n",
    "\n",
    "Normalmente se espera que el valor de la accuracy sea mejor en el set de entrenamiento que en el set del test, porque los primeros fueron los datos usados para calcular los parametros del modelo. Sin embargo esto no esta garantizado matematicamente.\n",
    "\n",
    "En general es bastante recomendado obtener un valor alto de accuracy en el test dado que nuestro objectivo final es tener poder de prediccion, no solo ajustar los datos conocidos"
   ]
  },
  {
   "cell_type": "code",
   "execution_count": 35,
   "metadata": {},
   "outputs": [],
   "source": [
    "def accuracy_funcion_lineal(SET, beta):\n",
    "\n",
    "    pto_correcto = 0\n",
    "    pto_incorrecto = 0\n",
    "    \n",
    "    for pto in range(len(SET)):\n",
    "        prediccion = funcion_lineal(SET[pto][1], SET[pto][2], beta)\n",
    "        \n",
    "        if (((prediccion < 0.5) and (SET[pto][3]==0)) or\n",
    "            ((prediccion > 0.5) and (SET[pto][3]==1))):\n",
    "            \n",
    "            pto_correcto = pto_correcto + 1\n",
    "        else:\n",
    "            pto_incorrecto = pto_incorrecto + 1\n",
    "            \n",
    "        ratio = pto_correcto/(pto_correcto + pto_incorrecto)\n",
    "        \n",
    "        \n",
    "    print(\"ptos correctos: %d y ptos incorrectos: %d\"%(pto_correcto, pto_incorrecto))\n",
    "        \n",
    "    return ratio"
   ]
  },
  {
   "cell_type": "markdown",
   "metadata": {},
   "source": [
    "### Evaluación del modelo usando el train"
   ]
  },
  {
   "cell_type": "code",
   "execution_count": 36,
   "metadata": {},
   "outputs": [
    {
     "name": "stdout",
     "output_type": "stream",
     "text": [
      "ptos correctos: 150 y ptos incorrectos: 50\n",
      "train accuracy: 0.75 and test error: 0.25 \n"
     ]
    }
   ],
   "source": [
    "train_accuracy = accuracy_funcion_lineal(SET_train, beta_teorico)\n",
    "train_error = 1 - train_accuracy\n",
    "print(\"train accuracy: %.2f and test error: %.2f \"%(train_accuracy, train_error))"
   ]
  },
  {
   "cell_type": "markdown",
   "metadata": {},
   "source": [
    "### Evaluación del modelo usando el test"
   ]
  },
  {
   "cell_type": "code",
   "execution_count": 37,
   "metadata": {},
   "outputs": [
    {
     "name": "stdout",
     "output_type": "stream",
     "text": [
      "ptos correctos: 7134 y ptos incorrectos: 2866\n",
      "test accuracy: 0.71 and test error: 0.29 \n"
     ]
    }
   ],
   "source": [
    "test_accuracy = accuracy_funcion_lineal(SET_test, beta_teorico)\n",
    "test_error = 1 - test_accuracy\n",
    "print(\"test accuracy: %.2f and test error: %.2f \"%(test_accuracy, test_error))"
   ]
  },
  {
   "cell_type": "markdown",
   "metadata": {},
   "source": [
    "### Caso 2:\n",
    "\n",
    "- Hipótesis 2: KNN\n",
    "- Función costo: No existe \n",
    "- Minimización: No existe\n",
    "- Evaluación: accuracy y test error\n",
    "\n",
    "Debemos notar que KNN es un caso bastante particular en Machine Learning dado que no podemos seguir el mismo proceso mencionado anteriormente para la hipótesis lineal, el cual es util en muchos otros ejemplos (esto lo veremos mas claramente siguiendo el curso de Machine Learning). Esto básicamente sucede porque cualquier función costo que mida la cercania entre la prediccion del color en un punto del train con los valores conocidos del train entregara N = 1 (un vecino cercano, el mismo punto). \n",
    "\n",
    "Por otro lado es posible buscar el valor de N talque el poder predictivo de KNN sea optimizado. Por ejemplo, se puede buscar aquel valor de N tal que maximize la accuracy con respecto a los datos del test, pero solo usando los puntos del train para el calculo de la prediccion. Esto es lo que nos permite justamente el gráfico 2.4 del libro The Elements. Entonces algunas preguntas a responder son:\n",
    "\n",
    "### BP: Preguntas\n",
    "\n",
    "Cual es el valor de N que maximiza la accuracy (minimiza el test error) medida en los puntos del test?\n",
    "\n",
    "Es aquel valor de la accuracy mayor o menor que en el caso lineal?"
   ]
  },
  {
   "cell_type": "markdown",
   "metadata": {},
   "source": [
    "AC: Para comenzar, visualizaremos la predicción que entrega el KNN method, para lo cual necesitamos crear ciertas funciones\n",
    "\n",
    "### BP: Recomendación\n",
    "\n",
    "Escribir los textos descriptivos sobre el codigo que se esta explicando. Esta práctica es la usual y creo que queda mas ordenado\n",
    "\n",
    "No me queda claro si en el metodo de KNN se debe excluir el mismo punto dentro de los mas cercanos. Hay que verificar esto\n",
    "\n",
    "### BP: function modification \n",
    "\n",
    "Just for cross-check I have modified the function k_puntos_mas_cercanos in order to include the same point in the list of closest neighbours. To keep the previous version of the function I have created a new one called k_puntos_mas_cercanos_bp\n"
   ]
  },
  {
   "cell_type": "code",
   "execution_count": 86,
   "metadata": {},
   "outputs": [],
   "source": [
    "def MinimumDistance(punto,SET):\n",
    "    distancia_min=1000\n",
    "    for i in range(len(SET)):\n",
    "        d=np.sqrt((SET[i][1]-punto[0])**2+(SET[i][2]-punto[1])**2)\n",
    "        if d <= distancia_min:\n",
    "            distancia_min=d\n",
    "            punto_min=[SET[i][0],SET[i][1],SET[i][2],SET[i][3]]\n",
    "    return distancia_min, punto_min  \n",
    "\n",
    "def k_puntos_mas_cercanos(pto,SET,k):\n",
    "    set_copia =SET.copy()    #aquí genero esta copia porque no quiero que esta función me modifique el SET original\n",
    "    lista_vecinos=[]\n",
    "   \n",
    "    for i in range(k+1):                                  #esto buscará k+1 veces para solucionar el problema de que la funcion\n",
    "        punto_cercano = MinimumDistance(pto,set_copia)[1] #MinimumDistance() tome al mismo punto de prueba como un punto cercano\n",
    "        lista_vecinos.append(punto_cercano)\n",
    "        set_copia.remove(punto_cercano)\n",
    "    \n",
    "    if [lista_vecinos[0][1],lista_vecinos[0][2]] == pto:  #esto es TRUE cuando pto está en SET\n",
    "        lista_vecinos.remove(lista_vecinos[0])      # aquí borro pto, ya que se estaba contando a si mismo como pto más cercano\n",
    "        \n",
    "    else:                                           #Si entra al else, quiere decir que el pto no se encuentra en SET\n",
    "        lista_vecinos.pop()                         #Entonces borramos el último punto agregado a la lista (por eso puse\n",
    "                                                    # el for en un rango de k+1\n",
    "    return lista_vecinos                             \n",
    "\n",
    "#just for cross-check i am going to consider the same point in the list of closest neighbours\n",
    "def k_puntos_mas_cercanos_bp(pto,SET,k):\n",
    "    set_copia =SET.copy()    \n",
    "    lista_vecinos=[]\n",
    "   \n",
    "    for i in range(k):                                  \n",
    "        punto_cercano = MinimumDistance(pto,set_copia)[1] \n",
    "        lista_vecinos.append(punto_cercano)\n",
    "        set_copia.remove(punto_cercano)\n",
    "                                                       \n",
    "    return lista_vecinos  \n",
    "\n",
    "\n",
    "def promedio(lista_puntos):\n",
    "    suma_total=0\n",
    "\n",
    "    #BP: siempre que tengamos que dividir por un numero es conveniente\n",
    "    #verificar si este es distinto de cero\n",
    "    \n",
    "    prom = 0\n",
    "    \n",
    "    if (len(lista_puntos) > 0):\n",
    "    \n",
    "        for elemento in lista_puntos:\n",
    "            \n",
    "            suma_total = suma_total + elemento[3]\n",
    "    \n",
    "        prom = suma_total / len(lista_puntos)    \n",
    "    \n",
    "    return prom\n",
    "\n",
    "\n",
    "def prediccion_knn(SET,k):\n",
    "    LISTA_AZUL=[]\n",
    "    LISTA_ROJO=[]\n",
    "    \n",
    "    for elemento in range(len(SET)):\n",
    "    \n",
    "        pto = [SET[elemento][1],SET[elemento][2]]\n",
    "        lista_vecinos_cercanos=k_puntos_mas_cercanos(pto,SET,k)\n",
    "        y_hat = promedio(lista_vecinos_cercanos)\n",
    "    \n",
    "        if y_hat > 0.5:\n",
    "            LISTA_ROJO.append([SET[elemento][1],SET[elemento][2]])\n",
    "        else :\n",
    "            LISTA_AZUL.append([SET[elemento][1],SET[elemento][2]])\n",
    "    \n",
    "    return LISTA_AZUL , LISTA_ROJO"
   ]
  },
  {
   "cell_type": "markdown",
   "metadata": {},
   "source": [
    "Probemos, por ejemplo, como resulta la predicción con 15 vecinos. Utilizaré el SET_training y el SET_test_2"
   ]
  },
  {
   "cell_type": "code",
   "execution_count": 39,
   "metadata": {},
   "outputs": [],
   "source": [
    "puntosAzul_train, puntosRojo_train = prediccion_knn(SET_train,15)"
   ]
  },
  {
   "cell_type": "code",
   "execution_count": 40,
   "metadata": {},
   "outputs": [],
   "source": [
    "puntosAzul_test_2, puntosRojo_test_2 = prediccion_knn(SET_test_2,15)"
   ]
  },
  {
   "cell_type": "code",
   "execution_count": 39,
   "metadata": {},
   "outputs": [
    {
     "name": "stdout",
     "output_type": "stream",
     "text": [
      "85 115 458 542\n"
     ]
    }
   ],
   "source": [
    "print(len(puntosAzul_train),len(puntosRojo_train),len(puntosAzul_test_2),len(puntosRojo_test_2))"
   ]
  },
  {
   "cell_type": "code",
   "execution_count": 41,
   "metadata": {},
   "outputs": [],
   "source": [
    "puntosAzul_train_t = np.array(puntosAzul_train).transpose()\n",
    "puntosRojo_train_t = np.array(puntosRojo_train).transpose() \n",
    "puntosAzul_test_t = np.array(puntosAzul_test_2).transpose()\n",
    "puntosRojo_test_t = np.array(puntosRojo_test_2).transpose() "
   ]
  },
  {
   "cell_type": "code",
   "execution_count": 42,
   "metadata": {},
   "outputs": [
    {
     "data": {
      "image/png": "[encoded data removed]",
      "text/plain": [
       "<Figure size 432x288 with 1 Axes>"
      ]
     },
     "metadata": {
      "needs_background": "light"
     },
     "output_type": "display_data"
    }
   ],
   "source": [
    "visualize_colors(ptos_observados_azul_train, ptos_observados_rojo_train)"
   ]
  },
  {
   "cell_type": "code",
   "execution_count": 43,
   "metadata": {},
   "outputs": [
    {
     "data": {
      "image/png": "[encoded data removed]",
      "text/plain": [
       "<Figure size 432x288 with 1 Axes>"
      ]
     },
     "metadata": {
      "needs_background": "light"
     },
     "output_type": "display_data"
    }
   ],
   "source": [
    "visualize_colors(puntosAzul_train_t,puntosRojo_train_t)"
   ]
  },
  {
   "cell_type": "code",
   "execution_count": 44,
   "metadata": {},
   "outputs": [
    {
     "data": {
      "image/png": "[encoded data removed]",
      "text/plain": [
       "<Figure size 432x288 with 1 Axes>"
      ]
     },
     "metadata": {
      "needs_background": "light"
     },
     "output_type": "display_data"
    }
   ],
   "source": [
    "visualize_colors(ptos_observados_azul_test_2, ptos_observados_rojo_test_2)"
   ]
  },
  {
   "cell_type": "code",
   "execution_count": 45,
   "metadata": {},
   "outputs": [
    {
     "data": {
      "image/png": "[encoded data removed]",
      "text/plain": [
       "<Figure size 432x288 with 1 Axes>"
      ]
     },
     "metadata": {
      "needs_background": "light"
     },
     "output_type": "display_data"
    }
   ],
   "source": [
    "visualize_colors(puntosAzul_test_t,puntosRojo_test_t)"
   ]
  },
  {
   "cell_type": "markdown",
   "metadata": {},
   "source": [
    "### Evaluación de la hipotesis KNN en terminos de las metricas accuracy y el test error"
   ]
  },
  {
   "cell_type": "code",
   "execution_count": 92,
   "metadata": {},
   "outputs": [],
   "source": [
    "def accuracy_knn(SET, SET_train, k):\n",
    "    pto_correcto = 0\n",
    "    pto_incorrecto = 0\n",
    "    \n",
    "    for pto in range(len(SET)):\n",
    "    \n",
    "        punto_de_prueba = [SET[pto][1],SET[pto][2]]\n",
    "        \n",
    "        #lista_vecinos_cercanos = k_puntos_mas_cercanos(punto_de_prueba,SET_train,k)\n",
    "        lista_vecinos_cercanos = k_puntos_mas_cercanos_bp(punto_de_prueba,SET_train,k)\n",
    "\n",
    "        prediccion = promedio(lista_vecinos_cercanos)\n",
    "                \n",
    "        if (((prediccion < 0.5) and (SET[pto][3]==0)) or ((prediccion > 0.5) and (SET[pto][3]==1))):\n",
    "\n",
    "             pto_correcto = pto_correcto + 1\n",
    "                \n",
    "        else:\n",
    "            pto_incorrecto = pto_incorrecto + 1\n",
    "            \n",
    "        ratio = pto_correcto/(pto_correcto + pto_incorrecto)\n",
    "        \n",
    "    return ratio"
   ]
  },
  {
   "cell_type": "markdown",
   "metadata": {},
   "source": [
    "### Evaluación del modelo usando el train para un k fijo"
   ]
  },
  {
   "cell_type": "markdown",
   "metadata": {},
   "source": [
    "Primero probemos la función accuracy_knn() para un numero fijo de vecinos (k=3)"
   ]
  },
  {
   "cell_type": "code",
   "execution_count": 93,
   "metadata": {},
   "outputs": [
    {
     "name": "stdout",
     "output_type": "stream",
     "text": [
      "train accuracy of k=3: 0.85 and test error of k=3: 0.15 \n"
     ]
    }
   ],
   "source": [
    "train_accuracy_knn = accuracy_knn(SET_train, SET_train, 3)\n",
    "train_error_knn = 1 - train_accuracy_knn\n",
    "print(\"train accuracy of k=3: %.2f and test error of k=3: %.2f \"%(train_accuracy_knn, train_error_knn))"
   ]
  },
  {
   "cell_type": "markdown",
   "metadata": {},
   "source": [
    "### Evaluación del modelo usando el test_2 para un k fijo"
   ]
  },
  {
   "cell_type": "code",
   "execution_count": 94,
   "metadata": {},
   "outputs": [
    {
     "name": "stdout",
     "output_type": "stream",
     "text": [
      "test accuracy of k=3: 0.74 and test error of k=3: 0.26 \n"
     ]
    }
   ],
   "source": [
    "test_accuracy_knn = accuracy_knn(SET_test_2, SET_train, 3)\n",
    "test_error_knn = 1 - test_accuracy_knn\n",
    "print(\"test accuracy of k=3: %.2f and test error of k=3: %.2f \"%(test_accuracy_knn, test_error_knn))"
   ]
  },
  {
   "cell_type": "markdown",
   "metadata": {},
   "source": [
    "### Evaluación del modelo usando varios k\n",
    "\n",
    "\n",
    "Algoritmo:\n",
    "\n",
    "    - Generamos una lista de valores de k para evaluar el test_error\n",
    "    - Evaluamos el test_error explorando los puntos del SET_train y evaluando con los puntos del SET_train\n",
    "    - Evaluamos el test_error explorando los puntos del SET_test_2 y evaluando con los puntos del SET_train\n",
    "    \n",
    "Notar que en ambos casos la evaluacion la hacemos usando los puntos del SET_train, dado que en principio no sabemos los colores del SET_test_2 y es justamente lo que estamos buscando predecir, asi que solo podemos usar la informacion del SET_train\n",
    "\n",
    "### BP: comentario\n",
    "\n",
    "Es excelente la idea de ir imprimiendo los resultados. Solo recomendaria agregar mas informacion, como por ejemplo el valor del test_error. Este tipo de practica se denomina debugging en el contexto de programación"
   ]
  },
  {
   "cell_type": "code",
   "execution_count": 95,
   "metadata": {},
   "outputs": [
    {
     "data": {
      "text/plain": [
       "[1, 3, 5, 7, 9, 11, 13, 15, 17, 19, 21, 23, 25, 27, 29, 31, 33, 35, 37, 39]"
      ]
     },
     "execution_count": 95,
     "metadata": {},
     "output_type": "execute_result"
    }
   ],
   "source": [
    "klist = []\n",
    "\n",
    "for i in range(20):\n",
    "    klist.append(2*i+1)\n",
    "    \n",
    "klist"
   ]
  },
  {
   "cell_type": "code",
   "execution_count": 97,
   "metadata": {},
   "outputs": [
    {
     "name": "stdout",
     "output_type": "stream",
     "text": [
      "k, test_error\n",
      "1, 0.00\n",
      "3, 0.15\n",
      "5, 0.17\n",
      "7, 0.16\n",
      "9, 0.19\n",
      "11, 0.18\n",
      "13, 0.18\n",
      "15, 0.19\n",
      "17, 0.19\n",
      "19, 0.19\n",
      "21, 0.19\n",
      "23, 0.19\n",
      "25, 0.19\n",
      "27, 0.19\n",
      "29, 0.20\n",
      "31, 0.20\n",
      "33, 0.21\n",
      "35, 0.21\n",
      "37, 0.21\n",
      "39, 0.20\n"
     ]
    }
   ],
   "source": [
    "lista_vecinos_train = []           \n",
    "lista_error_train= []         \n",
    "\n",
    "print(\"k, test_error\")\n",
    "\n",
    "for i in klist:\n",
    "    test_error = 1 - accuracy_knn(SET_train, SET_train, i)\n",
    "    print(\"%d, %.2f\"%(i, test_error))  #esto lo puse para ver el avance del programa cuando lo ejecuto\n",
    "    lista_vecinos_train.append(i)\n",
    "    lista_error_train.append(test_error)"
   ]
  },
  {
   "cell_type": "code",
   "execution_count": 96,
   "metadata": {},
   "outputs": [
    {
     "name": "stdout",
     "output_type": "stream",
     "text": [
      "k, test_error\n",
      "1, 0.27\n",
      "3, 0.26\n",
      "5, 0.25\n",
      "7, 0.25\n",
      "9, 0.26\n",
      "11, 0.25\n",
      "13, 0.26\n",
      "15, 0.27\n",
      "17, 0.27\n",
      "19, 0.26\n",
      "21, 0.28\n",
      "23, 0.27\n",
      "25, 0.27\n",
      "27, 0.27\n",
      "29, 0.27\n",
      "31, 0.27\n",
      "33, 0.28\n",
      "35, 0.27\n",
      "37, 0.27\n",
      "39, 0.27\n"
     ]
    }
   ],
   "source": [
    "lista_vecinos_test = []\n",
    "lista_error_test = []\n",
    "\n",
    "print(\"k, test_error\")\n",
    "\n",
    "for i in klist:  #hacemos saltos de a 3 para asimilar lo que sale en el libro\n",
    "    test_error = 1 - accuracy_knn(SET_test_2, SET_train, i)\n",
    "    print(\"%d, %.2f\"%(i, test_error))  #esto lo puse para ver el avance del programa cuando lo hago correr\n",
    "    lista_vecinos_test.append(i)\n",
    "    lista_error_test.append(test_error)"
   ]
  },
  {
   "cell_type": "code",
   "execution_count": 98,
   "metadata": {},
   "outputs": [],
   "source": [
    "lista_vecinos_train = np.array(lista_vecinos_train)\n",
    "lista_error_train = np.array(lista_error_train)\n",
    "\n",
    "lista_vecinos_test = np.array(lista_vecinos_test)\n",
    "lista_error_test = np.array(lista_error_test)"
   ]
  },
  {
   "cell_type": "markdown",
   "metadata": {},
   "source": [
    "### BP: Ahora, veamos el grafico de estos puntos"
   ]
  },
  {
   "cell_type": "code",
   "execution_count": 102,
   "metadata": {},
   "outputs": [
    {
     "data": {
      "image/png": "[encoded data removed]",
      "text/plain": [
       "<Figure size 432x288 with 1 Axes>"
      ]
     },
     "metadata": {
      "needs_background": "light"
     },
     "output_type": "display_data"
    }
   ],
   "source": [
    "plt.plot(lista_vecinos_train,lista_error_train, \"bo-\", label = \"Train Sample\")\n",
    "plt.plot(lista_vecinos_test,lista_error_test,\"ro-\", label = \"Test Sample\")\n",
    "plt.title(\"Gráfico 2.4\")\n",
    "plt.xlabel(\"Número de vecinos (K)\")\n",
    "plt.ylabel(\"Test error\")\n",
    "plt.legend()\n",
    "plt.show()"
   ]
  },
  {
   "cell_type": "code",
   "execution_count": null,
   "metadata": {},
   "outputs": [],
   "source": []
  }
 ],
 "metadata": {
  "kernelspec": {
   "display_name": "Python 3",
   "language": "python",
   "name": "python3"
  },
  "language_info": {
   "codemirror_mode": {
    "name": "ipython",
    "version": 3
   },
   "file_extension": ".py",
   "mimetype": "text/x-python",
   "name": "python",
   "nbconvert_exporter": "python",
   "pygments_lexer": "ipython3",
   "version": "3.7.3"
  }
 },
 "nbformat": 4,
 "nbformat_minor": 2
}
