{
 "cells": [
  {
   "cell_type": "markdown",
   "metadata": {},
   "source": [
    "# Figure 2.1 \"The Elements of Statistical Learning\""
   ]
  },
  {
   "cell_type": "markdown",
   "metadata": {},
   "source": [
    "Inicialmente importamos la libreria necesaria"
   ]
  },
  {
   "cell_type": "code",
   "execution_count": 1,
   "metadata": {},
   "outputs": [],
   "source": [
    "import numpy as np\n",
    "import matplotlib.pyplot as plt\n",
    "import random"
   ]
  },
  {
   "cell_type": "markdown",
   "metadata": {},
   "source": [
    "AC: Lo que queremos es representar el gráfico 2.1 del libro The Elements of Statistical Learning , para lo cual, comenzaré creando una función que me entregue todos los puntos de un gráfico."
   ]
  },
  {
   "cell_type": "code",
   "execution_count": 146,
   "metadata": {},
   "outputs": [],
   "source": [
    "def puntos_grafico(L1,L2,L3,L4,sep): #L1:abscisa(-), L2:abscisa(+), L3:ordenada(-), L4:ordenada(+), sep:separación entre puntos\n",
    "    lista_puntos = []\n",
    "    distancia_horizontal = np.abs(L2-L1)\n",
    "    distancia_vertical = np.abs(L4-L3)\n",
    "    numero_puntos_horizontales = (distancia_horizontal / sep) + 1\n",
    "    numero_puntos_verticales = (distancia_vertical / sep) + 1\n",
    "    pto_referencia = [L1,L3]   #siempre comenzaré desde el punto más negativo\n",
    "    for i in range(int(numero_puntos_horizontales)):\n",
    "        for j in range(int(numero_puntos_verticales)):\n",
    "            lista_puntos.append(pto_referencia)\n",
    "            pto_referencia = [pto_referencia[0],pto_referencia[1] + sep]\n",
    "        pto_referencia = [pto_referencia[0] + sep, L3]\n",
    "    return lista_puntos"
   ]
  },
  {
   "cell_type": "markdown",
   "metadata": {},
   "source": [
    "Probemos"
   ]
  },
  {
   "cell_type": "code",
   "execution_count": 149,
   "metadata": {},
   "outputs": [
    {
     "data": {
      "image/png": "[encoded data removed]",
      "text/plain": [
       "<Figure size 432x288 with 1 Axes>"
      ]
     },
     "metadata": {
      "needs_background": "light"
     },
     "output_type": "display_data"
    }
   ],
   "source": [
    "p=puntos_grafico(-1,4,-2,3,0.2)\n",
    "p=np.array(p)\n",
    "pT= p.transpose()\n",
    "plt.plot(pT[0],pT[1],\"bo\",markersize = 2)\n",
    "plt.show()"
   ]
  },
  {
   "cell_type": "markdown",
   "metadata": {},
   "source": [
    "Ahora podemos reproducir de mejor manera la figura 2.1. Para llevar a cabo esto, primero simularemos los datos que se usarán y luego estos datos, junto con los puntos del plano, serán evaluados en la función predicción. Si el valor de la predicción es mayor a 0.5 el punto será clasificado como rojo, si es menor de 0.5 será azul y si es igual a 0.5 será negro."
   ]
  },
  {
   "cell_type": "markdown",
   "metadata": {},
   "source": [
    "### Simulación de datos"
   ]
  },
  {
   "cell_type": "code",
   "execution_count": 6,
   "metadata": {},
   "outputs": [],
   "source": [
    "def centros_asociados_a_cada_color(color, kcentros):\n",
    "   \n",
    "    centro = np.array([0,0])\n",
    "    covarianza = np.identity(2)\n",
    "    \n",
    "    if color == 0: #azul\n",
    "        centro = np.array([1,0])\n",
    "    \n",
    "    if color == 1: #rojo\n",
    "        centro = np.array([0,1])\n",
    "\n",
    "    lista_de_centros = np.random.multivariate_normal(centro,covarianza,kcentros).T\n",
    "        \n",
    "    return lista_de_centros"
   ]
  },
  {
   "cell_type": "code",
   "execution_count": 7,
   "metadata": {},
   "outputs": [
    {
     "data": {
      "text/plain": [
       "array([[-1.02067764,  0.78567766,  0.76584389,  2.68226819,  2.40361978,\n",
       "         2.02660309,  1.53188178, -0.02463493,  0.79175683,  1.22321159],\n",
       "       [ 1.15063552,  0.20058579, -1.326377  ,  0.43072739,  0.3531115 ,\n",
       "        -0.17181391, -1.36286708, -1.50927919, -2.01694255,  0.75666101]])"
      ]
     },
     "execution_count": 7,
     "metadata": {},
     "output_type": "execute_result"
    }
   ],
   "source": [
    "centros_azul = centros_asociados_a_cada_color(0,10)\n",
    "centros_azul"
   ]
  },
  {
   "cell_type": "code",
   "execution_count": 9,
   "metadata": {},
   "outputs": [
    {
     "data": {
      "text/plain": [
       "array([[-1.36908056, -0.86932438, -1.44195272,  0.85010675, -0.50841266,\n",
       "        -0.26290773,  2.02490733,  0.77800234, -1.34504326,  0.08812223],\n",
       "       [ 1.25090587,  2.40009539,  1.29347229,  1.40544625, -0.27257527,\n",
       "         0.40543138,  0.91475672,  0.99734383,  0.56992601,  1.03401471]])"
      ]
     },
     "execution_count": 9,
     "metadata": {},
     "output_type": "execute_result"
    }
   ],
   "source": [
    "centros_rojo = centros_asociados_a_cada_color(1,10)\n",
    "centros_rojo"
   ]
  },
  {
   "cell_type": "code",
   "execution_count": 10,
   "metadata": {},
   "outputs": [],
   "source": [
    "def visualize_colors(ptos_azul, ptos_rojo):\n",
    "\n",
    "    x1azul = ptos_azul[0]\n",
    "    x2azul = ptos_azul[1]\n",
    "    \n",
    "    x1rojo = ptos_rojo[0]\n",
    "    x2rojo = ptos_rojo[1]\n",
    "    \n",
    "    plt.plot(x1azul,x2azul,\"bo\")\n",
    "    plt.plot(x1rojo,x2rojo,\"ro\")\n",
    "    plt.axis([-5,5,-5,5])\n",
    "    plt.title(\"Distribucion de puntos segun el color\")\n",
    "    plt.show()"
   ]
  },
  {
   "cell_type": "code",
   "execution_count": 11,
   "metadata": {},
   "outputs": [
    {
     "data": {
      "image/png": "[encoded data removed]",
      "text/plain": [
       "<Figure size 432x288 with 1 Axes>"
      ]
     },
     "metadata": {
      "needs_background": "light"
     },
     "output_type": "display_data"
    }
   ],
   "source": [
    "visualize_colors(centros_azul, centros_rojo)"
   ]
  },
  {
   "cell_type": "code",
   "execution_count": 12,
   "metadata": {},
   "outputs": [],
   "source": [
    "def Simulacion_2(centros, N):\n",
    "    \n",
    "    Ncentros = centros.shape[1]\n",
    "    \n",
    "    #Initialize the list of observations \n",
    "    observations = np.zeros((2,N))\n",
    "    \n",
    "    #we first define the global value of the covariance\n",
    "    covarianza = np.identity(2)/5\n",
    "       \n",
    "    #hacemos un loop entre 0 y N-1 para generar todos las observaciones requeridas\n",
    "    \n",
    "    for obs in range(0,N):\n",
    "        #generamos un numero aleatorio entre 0 y 9 para escoger el centro de nuestra gaussiana bivariada\n",
    "        indice_del_centro = random.randint(0, Ncentros-1)\n",
    "        \n",
    "        xcentro = centros[0,indice_del_centro]\n",
    "        ycentro = centros[1,indice_del_centro]\n",
    "        \n",
    "        mk_centro = np.array([xcentro, ycentro])\n",
    "        \n",
    "        centro_aux = np.random.multivariate_normal(mk_centro,covarianza,1).T\n",
    "    \n",
    "        observations[0,obs] = centro_aux[0,0]\n",
    "        observations[1,obs] = centro_aux[1,0]\n",
    "    \n",
    "    return observations"
   ]
  },
  {
   "cell_type": "code",
   "execution_count": 13,
   "metadata": {},
   "outputs": [],
   "source": [
    "ptos_observados_azul =  Simulacion_2(centros_azul, 100)\n",
    "ptos_observados_rojo =  Simulacion_2(centros_rojo, 100)"
   ]
  },
  {
   "cell_type": "code",
   "execution_count": 14,
   "metadata": {},
   "outputs": [
    {
     "data": {
      "image/png": "[encoded data removed]",
      "text/plain": [
       "<Figure size 432x288 with 1 Axes>"
      ]
     },
     "metadata": {
      "needs_background": "light"
     },
     "output_type": "display_data"
    }
   ],
   "source": [
    "visualize_colors(ptos_observados_azul, ptos_observados_rojo)"
   ]
  },
  {
   "cell_type": "markdown",
   "metadata": {},
   "source": [
    "Ahora generamos el SET que utilizaremos para la predicción"
   ]
  },
  {
   "cell_type": "code",
   "execution_count": 16,
   "metadata": {},
   "outputs": [],
   "source": [
    "SET=[]\n",
    "\n",
    "#Notar que estoy (BP) utilizando los puntos generados con la distribucion de gaussianas mezcladas. Ademas, \n",
    "#vamos a agregar directamente el valor de x0 al SET, por lo mencionado anteriormente. Ver notas adjuntas\n",
    "\n",
    "#primero agregamos los vectores correspondientes a la distribución gaussiana azul (y=0) a la lista SET. \n",
    "x1azul = ptos_observados_azul[0,:]\n",
    "x2azul = ptos_observados_azul[1,:]\n",
    "\n",
    "x1rojo = ptos_observados_rojo[0,:]\n",
    "x2rojo = ptos_observados_rojo[1,:]\n",
    "\n",
    "for i in range(len(x1azul)):\n",
    "    SET.append([1,x1azul[i],x2azul[i],0])\n",
    "\n",
    "#Ahora agregamos los correspondientes a y=1 (distribución normal roja)\n",
    "for i in range(len(x1rojo)):\n",
    "    SET.append([1,x1rojo[i],x2rojo[i],1])"
   ]
  },
  {
   "cell_type": "code",
   "execution_count": 30,
   "metadata": {},
   "outputs": [],
   "source": [
    "X=[]\n",
    "\n",
    "#notice that now we have to put SET[i][1] y SET[i][2] en las componentes x1 y x2 de X\n",
    "#on the other hand Y = SET[i][3]\n",
    "for i in range(len(SET)):\n",
    "    X.append([1,SET[i][1],SET[i][2]])\n",
    "\n",
    "Y=[]\n",
    "for i in range(len(SET)):\n",
    "    Y.append(SET[i][3])\n",
    "\n",
    "X=np.array(X)                     \n",
    "Y=np.array(Y)\n",
    "\n",
    "XT=X.transpose()"
   ]
  },
  {
   "cell_type": "code",
   "execution_count": 31,
   "metadata": {},
   "outputs": [],
   "source": [
    "XTdotX = np.dot(XT,X)\n",
    "XTdotX_inversa = np.linalg.inv(XTdotX)\n",
    "XTdotX_inversa_dotXT = np.dot(XTdotX_inversa, XT)"
   ]
  },
  {
   "cell_type": "code",
   "execution_count": 32,
   "metadata": {},
   "outputs": [
    {
     "name": "stdout",
     "output_type": "stream",
     "text": [
      "[ 0.54969324 -0.1746902   0.1909816 ]\n"
     ]
    }
   ],
   "source": [
    "beta_teorico = np.dot(XTdotX_inversa_dotXT,Y)\n",
    "print(beta_teorico)"
   ]
  },
  {
   "cell_type": "code",
   "execution_count": 33,
   "metadata": {},
   "outputs": [],
   "source": [
    "def funcion_lineal(x1, x2, beta): \n",
    "    \n",
    "    y_prediccion = beta[0] + x1*beta[1] + x2*beta[2]\n",
    "    return y_prediccion  "
   ]
  },
  {
   "cell_type": "code",
   "execution_count": 125,
   "metadata": {},
   "outputs": [],
   "source": [
    "lista_de_predicciones_azul = []\n",
    "lista_de_predicciones_rojo = []\n",
    "\n",
    "for pto in range(len(SET)):\n",
    "    \n",
    "    #prediccion de la funcion lineal como funcion de la posicion en el plano 2d y el valor teorico de beta\n",
    "    #el cual se encontro minimizando algebraicamente RSS()\n",
    "\n",
    "    prediccion = funcion_lineal(SET[pto][1], SET[pto][2], beta_teorico)\n",
    "\n",
    "    #Utilizando el valor de la prediccion separamos entre puntos azules y rojos\n",
    "    \n",
    "    if (prediccion < 0.5):\n",
    "        lista_de_predicciones_azul.append([SET[pto][1], SET[pto][2]])\n",
    "    elif (prediccion == 0.5): #esto lo puse solo para ver si es que algún punto de la simulación debía ser catalogado como negro\n",
    "        print(\"tenemos puntos negros\")\n",
    "    else:\n",
    "        lista_de_predicciones_rojo.append([SET[pto][1], SET[pto][2]])"
   ]
  },
  {
   "cell_type": "code",
   "execution_count": 42,
   "metadata": {},
   "outputs": [],
   "source": [
    "lista_de_predicciones_azul = np.array(lista_de_predicciones_azul)\n",
    "lista_de_predicciones_azul_t = lista_de_predicciones_azul.transpose()\n",
    "lista_de_predicciones_rojo = np.array(lista_de_predicciones_rojo)\n",
    "lista_de_predicciones_rojo_t = lista_de_predicciones_rojo.transpose()"
   ]
  },
  {
   "cell_type": "code",
   "execution_count": 43,
   "metadata": {},
   "outputs": [
    {
     "data": {
      "image/png": "[encoded data removed]",
      "text/plain": [
       "<Figure size 432x288 with 1 Axes>"
      ]
     },
     "metadata": {
      "needs_background": "light"
     },
     "output_type": "display_data"
    }
   ],
   "source": [
    "visualize_colors(lista_de_predicciones_azul_t, lista_de_predicciones_rojo_t)"
   ]
  },
  {
   "cell_type": "markdown",
   "metadata": {},
   "source": [
    "Ok, ahora falta que aparezcan todos los puntos de ese plano y la linea negra que representa cuando la predicción es igual (o similar) a 0.5"
   ]
  },
  {
   "cell_type": "markdown",
   "metadata": {},
   "source": [
    "### Incorporación de los puntos del plano\n",
    "\n",
    "Para comenzar, generaré un nuevo SET que estará compuesto por todos los puntos del gráfico en estudio"
   ]
  },
  {
   "cell_type": "code",
   "execution_count": 114,
   "metadata": {},
   "outputs": [
    {
     "name": "stdout",
     "output_type": "stream",
     "text": [
      "<class 'list'> 2601\n"
     ]
    }
   ],
   "source": [
    "SET_plano= puntos_grafico(-5,5,-5,5,0.2) #esto me entrega una lista con los puntos que viven en el plano, separados en 0.2\n",
    "print(type(SET_plano),len(SET_plano))"
   ]
  },
  {
   "cell_type": "code",
   "execution_count": 115,
   "metadata": {},
   "outputs": [],
   "source": [
    "SET_plano_t = np.array(SET_plano).transpose()"
   ]
  },
  {
   "cell_type": "markdown",
   "metadata": {},
   "source": [
    "Ahora podemos evaluar cada punto del plano en funcion_lineal() y ver si es mayor (será rojo), menor (será azul) o igual a 0.5 (será negro). Lamentablemente, ningún punto del plano, al pasar por la función funcion_lineal() me da un valor EXACTO de 0.5, por lo que ninguno de mis puntos está siendo clasificado como negro. Para arreglar esta situación puse un \"margen de error\" de 0.3, es decir, los puntos cuyas predicciones estuvieron entre 0.49 y 0.51 fueron clasificados como negros. "
   ]
  },
  {
   "cell_type": "code",
   "execution_count": 174,
   "metadata": {},
   "outputs": [],
   "source": [
    "lista_de_predicciones_azul_plano = []\n",
    "lista_de_predicciones_rojo_plano = []\n",
    "lista_de_predicciones_negro_plano = []\n",
    "\n",
    "for pto in range(len(SET_plano)):\n",
    "    \n",
    "    prediccion = funcion_lineal(SET_plano[pto][0],SET_plano[pto][1],beta_teorico)\n",
    "    \n",
    "    if (prediccion <= 0.49):\n",
    "        lista_de_predicciones_azul_plano.append([SET_plano[pto][0], SET_plano[pto][1]])\n",
    "        \n",
    "    elif (0.49 < prediccion < 0.51):        #margen de error\n",
    "        lista_de_predicciones_negro_plano.append([SET_plano[pto][0], SET_plano[pto][1]])\n",
    "        \n",
    "    else:\n",
    "        lista_de_predicciones_rojo_plano.append([SET_plano[pto][0], SET_plano[pto][1]])\n"
   ]
  },
  {
   "cell_type": "code",
   "execution_count": 175,
   "metadata": {},
   "outputs": [],
   "source": [
    "lista_de_predicciones_azul_plano = np.array(lista_de_predicciones_azul_plano)\n",
    "lista_de_predicciones_rojo_plano = np.array(lista_de_predicciones_rojo_plano)\n",
    "lista_de_predicciones_negro_plano = np.array(lista_de_predicciones_negro_plano)"
   ]
  },
  {
   "cell_type": "code",
   "execution_count": 176,
   "metadata": {},
   "outputs": [],
   "source": [
    "lista_de_predicciones_azul_plano_t = lista_de_predicciones_azul_plano.transpose()\n",
    "lista_de_predicciones_rojo_plano_t = lista_de_predicciones_rojo_plano.transpose()\n",
    "lista_de_predicciones_negro_plano_t = lista_de_predicciones_negro_plano.transpose()"
   ]
  },
  {
   "cell_type": "markdown",
   "metadata": {},
   "source": [
    "Ahora modificaré un poco la función visualize_colors(), para que esta me pueda graficar todos los puntos del gráfico y los del SET original al mismo tiempo, pero con puntos de diferente tamaños."
   ]
  },
  {
   "cell_type": "code",
   "execution_count": 181,
   "metadata": {},
   "outputs": [],
   "source": [
    "def visualize_colors_new(ptos_azul, ptos_rojo, ptos_azul_plano,ptos_rojo_plano,ptos_negro_plano):\n",
    "\n",
    "    if len(ptos_azul_plano)==0 and len(ptos_rojo_plano)==0 and len(ptos_negro_plano)==0 : #en este caso estamos frente a la \n",
    "        x1azul = ptos_azul[0]                                                             #funcion visualize_colors() original\n",
    "        x2azul = ptos_azul[1]\n",
    "    \n",
    "        x1rojo = ptos_rojo[0]\n",
    "        x2rojo = ptos_rojo[1]\n",
    "    \n",
    "        plt.plot(x1azul,x2azul,\"bo\")\n",
    "        plt.plot(x1rojo,x2rojo,\"ro\")\n",
    "        plt.axis([-5,5,-5,5])\n",
    "        plt.title(\"Distribucion de puntos segun el color\")\n",
    "        plt.show()\n",
    "    \n",
    "    else:\n",
    "        x1azul = ptos_azul[0]\n",
    "        x2azul = ptos_azul[1]\n",
    "        x1rojo = ptos_rojo[0]\n",
    "        x2rojo = ptos_rojo[1]\n",
    "        \n",
    "        x1azul_plano = ptos_azul_plano[0]\n",
    "        x2azul_plano = ptos_azul_plano[1]\n",
    "        x1rojo_plano = ptos_rojo_plano[0]\n",
    "        x2rojo_plano = ptos_rojo_plano[1]\n",
    "        x1negro_plano = ptos_negro_plano[0]\n",
    "        x2negro_plano = ptos_negro_plano[1]\n",
    "        \n",
    "    \n",
    "        plt.plot(x1azul,x2azul,\"bo\")\n",
    "        plt.plot(x1rojo,x2rojo,\"ro\")\n",
    "        plt.plot(x1azul_plano,x2azul_plano,\"bo\",markersize=1)\n",
    "        plt.plot(x1rojo_plano,x2rojo_plano,\"ro\",markersize=1)\n",
    "        plt.plot(x1negro_plano,x2negro_plano,\"ko\",markersize=1)\n",
    "        plt.axis([-5,5,-5,5])\n",
    "        plt.title(\"Distribucion de puntos segun el color\")\n",
    "        plt.show()"
   ]
  },
  {
   "cell_type": "markdown",
   "metadata": {},
   "source": [
    "Probemos la función "
   ]
  },
  {
   "cell_type": "code",
   "execution_count": 182,
   "metadata": {},
   "outputs": [
    {
     "data": {
      "image/png": "[encoded data removed]",
      "text/plain": [
       "<Figure size 432x288 with 1 Axes>"
      ]
     },
     "metadata": {
      "needs_background": "light"
     },
     "output_type": "display_data"
    }
   ],
   "source": [
    "visualize_colors_new(lista_de_predicciones_azul_t, lista_de_predicciones_rojo_t,[],[],[])"
   ]
  },
  {
   "cell_type": "code",
   "execution_count": 183,
   "metadata": {},
   "outputs": [
    {
     "data": {
      "image/png": "[encoded data removed]",
      "text/plain": [
       "<Figure size 432x288 with 1 Axes>"
      ]
     },
     "metadata": {
      "needs_background": "light"
     },
     "output_type": "display_data"
    }
   ],
   "source": [
    "visualize_colors_new(lista_de_predicciones_azul_t, lista_de_predicciones_rojo_t,lista_de_predicciones_azul_plano_t,lista_de_predicciones_rojo_plano_t,lista_de_predicciones_negro_plano_t)"
   ]
  },
  {
   "cell_type": "code",
   "execution_count": null,
   "metadata": {},
   "outputs": [],
   "source": []
  },
  {
   "cell_type": "code",
   "execution_count": null,
   "metadata": {},
   "outputs": [],
   "source": []
  }
 ],
 "metadata": {
  "kernelspec": {
   "display_name": "Python 3",
   "language": "python",
   "name": "python3"
  },
  "language_info": {
   "codemirror_mode": {
    "name": "ipython",
    "version": 3
   },
   "file_extension": ".py",
   "mimetype": "text/x-python",
   "name": "python",
   "nbconvert_exporter": "python",
   "pygments_lexer": "ipython3",
   "version": "3.7.3"
  }
 },
 "nbformat": 4,
 "nbformat_minor": 2
}
